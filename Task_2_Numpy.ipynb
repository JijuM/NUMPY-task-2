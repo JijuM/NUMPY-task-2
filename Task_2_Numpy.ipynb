{
  "cells": [
    {
      "cell_type": "markdown",
      "metadata": {
        "id": "view-in-github",
        "colab_type": "text"
      },
      "source": [
        "<a href=\"https://colab.research.google.com/github/JijuM/NUMPY-task-2-GUVI/blob/main/Task_2_Numpy.ipynb\" target=\"_parent\"><img src=\"https://colab.research.google.com/assets/colab-badge.svg\" alt=\"Open In Colab\"/></a>"
      ]
    },
    {
      "cell_type": "markdown",
      "metadata": {
        "id": "lVTMijTqXSzO"
      },
      "source": [
        "# Numpy\n",
        "\n"
      ]
    },
    {
      "cell_type": "markdown",
      "metadata": {
        "id": "QaAg-9vqXSzp"
      },
      "source": [
        "#### 1. Import the numpy package under the name `np` (★☆☆) \n",
        "(**hint**: import … as …)"
      ]
    },
    {
      "cell_type": "code",
      "execution_count": 3,
      "metadata": {
        "collapsed": true,
        "id": "SlZ4JlTLXSzu"
      },
      "outputs": [],
      "source": [
        "import numpy as np"
      ]
    },
    {
      "cell_type": "markdown",
      "metadata": {
        "id": "_1-u8l5dXSzv"
      },
      "source": [
        "#### 2. Print the numpy version and the configuration (★☆☆) \n",
        "(**hint**: np.\\_\\_version\\_\\_, np.show\\_config)"
      ]
    },
    {
      "cell_type": "code",
      "execution_count": 4,
      "metadata": {
        "id": "AHHNV1CSXSzw",
        "colab": {
          "base_uri": "https://localhost:8080/"
        },
        "outputId": "11bc5bff-2cbc-4ade-ec36-9d635d20a797"
      },
      "outputs": [
        {
          "output_type": "stream",
          "name": "stdout",
          "text": [
            "1.21.6\n",
            "blas_mkl_info:\n",
            "  NOT AVAILABLE\n",
            "blis_info:\n",
            "  NOT AVAILABLE\n",
            "openblas_info:\n",
            "    libraries = ['openblas', 'openblas']\n",
            "    library_dirs = ['/usr/local/lib']\n",
            "    language = c\n",
            "    define_macros = [('HAVE_CBLAS', None)]\n",
            "    runtime_library_dirs = ['/usr/local/lib']\n",
            "blas_opt_info:\n",
            "    libraries = ['openblas', 'openblas']\n",
            "    library_dirs = ['/usr/local/lib']\n",
            "    language = c\n",
            "    define_macros = [('HAVE_CBLAS', None)]\n",
            "    runtime_library_dirs = ['/usr/local/lib']\n",
            "lapack_mkl_info:\n",
            "  NOT AVAILABLE\n",
            "openblas_lapack_info:\n",
            "    libraries = ['openblas', 'openblas']\n",
            "    library_dirs = ['/usr/local/lib']\n",
            "    language = c\n",
            "    define_macros = [('HAVE_CBLAS', None)]\n",
            "    runtime_library_dirs = ['/usr/local/lib']\n",
            "lapack_opt_info:\n",
            "    libraries = ['openblas', 'openblas']\n",
            "    library_dirs = ['/usr/local/lib']\n",
            "    language = c\n",
            "    define_macros = [('HAVE_CBLAS', None)]\n",
            "    runtime_library_dirs = ['/usr/local/lib']\n",
            "Supported SIMD extensions in this NumPy install:\n",
            "    baseline = SSE,SSE2,SSE3\n",
            "    found = SSSE3,SSE41,POPCNT,SSE42,AVX,F16C,FMA3,AVX2\n",
            "    not found = AVX512F,AVX512CD,AVX512_KNL,AVX512_KNM,AVX512_SKX,AVX512_CLX,AVX512_CNL,AVX512_ICL\n",
            "None\n"
          ]
        }
      ],
      "source": [
        "print(np.__version__)\n",
        "print(np.show_config())"
      ]
    },
    {
      "cell_type": "markdown",
      "metadata": {
        "id": "VHPec5mWXSzx"
      },
      "source": [
        "#### 3. Create a null vector of size 10 (★☆☆) \n",
        "(**hint**: np.zeros)"
      ]
    },
    {
      "cell_type": "code",
      "execution_count": 7,
      "metadata": {
        "id": "F_DhddeoXSzy",
        "colab": {
          "base_uri": "https://localhost:8080/"
        },
        "outputId": "6e2b5af3-b074-482e-9f4c-ce91e9ea1c4d"
      },
      "outputs": [
        {
          "output_type": "stream",
          "name": "stdout",
          "text": [
            "[0. 0. 0. 0. 0. 0. 0. 0. 0. 0.]\n"
          ]
        }
      ],
      "source": [
        "L=np.zeros(10)\n",
        "\n",
        "print(L)"
      ]
    },
    {
      "cell_type": "markdown",
      "metadata": {
        "id": "pbJxLDprXSz0"
      },
      "source": [
        "#### 4.  How to find the memory size of any array (★☆☆) \n",
        "(**hint**: size, itemsize)"
      ]
    },
    {
      "cell_type": "code",
      "execution_count": 11,
      "metadata": {
        "id": "VuutD1uYXSz1",
        "colab": {
          "base_uri": "https://localhost:8080/"
        },
        "outputId": "b5311c53-2aaa-4ea7-e2e9-af1aaf7eba95"
      },
      "outputs": [
        {
          "output_type": "stream",
          "name": "stdout",
          "text": [
            "3\n",
            "8\n",
            "24\n"
          ]
        }
      ],
      "source": [
        "L=np.array([100,200,300])\n",
        "print(L.size)\n",
        "print(L.itemsize)\n",
        "print(L.size*L.itemsize)"
      ]
    },
    {
      "cell_type": "markdown",
      "metadata": {
        "id": "snwA2nIoXSz1"
      },
      "source": [
        "#### 5.  How to get the documentation of the numpy add function from the command line? (★☆☆) \n",
        "(**hint**: np.info)"
      ]
    },
    {
      "cell_type": "code",
      "execution_count": 12,
      "metadata": {
        "collapsed": true,
        "id": "TR3_7EVPXSz3",
        "colab": {
          "base_uri": "https://localhost:8080/"
        },
        "outputId": "56b57d9d-4067-4f6e-eaef-ae78bedb2bb2"
      },
      "outputs": [
        {
          "output_type": "stream",
          "name": "stdout",
          "text": [
            "add(x1, x2, /, out=None, *, where=True, casting='same_kind', order='K', dtype=None, subok=True[, signature, extobj])\n",
            "\n",
            "Add arguments element-wise.\n",
            "\n",
            "Parameters\n",
            "----------\n",
            "x1, x2 : array_like\n",
            "    The arrays to be added.\n",
            "    If ``x1.shape != x2.shape``, they must be broadcastable to a common\n",
            "    shape (which becomes the shape of the output).\n",
            "out : ndarray, None, or tuple of ndarray and None, optional\n",
            "    A location into which the result is stored. If provided, it must have\n",
            "    a shape that the inputs broadcast to. If not provided or None,\n",
            "    a freshly-allocated array is returned. A tuple (possible only as a\n",
            "    keyword argument) must have length equal to the number of outputs.\n",
            "where : array_like, optional\n",
            "    This condition is broadcast over the input. At locations where the\n",
            "    condition is True, the `out` array will be set to the ufunc result.\n",
            "    Elsewhere, the `out` array will retain its original value.\n",
            "    Note that if an uninitialized `out` array is created via the default\n",
            "    ``out=None``, locations within it where the condition is False will\n",
            "    remain uninitialized.\n",
            "**kwargs\n",
            "    For other keyword-only arguments, see the\n",
            "    :ref:`ufunc docs <ufuncs.kwargs>`.\n",
            "\n",
            "Returns\n",
            "-------\n",
            "add : ndarray or scalar\n",
            "    The sum of `x1` and `x2`, element-wise.\n",
            "    This is a scalar if both `x1` and `x2` are scalars.\n",
            "\n",
            "Notes\n",
            "-----\n",
            "Equivalent to `x1` + `x2` in terms of array broadcasting.\n",
            "\n",
            "Examples\n",
            "--------\n",
            ">>> np.add(1.0, 4.0)\n",
            "5.0\n",
            ">>> x1 = np.arange(9.0).reshape((3, 3))\n",
            ">>> x2 = np.arange(3.0)\n",
            ">>> np.add(x1, x2)\n",
            "array([[  0.,   2.,   4.],\n",
            "       [  3.,   5.,   7.],\n",
            "       [  6.,   8.,  10.]])\n",
            "\n",
            "The ``+`` operator can be used as a shorthand for ``np.add`` on ndarrays.\n",
            "\n",
            ">>> x1 = np.arange(9.0).reshape((3, 3))\n",
            ">>> x2 = np.arange(3.0)\n",
            ">>> x1 + x2\n",
            "array([[ 0.,  2.,  4.],\n",
            "       [ 3.,  5.,  7.],\n",
            "       [ 6.,  8., 10.]])\n",
            "None\n"
          ]
        }
      ],
      "source": [
        "print(np.info(np.add))"
      ]
    },
    {
      "cell_type": "markdown",
      "metadata": {
        "id": "D-hHwEAWXSz3"
      },
      "source": [
        "#### 6.  Create a null vector of size 10 but the fifth value which is 1 (★☆☆) \n",
        "(**hint**: array\\[4\\])"
      ]
    },
    {
      "cell_type": "code",
      "execution_count": 19,
      "metadata": {
        "id": "GdvDbtRwXSz4",
        "colab": {
          "base_uri": "https://localhost:8080/"
        },
        "outputId": "a7116a53-a74f-4d37-eabc-a395d8281604"
      },
      "outputs": [
        {
          "output_type": "stream",
          "name": "stdout",
          "text": [
            "[0. 0. 0. 0. 1. 0. 0. 0. 0. 0.]\n"
          ]
        }
      ],
      "source": [
        "L=np.zeros(10)\n",
        "L[4]=1\n",
        "print(L)\n"
      ]
    },
    {
      "cell_type": "markdown",
      "metadata": {
        "id": "-HwVz4K9XSz5"
      },
      "source": [
        "#### 7.  Create a vector with values ranging from 10 to 49 (★☆☆) \n",
        "(**hint**: np.arange)"
      ]
    },
    {
      "cell_type": "code",
      "execution_count": 29,
      "metadata": {
        "id": "dMcUvAeuXSz5",
        "colab": {
          "base_uri": "https://localhost:8080/"
        },
        "outputId": "a4f0c962-b327-47ea-bb14-dba05a6a996a"
      },
      "outputs": [
        {
          "output_type": "execute_result",
          "data": {
            "text/plain": [
              "array([10, 11, 12, 13, 14, 15, 16, 17, 18, 19, 20, 21, 22, 23, 24, 25, 26,\n",
              "       27, 28, 29, 30, 31, 32, 33, 34, 35, 36, 37, 38, 39, 40, 41, 42, 43,\n",
              "       44, 45, 46, 47, 48, 49])"
            ]
          },
          "metadata": {},
          "execution_count": 29
        }
      ],
      "source": [
        "X=np.arange(10,50)\n",
        "X\n"
      ]
    },
    {
      "cell_type": "markdown",
      "metadata": {
        "id": "Y9Vu6uHlXSz6"
      },
      "source": [
        "#### 8.  Reverse a vector (first element becomes last) (★☆☆) \n",
        "(**hint**: array\\[::-1\\])"
      ]
    },
    {
      "cell_type": "code",
      "execution_count": 30,
      "metadata": {
        "id": "X1Ad1SscXSz7",
        "colab": {
          "base_uri": "https://localhost:8080/"
        },
        "outputId": "4d3d2d47-778d-496c-f9bf-fd368fb5504a"
      },
      "outputs": [
        {
          "output_type": "execute_result",
          "data": {
            "text/plain": [
              "array([49, 48, 47, 46, 45, 44, 43, 42, 41, 40, 39, 38, 37, 36, 35, 34, 33,\n",
              "       32, 31, 30, 29, 28, 27, 26, 25, 24, 23, 22, 21, 20, 19, 18, 17, 16,\n",
              "       15, 14, 13, 12, 11, 10])"
            ]
          },
          "metadata": {},
          "execution_count": 30
        }
      ],
      "source": [
        "X[::-1]"
      ]
    },
    {
      "cell_type": "markdown",
      "metadata": {
        "id": "R1-2ZeerXSz7"
      },
      "source": [
        "#### 9.  Create a 3x3 matrix with values ranging from 0 to 8 (★☆☆) \n",
        "(**hint**: reshape)"
      ]
    },
    {
      "cell_type": "code",
      "execution_count": 31,
      "metadata": {
        "id": "8aK3j4maXSz8",
        "colab": {
          "base_uri": "https://localhost:8080/"
        },
        "outputId": "098dd458-e7dc-4d48-879a-1068dcc42894"
      },
      "outputs": [
        {
          "output_type": "stream",
          "name": "stdout",
          "text": [
            "[[0 1 2]\n",
            " [3 4 5]\n",
            " [6 7 8]]\n"
          ]
        }
      ],
      "source": [
        "import numpy as np\n",
        "x =  np.arange(0, 9).reshape(3,3)\n",
        "print(x)"
      ]
    },
    {
      "cell_type": "markdown",
      "metadata": {
        "id": "qaF8b4BQXSz9"
      },
      "source": [
        "#### 10. Find indices of non-zero elements from \\[1,2,0,0,4,0\\] (★☆☆) \n",
        "(**hint**: np.nonzero)"
      ]
    },
    {
      "cell_type": "code",
      "execution_count": 35,
      "metadata": {
        "id": "ZkchKpV5XSz9",
        "colab": {
          "base_uri": "https://localhost:8080/"
        },
        "outputId": "9ca59539-2339-4392-8e0b-12921a911831"
      },
      "outputs": [
        {
          "output_type": "stream",
          "name": "stdout",
          "text": [
            "(array([0, 1, 4]),)\n"
          ]
        }
      ],
      "source": [
        "L=np.array([1,2,0,0,4,0])\n",
        "X=np.nonzero(L)\n",
        "print(X)"
      ]
    },
    {
      "cell_type": "markdown",
      "metadata": {
        "id": "okM-vjbPXSz-"
      },
      "source": [
        "#### 11. Create a 3x3 identity matrix (★☆☆) \n",
        "(**hint**: np.eye)"
      ]
    },
    {
      "cell_type": "code",
      "execution_count": 37,
      "metadata": {
        "id": "zymvHJJLXSz_",
        "colab": {
          "base_uri": "https://localhost:8080/"
        },
        "outputId": "c9e8bda0-635c-4219-dd58-c8b9302f6c62"
      },
      "outputs": [
        {
          "output_type": "execute_result",
          "data": {
            "text/plain": [
              "array([[1., 0., 0.],\n",
              "       [0., 1., 0.],\n",
              "       [0., 0., 1.]])"
            ]
          },
          "metadata": {},
          "execution_count": 37
        }
      ],
      "source": [
        "Matrix=np.identity(3)\n",
        "Matrix"
      ]
    },
    {
      "cell_type": "markdown",
      "metadata": {
        "id": "Y9z2219LXS0F"
      },
      "source": [
        "#### 12. Create a 3x3x3 array with random values (★☆☆) \n",
        "(**hint**: np.random.random)"
      ]
    },
    {
      "cell_type": "code",
      "execution_count": 47,
      "metadata": {
        "collapsed": true,
        "id": "ZY7OgfaiXS0L",
        "colab": {
          "base_uri": "https://localhost:8080/"
        },
        "outputId": "4fcdba75-95f9-424d-a9d6-9c6b781d033a"
      },
      "outputs": [
        {
          "output_type": "execute_result",
          "data": {
            "text/plain": [
              "array([[0.78793783, 0.96960932, 0.88369173],\n",
              "       [0.64124673, 0.23164393, 0.6505264 ],\n",
              "       [0.25949068, 0.33924667, 0.82091455]])"
            ]
          },
          "metadata": {},
          "execution_count": 47
        }
      ],
      "source": [
        "Matrix=np.array(np.random.random(9)).reshape(3,3)\n",
        "Matrix\n"
      ]
    },
    {
      "cell_type": "markdown",
      "metadata": {
        "id": "837698csXS0N"
      },
      "source": [
        "#### 13. Create a 10x10 array with random values and find the minimum and maximum values (★☆☆) \n",
        "(**hint**: min, max)"
      ]
    },
    {
      "cell_type": "code",
      "execution_count": 51,
      "metadata": {
        "id": "xA5htB-CXS0O",
        "colab": {
          "base_uri": "https://localhost:8080/"
        },
        "outputId": "d10dd74f-43fc-4829-e78d-60ba89eb063b"
      },
      "outputs": [
        {
          "output_type": "stream",
          "name": "stdout",
          "text": [
            "0.025291710948078583\n",
            "0.9939965378942511\n"
          ]
        },
        {
          "output_type": "execute_result",
          "data": {
            "text/plain": [
              "array([[0.10335943, 0.65445825, 0.49874672, 0.30902847, 0.82891701,\n",
              "        0.4663836 , 0.55120399, 0.2591808 , 0.82432984, 0.98896656],\n",
              "       [0.57546573, 0.04115915, 0.36259082, 0.39487871, 0.71251471,\n",
              "        0.72109701, 0.3909972 , 0.18650649, 0.73635646, 0.69201543],\n",
              "       [0.06619949, 0.6374657 , 0.34636344, 0.90166831, 0.05350223,\n",
              "        0.21177129, 0.02529171, 0.82334244, 0.65334451, 0.0419963 ],\n",
              "       [0.57293696, 0.44398344, 0.50346983, 0.09873103, 0.25048808,\n",
              "        0.07552548, 0.76929278, 0.49125775, 0.95363275, 0.69580654],\n",
              "       [0.51015972, 0.53314742, 0.90440113, 0.27004313, 0.89201783,\n",
              "        0.67199931, 0.05058371, 0.19678315, 0.08656366, 0.32467773],\n",
              "       [0.15224056, 0.86939127, 0.77453959, 0.85902375, 0.93321261,\n",
              "        0.33990328, 0.81232359, 0.99024539, 0.40171463, 0.98107731],\n",
              "       [0.36163872, 0.1579421 , 0.44650031, 0.43083598, 0.69855262,\n",
              "        0.50885514, 0.44696706, 0.70066765, 0.49200357, 0.66365131],\n",
              "       [0.05983629, 0.26562875, 0.45571456, 0.65479228, 0.15654633,\n",
              "        0.46489043, 0.90077774, 0.0678748 , 0.7879612 , 0.44786749],\n",
              "       [0.85556281, 0.49435657, 0.28456037, 0.10546677, 0.92833506,\n",
              "        0.05615979, 0.36180261, 0.19741702, 0.40956244, 0.49799962],\n",
              "       [0.99399654, 0.92429946, 0.59273168, 0.76719519, 0.59226404,\n",
              "        0.71760638, 0.66570301, 0.34770194, 0.19366364, 0.82434406]])"
            ]
          },
          "metadata": {},
          "execution_count": 51
        }
      ],
      "source": [
        "Matrix=np.array(np.random.random(100)).reshape(10,10)\n",
        "print(Matrix.min())\n",
        "print(Matrix.max())\n",
        "Matrix"
      ]
    },
    {
      "cell_type": "markdown",
      "metadata": {
        "id": "GufV2DV-XS0O"
      },
      "source": [
        "#### 14. Create a random vector of size 30 and find the mean value (★☆☆) \n",
        "(**hint**: mean)"
      ]
    },
    {
      "cell_type": "code",
      "execution_count": 54,
      "metadata": {
        "id": "QywaeZU-XS0P",
        "colab": {
          "base_uri": "https://localhost:8080/"
        },
        "outputId": "1bfb6898-ae10-4d4c-d03a-27d05f76abef"
      },
      "outputs": [
        {
          "output_type": "stream",
          "name": "stdout",
          "text": [
            "0.49937976488073677\n",
            "[0.99603349 0.693987   0.51808111 0.54118394 0.38362266 0.95742326\n",
            " 0.41786891 0.31357124 0.41033224 0.63801882 0.76787531 0.76249525\n",
            " 0.03488928 0.8827643  0.00675334 0.14613572 0.24407449 0.04486537\n",
            " 0.2513148  0.3318571  0.72704601 0.18980333 0.5963418  0.21959104\n",
            " 0.9146647  0.10042214 0.37102773 0.7834056  0.77486795 0.96107501]\n"
          ]
        }
      ],
      "source": [
        "A=np.array(np.random.random(30))\n",
        "print(np.mean(A))\n",
        "print(A)"
      ]
    },
    {
      "cell_type": "markdown",
      "metadata": {
        "id": "Te7y3ILrXS0Q"
      },
      "source": [
        "#### 15. Create a 2d array with 1 on the border and 0 inside (★☆☆) \n",
        "(**hint**: array\\[1:-1, 1:-1\\])"
      ]
    },
    {
      "cell_type": "code",
      "execution_count": 68,
      "metadata": {
        "id": "zo3oURSGXS0Q",
        "colab": {
          "base_uri": "https://localhost:8080/"
        },
        "outputId": "0fd8daa9-0cc0-4ce4-cbb0-28337c42f421"
      },
      "outputs": [
        {
          "output_type": "stream",
          "name": "stdout",
          "text": [
            "[[1. 1. 1. 1. 1.]\n",
            " [1. 0. 0. 0. 1.]\n",
            " [1. 0. 0. 0. 1.]\n",
            " [1. 0. 0. 0. 1.]\n",
            " [1. 1. 1. 1. 1.]]\n"
          ]
        }
      ],
      "source": [
        "X = np.ones((5,5))\n",
        "X\n",
        "X[1:-1,1:-1]=0\n",
        "print(X)"
      ]
    },
    {
      "cell_type": "markdown",
      "metadata": {
        "id": "BYHd7WT7XS0T"
      },
      "source": [
        "#### 16. How to add a border (filled with 0's) around an existing array? (★☆☆) \n",
        "(**hint**: np.pad)"
      ]
    },
    {
      "cell_type": "code",
      "execution_count": 80,
      "metadata": {
        "id": "sJf7qpUuXS0b",
        "colab": {
          "base_uri": "https://localhost:8080/"
        },
        "outputId": "32c27325-b829-4802-c824-91347938678e"
      },
      "outputs": [
        {
          "output_type": "stream",
          "name": "stdout",
          "text": [
            "[[1. 1. 1.]\n",
            " [1. 1. 1.]\n",
            " [1. 1. 1.]]\n",
            "[[0. 0. 0. 0. 0.]\n",
            " [0. 1. 1. 1. 0.]\n",
            " [0. 1. 1. 1. 0.]\n",
            " [0. 1. 1. 1. 0.]\n",
            " [0. 0. 0. 0. 0.]]\n"
          ]
        }
      ],
      "source": [
        "array = np.ones((3, 3))\n",
        "print(array)\n",
        "array = np.pad(array, pad_width=1, mode='constant',\n",
        "               constant_values=0)\n",
        "\n",
        "print(array)"
      ]
    },
    {
      "cell_type": "markdown",
      "metadata": {
        "id": "6ZuBuki2XS0f"
      },
      "source": [
        "#### 17. What is the result of the following expression? (★☆☆) \n",
        "(**hint**: NaN = not a number, inf = infinity)"
      ]
    },
    {
      "cell_type": "markdown",
      "metadata": {
        "id": "pskzlpCcXS0k"
      },
      "source": [
        "```python\n",
        "0 * np.nan\n",
        "np.nan == np.nan\n",
        "np.inf > np.nan\n",
        "np.nan - np.nan\n",
        "0.3 == 3 * 0.1\n",
        "```"
      ]
    },
    {
      "cell_type": "code",
      "execution_count": 83,
      "metadata": {
        "id": "AFlyFP9mXS0p",
        "colab": {
          "base_uri": "https://localhost:8080/"
        },
        "outputId": "1fa25eba-fe43-4524-87d7-b105fc6e9f83"
      },
      "outputs": [
        {
          "output_type": "execute_result",
          "data": {
            "text/plain": [
              "False"
            ]
          },
          "metadata": {},
          "execution_count": 83
        }
      ],
      "source": [
        "0 * np.nan\n",
        "np.nan == np.nan\n",
        "np.inf > np.nan\n",
        "np.nan - np.nan\n",
        "0.3 == 3 * 0.1"
      ]
    },
    {
      "cell_type": "markdown",
      "metadata": {
        "id": "anUXbnCFXS0v"
      },
      "source": [
        "#### 18. Create a 5x5 matrix with values 1,2,3,4 just below the diagonal (★☆☆) \n",
        "(**hint**: np.diag)"
      ]
    },
    {
      "cell_type": "code",
      "execution_count": 99,
      "metadata": {
        "id": "ihz6IK4JXS0w",
        "colab": {
          "base_uri": "https://localhost:8080/"
        },
        "outputId": "1527716e-347c-4d87-d609-0d971ad987ce"
      },
      "outputs": [
        {
          "output_type": "stream",
          "name": "stdout",
          "text": [
            "[[0 0 0 0 0]\n",
            " [1 0 0 0 0]\n",
            " [0 2 0 0 0]\n",
            " [0 0 3 0 0]\n",
            " [0 0 0 4 0]]\n"
          ]
        }
      ],
      "source": [
        "Z = np.diag(1+np.arange(4),k=-1 )\n",
        "print(Z)"
      ]
    },
    {
      "cell_type": "markdown",
      "metadata": {
        "id": "ydwZEQwzXS0x"
      },
      "source": [
        "#### 19. Create a 8x8 matrix and fill it with a checkerboard pattern (★☆☆) \n",
        "(**hint**: array\\[::2\\])"
      ]
    },
    {
      "cell_type": "code",
      "execution_count": 139,
      "metadata": {
        "id": "nphyyYj-XS0y",
        "colab": {
          "base_uri": "https://localhost:8080/"
        },
        "outputId": "5b863e17-65d1-447b-9318-e90a0b7aa5c4"
      },
      "outputs": [
        {
          "output_type": "stream",
          "name": "stdout",
          "text": [
            "[[1. 0. 1. 0. 1. 0. 1. 0.]\n",
            " [0. 1. 0. 1. 0. 1. 0. 1.]\n",
            " [1. 0. 1. 0. 1. 0. 1. 0.]\n",
            " [0. 1. 0. 1. 0. 1. 0. 1.]\n",
            " [1. 0. 1. 0. 1. 0. 1. 0.]\n",
            " [0. 1. 0. 1. 0. 1. 0. 1.]\n",
            " [1. 0. 1. 0. 1. 0. 1. 0.]\n",
            " [0. 1. 0. 1. 0. 1. 0. 1.]]\n"
          ]
        }
      ],
      "source": [
        "L=np.zeros(64).reshape(8,8)\n",
        "L[::2,::2]=1\n",
        "D=np.zeros(64).reshape(8,8)\n",
        "D[1::2,1::2]=1\n",
        "print(L+D)\n"
      ]
    },
    {
      "cell_type": "markdown",
      "metadata": {
        "id": "giCawWr8XS3U"
      },
      "source": [
        "#### 20. Consider a (6,7,8) shape array, what is the index (x,y,z) of the 100th element? \n",
        "(**hint**: np.unravel_index)"
      ]
    },
    {
      "cell_type": "code",
      "execution_count": 140,
      "metadata": {
        "id": "lTO_Xz5_XS3X",
        "colab": {
          "base_uri": "https://localhost:8080/"
        },
        "outputId": "c5e1fa43-9e3f-4484-ba15-a3b7d89ebcb8"
      },
      "outputs": [
        {
          "output_type": "stream",
          "name": "stdout",
          "text": [
            "(1, 5, 4)\n"
          ]
        }
      ],
      "source": [
        "print (np.unravel_index(100, (6,7,8)))"
      ]
    },
    {
      "cell_type": "markdown",
      "metadata": {
        "id": "9QVx57yZXS3Z"
      },
      "source": [
        "#### 21. Create a checkerboard 8x8 matrix using the tile function (★☆☆) \n",
        "(**hint**: np.tile)"
      ]
    },
    {
      "cell_type": "code",
      "execution_count": 143,
      "metadata": {
        "id": "FyRgf3oJXS3a",
        "colab": {
          "base_uri": "https://localhost:8080/"
        },
        "outputId": "6da5b0b9-fd5d-41e9-be63-68c526a20bc3"
      },
      "outputs": [
        {
          "output_type": "stream",
          "name": "stdout",
          "text": [
            "[[0 1 0 1 0 1 0 1]\n",
            " [1 0 1 0 1 0 1 0]\n",
            " [0 1 0 1 0 1 0 1]\n",
            " [1 0 1 0 1 0 1 0]\n",
            " [0 1 0 1 0 1 0 1]\n",
            " [1 0 1 0 1 0 1 0]\n",
            " [0 1 0 1 0 1 0 1]\n",
            " [1 0 1 0 1 0 1 0]]\n"
          ]
        }
      ],
      "source": [
        "L= np.array([[0,1], [1,0]])\n",
        "Z = np.tile(L,(4,4))\n",
        "print (Z)"
      ]
    },
    {
      "cell_type": "markdown",
      "metadata": {
        "id": "naAFL8HaXS3b"
      },
      "source": [
        "#### 22. Normalize a 5x5 random matrix (★☆☆) \n",
        "(**hint**: (x - min) / (max - min))"
      ]
    },
    {
      "cell_type": "code",
      "execution_count": 144,
      "metadata": {
        "id": "dD3cAvhqXS3d",
        "colab": {
          "base_uri": "https://localhost:8080/"
        },
        "outputId": "bebc7493-2810-4341-9034-fdbb12e29672"
      },
      "outputs": [
        {
          "output_type": "stream",
          "name": "stdout",
          "text": [
            "[[0.80711332 0.81882215 0.8241269  1.         0.27783375]\n",
            " [0.57447826 0.98936045 0.95231447 0.94698323 0.28493003]\n",
            " [0.17723129 0.94522362 0.35551167 0.28621652 0.96120581]\n",
            " [0.75259957 0.80527882 0.02110327 0.63364989 0.03906609]\n",
            " [0.08911109 0.81796718 0.         0.19164406 0.53966961]]\n"
          ]
        }
      ],
      "source": [
        "Z = np.random.random((5,5))\n",
        "Zmax, Zmin = Z.max(), Z.min()\n",
        "Z= (Z-Zmin)/(Zmax-Zmin)\n",
        "print (Z)"
      ]
    },
    {
      "cell_type": "markdown",
      "metadata": {
        "id": "XELGNLUwXS3e"
      },
      "source": [
        "#### 23. Create a custom dtype that describes a color as four unsigned bytes (RGBA) (★☆☆) \n",
        "(**hint**: np.dtype)"
      ]
    },
    {
      "cell_type": "code",
      "execution_count": 145,
      "metadata": {
        "collapsed": true,
        "id": "eobGCEmoXS3k",
        "colab": {
          "base_uri": "https://localhost:8080/"
        },
        "outputId": "bd9a7fcb-b9ed-4873-ebaa-e8534fade16c"
      },
      "outputs": [
        {
          "output_type": "stream",
          "name": "stdout",
          "text": [
            "1\n"
          ]
        },
        {
          "output_type": "execute_result",
          "data": {
            "text/plain": [
              "numpy.ndarray"
            ]
          },
          "metadata": {},
          "execution_count": 145
        }
      ],
      "source": [
        "RGBA = np.dtype([('red',np.uint8),('green',np.uint8),('blue',np.uint8),('alpha',np.uint8)])\n",
        "color = np.array((1,2,4,3),dtype = RGBA)\n",
        "print(color['red'])\n",
        "type(color)"
      ]
    },
    {
      "cell_type": "markdown",
      "metadata": {
        "id": "YXI-RslKXS3m"
      },
      "source": [
        "#### 24. Multiply a 5x3 matrix by a 3x2 matrix (real matrix product) (★☆☆) \n",
        "(**hint**: np.dot | @)"
      ]
    },
    {
      "cell_type": "code",
      "execution_count": 148,
      "metadata": {
        "id": "XymR2h7kXS3n",
        "colab": {
          "base_uri": "https://localhost:8080/"
        },
        "outputId": "3fc540bf-7e29-4fc7-c83c-dd1e904e0692"
      },
      "outputs": [
        {
          "output_type": "stream",
          "name": "stdout",
          "text": [
            "[[0.87004555 0.57580428]\n",
            " [0.46286137 0.3663904 ]\n",
            " [0.83324805 0.60736261]\n",
            " [0.4281334  0.28178692]\n",
            " [0.7414764  0.44909606]]\n"
          ]
        }
      ],
      "source": [
        "A = np.random.random((5,3))\n",
        "B = np.random.random((3,2))\n",
        "C = np.dot(A, B)\n",
        "print(C)"
      ]
    },
    {
      "cell_type": "markdown",
      "metadata": {
        "id": "E34KGmsqXS3o"
      },
      "source": [
        "#### 25. Given a 1D array, negate all elements which are between 3 and 8, in place. (★☆☆) \n",
        "(**hint**: >, <=)"
      ]
    },
    {
      "cell_type": "code",
      "execution_count": 156,
      "metadata": {
        "id": "53mqNX9mXS3p",
        "colab": {
          "base_uri": "https://localhost:8080/"
        },
        "outputId": "3505f8ab-7ae7-4902-dbb0-35f2c1a82302"
      },
      "outputs": [
        {
          "output_type": "stream",
          "name": "stdout",
          "text": [
            "[ 0  1 -2 -3 -4 -5 -6 -7  8  9 10]\n"
          ]
        }
      ],
      "source": [
        "arr = np.arange(11)\n",
        "\n",
        "arr[2:8] = np.multiply(arr[2:8],-1)\n",
        "\n",
        "print(arr)\n"
      ]
    },
    {
      "cell_type": "markdown",
      "metadata": {
        "id": "Nth7hRhdXS3q"
      },
      "source": [
        "#### 26. What is the output of the following script? (★☆☆) \n",
        "(**hint**: np.sum)"
      ]
    },
    {
      "cell_type": "markdown",
      "metadata": {
        "id": "zmDdOOnLXS3s"
      },
      "source": [
        "```python\n",
        "# Author: Jake VanderPlas\n",
        "\n",
        "print(sum(range(5),-1))\n",
        "from numpy import *\n",
        "print(sum(range(5),-1))\n",
        "```"
      ]
    },
    {
      "cell_type": "code",
      "execution_count": 157,
      "metadata": {
        "id": "7wWULVHFXS3u",
        "colab": {
          "base_uri": "https://localhost:8080/"
        },
        "outputId": "ba3c3842-d8f8-4a5f-8067-9bf414018a26"
      },
      "outputs": [
        {
          "output_type": "stream",
          "name": "stdout",
          "text": [
            "9\n",
            "10\n"
          ]
        }
      ],
      "source": [
        "print(sum(range(5),-1))\n",
        "from numpy import *\n",
        "print(sum(range(5),-1))"
      ]
    },
    {
      "cell_type": "markdown",
      "metadata": {
        "id": "pcILn5L8XS3u"
      },
      "source": [
        "#### 27. Consider an integer vector Z, which of these expressions are legal? (★☆☆)"
      ]
    },
    {
      "cell_type": "markdown",
      "metadata": {
        "id": "-EKfyE87XS6t"
      },
      "source": [
        "```python\n",
        "Z**Z\n",
        "2 << Z >> 2\n",
        "Z <- Z\n",
        "1j*Z\n",
        "Z/1/1\n",
        "Z<Z>Z\n",
        "```"
      ]
    },
    {
      "cell_type": "code",
      "execution_count": 164,
      "metadata": {
        "id": "ORtytirVXS6y",
        "colab": {
          "base_uri": "https://localhost:8080/"
        },
        "outputId": "04bcd273-a605-4156-cf56-dd5e1c37c71d"
      },
      "outputs": [
        {
          "output_type": "stream",
          "name": "stdout",
          "text": [
            "[  1   1   4  27 256]\n",
            "[0 1 2 4 8]\n",
            "[False False False False False]\n",
            "[0.+0.j 0.+1.j 0.+2.j 0.+3.j 0.+4.j]\n",
            "[0. 1. 2. 3. 4.]\n"
          ]
        }
      ],
      "source": [
        "z=np.arange(5)\n",
        "print(z**z)\n",
        "print(2 << z >> 2)\n",
        "print(z <- z)\n",
        "print(1j*z)\n",
        "print(z/1/1)\n",
        "#print(z<z>z)"
      ]
    },
    {
      "cell_type": "markdown",
      "metadata": {
        "id": "c0Ssc3-IXS6z"
      },
      "source": [
        "#### 28. What are the result of the following expressions?"
      ]
    },
    {
      "cell_type": "markdown",
      "metadata": {
        "id": "-VuPtY_tXS60"
      },
      "source": [
        "```python\n",
        "np.array(0) / np.array(0)\n",
        "np.array(0) // np.array(0)\n",
        "np.array([np.nan]).astype(int).astype(float)\n",
        "```"
      ]
    },
    {
      "cell_type": "code",
      "execution_count": 165,
      "metadata": {
        "id": "kyFdejw3XS63",
        "colab": {
          "base_uri": "https://localhost:8080/"
        },
        "outputId": "999710e6-69d9-463d-fda3-a8da71d23232"
      },
      "outputs": [
        {
          "output_type": "stream",
          "name": "stderr",
          "text": [
            "/usr/local/lib/python3.7/dist-packages/ipykernel_launcher.py:1: RuntimeWarning: invalid value encountered in true_divide\n",
            "  \"\"\"Entry point for launching an IPython kernel.\n",
            "/usr/local/lib/python3.7/dist-packages/ipykernel_launcher.py:2: RuntimeWarning: divide by zero encountered in floor_divide\n",
            "  \n"
          ]
        },
        {
          "output_type": "execute_result",
          "data": {
            "text/plain": [
              "array([-9.22337204e+18])"
            ]
          },
          "metadata": {},
          "execution_count": 165
        }
      ],
      "source": [
        "np.array(0) / np.array(0)\n",
        "np.array(0) // np.array(0)\n",
        "np.array([np.nan]).astype(int).astype(float)"
      ]
    },
    {
      "cell_type": "markdown",
      "metadata": {
        "id": "zWcpALIdXS64"
      },
      "source": [
        "#### 29. How to round away from zero a float array ? (★☆☆) \n",
        "(**hint**: np.uniform, np.copysign, np.ceil, np.abs)"
      ]
    },
    {
      "cell_type": "code",
      "execution_count": 167,
      "metadata": {
        "id": "NSCWEWzyXS65",
        "colab": {
          "base_uri": "https://localhost:8080/"
        },
        "outputId": "7668f33c-1c17-46bb-b0ce-8b5bbbe52009"
      },
      "outputs": [
        {
          "output_type": "stream",
          "name": "stdout",
          "text": [
            "[ 2. -2.]\n"
          ]
        }
      ],
      "source": [
        "arr = np.array([1.2, -1.2])\n",
        "arr_rounded = np.copysign(np.ceil(np.abs(arr)), arr)\n",
        "print(arr_rounded)"
      ]
    },
    {
      "cell_type": "markdown",
      "metadata": {
        "id": "PEhVj58_XS68"
      },
      "source": [
        "#### 30. How to find common values between two arrays? (★☆☆) \n",
        "(**hint**: np.intersect1d)"
      ]
    },
    {
      "cell_type": "code",
      "execution_count": 169,
      "metadata": {
        "id": "j6AAZKU2XS69",
        "colab": {
          "base_uri": "https://localhost:8080/"
        },
        "outputId": "2ae3a503-52c5-45bd-a4cf-21979a2d90dd"
      },
      "outputs": [
        {
          "output_type": "stream",
          "name": "stdout",
          "text": [
            "[1 3 4]\n"
          ]
        }
      ],
      "source": [
        "ar1 = np.array([0, 1, 2, 3, 4])\n",
        "ar2 = [1, 3, 4]\n",
        "print(np.intersect1d(ar1, ar2))"
      ]
    },
    {
      "cell_type": "markdown",
      "metadata": {
        "id": "FF_vx1k5XS7B"
      },
      "source": [
        "#### 31. How to ignore all numpy warnings (not recommended)? (★☆☆) \n",
        "(**hint**: np.seterr, np.errstate)"
      ]
    },
    {
      "cell_type": "code",
      "execution_count": null,
      "metadata": {
        "id": "TGYB1GQqXS7H"
      },
      "outputs": [],
      "source": [
        "np.seterr(all=\"ignore\")\n"
      ]
    },
    {
      "cell_type": "markdown",
      "metadata": {
        "id": "JkxPwtHBXS7I"
      },
      "source": [
        "#### 32. Is the following expressions true? (★☆☆) \n",
        "(**hint**: imaginary number)"
      ]
    },
    {
      "cell_type": "markdown",
      "metadata": {
        "id": "nEVqNmsRXS7I"
      },
      "source": [
        "```python\n",
        "np.sqrt(-1) == np.emath.sqrt(-1)\n",
        "```"
      ]
    },
    {
      "cell_type": "code",
      "execution_count": 170,
      "metadata": {
        "id": "pK7gzC5jXS7J",
        "colab": {
          "base_uri": "https://localhost:8080/"
        },
        "outputId": "a941827f-7b29-43e9-a05b-70bb20598888"
      },
      "outputs": [
        {
          "output_type": "stream",
          "name": "stderr",
          "text": [
            "/usr/local/lib/python3.7/dist-packages/ipykernel_launcher.py:1: RuntimeWarning: invalid value encountered in sqrt\n",
            "  \"\"\"Entry point for launching an IPython kernel.\n"
          ]
        },
        {
          "output_type": "execute_result",
          "data": {
            "text/plain": [
              "False"
            ]
          },
          "metadata": {},
          "execution_count": 170
        }
      ],
      "source": [
        "np.sqrt(-1) == np.emath.sqrt(-1)"
      ]
    },
    {
      "cell_type": "markdown",
      "metadata": {
        "id": "xBfFWxAIXS7K"
      },
      "source": [
        "#### 33. How to get the dates of yesterday, today and tomorrow? (★☆☆) \n",
        "(**hint**: np.datetime64, np.timedelta64)"
      ]
    },
    {
      "cell_type": "code",
      "execution_count": 173,
      "metadata": {
        "collapsed": true,
        "id": "LDL8gpBPXS7L",
        "colab": {
          "base_uri": "https://localhost:8080/"
        },
        "outputId": "adbd528e-dd02-4a3a-d9b6-49fccb7dc422"
      },
      "outputs": [
        {
          "output_type": "stream",
          "name": "stdout",
          "text": [
            "2022-09-18 2022-09-17 2022-09-19\n"
          ]
        }
      ],
      "source": [
        "today = np.datetime64('today', 'D')\n",
        "\n",
        "yesterday = np.datetime64('today', 'D')- np.timedelta64(1, 'D')\n",
        "\n",
        "tomorrow = np.datetime64('today', 'D')+ np.timedelta64(1, 'D')\n",
        "  \n",
        "print(today,yesterday,tomorrow)"
      ]
    },
    {
      "cell_type": "markdown",
      "metadata": {
        "id": "THdhSP_VXS7M"
      },
      "source": [
        "#### 34. How to get all the dates corresponding to the month of July 2016? (★★☆) \n",
        "(**hint**: np.arange(dtype=datetime64\\['D'\\]))"
      ]
    },
    {
      "cell_type": "code",
      "execution_count": 174,
      "metadata": {
        "id": "KtHBspq4XS7M",
        "colab": {
          "base_uri": "https://localhost:8080/"
        },
        "outputId": "4d52a355-5add-445d-8b0f-dd6c02da0435"
      },
      "outputs": [
        {
          "output_type": "stream",
          "name": "stdout",
          "text": [
            "July, 2016\n",
            "['2016-07-01' '2016-07-02' '2016-07-03' '2016-07-04' '2016-07-05'\n",
            " '2016-07-06' '2016-07-07' '2016-07-08' '2016-07-09' '2016-07-10'\n",
            " '2016-07-11' '2016-07-12' '2016-07-13' '2016-07-14' '2016-07-15'\n",
            " '2016-07-16' '2016-07-17' '2016-07-18' '2016-07-19' '2016-07-20'\n",
            " '2016-07-21' '2016-07-22' '2016-07-23' '2016-07-24' '2016-07-25'\n",
            " '2016-07-26' '2016-07-27' '2016-07-28' '2016-07-29' '2016-07-30'\n",
            " '2016-07-31']\n"
          ]
        }
      ],
      "source": [
        "print(\"July, 2016\")\n",
        "print(np.arange('2016-07', '2016-08', dtype='datetime64[D]'))"
      ]
    },
    {
      "cell_type": "markdown",
      "metadata": {
        "id": "hafwyj9bXS7O"
      },
      "source": [
        "#### 35. How to compute ((A+B)\\*(-A/2)) in place (without copy)? (★★☆) \n",
        "(**hint**: np.add(out=), np.negative(out=), np.multiply(out=), np.divide(out=))"
      ]
    },
    {
      "cell_type": "code",
      "execution_count": 175,
      "metadata": {
        "id": "Wa0m7uE1XS7P",
        "colab": {
          "base_uri": "https://localhost:8080/"
        },
        "outputId": "b07c523f-56ab-4d96-a303-8b5e036e79c9"
      },
      "outputs": [
        {
          "output_type": "stream",
          "name": "stdout",
          "text": [
            "50.0\n",
            "50.0\n"
          ]
        }
      ],
      "source": [
        "A = -10\n",
        "B = 20\n",
        "z = ((A+B)*(-A/2))\n",
        "print(z)\n",
        "\n",
        "B = np.add(A,B)\n",
        "A = np.divide(A,2)\n",
        "A = np.negative(A)\n",
        "A = np.multiply(A,B)\n",
        "print(A)"
      ]
    },
    {
      "cell_type": "markdown",
      "metadata": {
        "id": "Lzium1rHXS7Q"
      },
      "source": [
        "#### 36. Extract the integer part of a random array using 5 different methods (★★☆) \n",
        "(**hint**: %, np.floor, np.ceil, astype, np.trunc)"
      ]
    },
    {
      "cell_type": "code",
      "execution_count": 176,
      "metadata": {
        "id": "SICPajGdXS7R",
        "colab": {
          "base_uri": "https://localhost:8080/"
        },
        "outputId": "f23fd205-5c75-474f-8e21-97799b711efe"
      },
      "outputs": [
        {
          "output_type": "stream",
          "name": "stdout",
          "text": [
            "[1. 3. 5. 4. 5. 8. 6. 6. 2. 5.]\n",
            "[1. 3. 5. 4. 5. 8. 6. 6. 2. 5.]\n",
            "[1. 3. 5. 4. 5. 8. 6. 6. 2. 5.]\n",
            "[1 3 5 4 5 8 6 6 2 5]\n",
            "[1. 3. 5. 4. 5. 8. 6. 6. 2. 5.]\n"
          ]
        }
      ],
      "source": [
        "Z = np.random.uniform(0,10,10)\n",
        "\n",
        "print(Z - Z%1)\n",
        "print(Z // 1)\n",
        "print(np.floor(Z))\n",
        "print(Z.astype(int))\n",
        "print(np.trunc(Z))"
      ]
    },
    {
      "cell_type": "markdown",
      "metadata": {
        "id": "F7Iv8kCYXS7R"
      },
      "source": [
        "#### 37. Create a 5x5 matrix with row values ranging from 0 to 4 (★★☆) \n",
        "(**hint**: np.arange)"
      ]
    },
    {
      "cell_type": "code",
      "execution_count": 177,
      "metadata": {
        "id": "YPlTxxfvXS7S",
        "colab": {
          "base_uri": "https://localhost:8080/"
        },
        "outputId": "98a9b0eb-6e8f-42f1-91ba-b266d0438698"
      },
      "outputs": [
        {
          "output_type": "stream",
          "name": "stdout",
          "text": [
            "[[0. 1. 2. 3. 4.]\n",
            " [0. 1. 2. 3. 4.]\n",
            " [0. 1. 2. 3. 4.]\n",
            " [0. 1. 2. 3. 4.]\n",
            " [0. 1. 2. 3. 4.]]\n"
          ]
        }
      ],
      "source": [
        "x = np.zeros((5,5))\n",
        "x =x+ np.arange(5)\n",
        "print(x)"
      ]
    },
    {
      "cell_type": "markdown",
      "metadata": {
        "id": "7f8C-fcTXS7T"
      },
      "source": [
        "#### 38. Consider a generator function that generates 10 integers and use it to build an array (★☆☆) \n",
        "(**hint**: np.fromiter)"
      ]
    },
    {
      "cell_type": "code",
      "execution_count": 179,
      "metadata": {
        "id": "31WC21cnXS7T",
        "colab": {
          "base_uri": "https://localhost:8080/"
        },
        "outputId": "52fee715-93d1-47ad-c173-561789fd366b"
      },
      "outputs": [
        {
          "output_type": "stream",
          "name": "stdout",
          "text": [
            "New array:\n",
            "[ 0.  1.  2.  3.  4.  5.  6.  7.  8.  9. 10. 11. 12. 13. 14.]\n"
          ]
        }
      ],
      "source": [
        "def generate():\n",
        "   for n in range(15):\n",
        "       yield n\n",
        "nums = np.fromiter(generate(),dtype=float,count=-1)\n",
        "print(\"New array:\")\n",
        "print(nums)"
      ]
    },
    {
      "cell_type": "markdown",
      "metadata": {
        "id": "bJgyboioXS7X"
      },
      "source": [
        "#### 39. Create a vector of size 10 with values ranging from 0 to 1, both excluded (★★☆) \n",
        "(**hint**: np.linspace)"
      ]
    },
    {
      "cell_type": "code",
      "execution_count": 180,
      "metadata": {
        "id": "m49-WyqLXS7X",
        "colab": {
          "base_uri": "https://localhost:8080/"
        },
        "outputId": "d782b043-c17a-492e-a1db-869421eecca4"
      },
      "outputs": [
        {
          "output_type": "stream",
          "name": "stdout",
          "text": [
            "[0.09090909 0.18181818 0.27272727 0.36363636 0.45454545 0.54545455\n",
            " 0.63636364 0.72727273 0.81818182 0.90909091]\n"
          ]
        }
      ],
      "source": [
        "x = np.linspace(0,1,12,endpoint=True)[1:-1]\n",
        "print(x)"
      ]
    },
    {
      "cell_type": "markdown",
      "metadata": {
        "id": "C00yRnUaXS7d"
      },
      "source": [
        "#### 40. Create a random vector of size 10 and sort it (★★☆) \n",
        "(**hint**: sort)"
      ]
    },
    {
      "cell_type": "code",
      "execution_count": 181,
      "metadata": {
        "id": "iyHS9bHEXS7j",
        "colab": {
          "base_uri": "https://localhost:8080/"
        },
        "outputId": "53b5cf54-034f-48a1-d8a1-abd9f53b480a"
      },
      "outputs": [
        {
          "output_type": "execute_result",
          "data": {
            "text/plain": [
              "array([0.23640104, 0.40502913, 0.46524691, 0.60909286, 0.62256599,\n",
              "       0.64509534, 0.67239744, 0.69865849, 0.79726793, 0.94921234])"
            ]
          },
          "metadata": {},
          "execution_count": 181
        }
      ],
      "source": [
        "x = np.random.random(10)\n",
        "x.sort()\n",
        "x"
      ]
    },
    {
      "cell_type": "markdown",
      "metadata": {
        "id": "tARqBkz1XS7k"
      },
      "source": [
        "#### 41. How to sum a small array faster than np.sum? (★★☆) \n",
        "(**hint**: np.add.reduce)"
      ]
    },
    {
      "cell_type": "code",
      "execution_count": 182,
      "metadata": {
        "id": "c4iQGbMVXS7l",
        "colab": {
          "base_uri": "https://localhost:8080/"
        },
        "outputId": "aeb1c30f-7474-4194-e5a3-98a739735096"
      },
      "outputs": [
        {
          "output_type": "execute_result",
          "data": {
            "text/plain": [
              "5.229308844535723"
            ]
          },
          "metadata": {},
          "execution_count": 182
        }
      ],
      "source": [
        " a=np.random.random(10)\n",
        " np.add.reduce(a)"
      ]
    },
    {
      "cell_type": "markdown",
      "metadata": {
        "id": "d--PA55YXS7l"
      },
      "source": [
        "#### 42. Consider two random array A and B, check if they are equal (★★☆) \n",
        "(**hint**: np.allclose, np.array\\_equal)"
      ]
    },
    {
      "cell_type": "code",
      "execution_count": 184,
      "metadata": {
        "id": "lg6lXQyAXS7n",
        "colab": {
          "base_uri": "https://localhost:8080/"
        },
        "outputId": "955813ba-4d61-4cd2-8706-c8a60b8fff0f"
      },
      "outputs": [
        {
          "output_type": "stream",
          "name": "stdout",
          "text": [
            "False\n"
          ]
        }
      ],
      "source": [
        "A = np.random.randint(0,2,6)\n",
        "B = np.random.randint(0,2,6)\n",
        "array_equal = np.allclose(A, B)\n",
        "print(array_equal)"
      ]
    },
    {
      "cell_type": "markdown",
      "metadata": {
        "id": "_kLmy_dcXS7n"
      },
      "source": [
        "#### 43. Make an array immutable (read-only) (★★☆) \n",
        "(**hint**: flags.writeable)"
      ]
    },
    {
      "cell_type": "code",
      "execution_count": 185,
      "metadata": {
        "id": "7goWz6uTXS7p",
        "colab": {
          "base_uri": "https://localhost:8080/",
          "height": 198
        },
        "outputId": "2933dcd0-3cb5-470d-a540-856a842a18e9"
      },
      "outputs": [
        {
          "output_type": "error",
          "ename": "ValueError",
          "evalue": "ignored",
          "traceback": [
            "\u001b[0;31m---------------------------------------------------------------------------\u001b[0m",
            "\u001b[0;31mValueError\u001b[0m                                Traceback (most recent call last)",
            "\u001b[0;32m<ipython-input-185-50d3306bb5ff>\u001b[0m in \u001b[0;36m<module>\u001b[0;34m\u001b[0m\n\u001b[1;32m      1\u001b[0m \u001b[0mx\u001b[0m \u001b[0;34m=\u001b[0m \u001b[0mnp\u001b[0m\u001b[0;34m.\u001b[0m\u001b[0mzeros\u001b[0m\u001b[0;34m(\u001b[0m\u001b[0;36m10\u001b[0m\u001b[0;34m)\u001b[0m\u001b[0;34m\u001b[0m\u001b[0;34m\u001b[0m\u001b[0m\n\u001b[1;32m      2\u001b[0m \u001b[0mx\u001b[0m\u001b[0;34m.\u001b[0m\u001b[0mflags\u001b[0m\u001b[0;34m.\u001b[0m\u001b[0mwriteable\u001b[0m \u001b[0;34m=\u001b[0m \u001b[0;32mFalse\u001b[0m\u001b[0;34m\u001b[0m\u001b[0;34m\u001b[0m\u001b[0m\n\u001b[0;32m----> 3\u001b[0;31m \u001b[0mx\u001b[0m\u001b[0;34m[\u001b[0m\u001b[0;36m0\u001b[0m\u001b[0;34m]\u001b[0m \u001b[0;34m=\u001b[0m \u001b[0;36m1\u001b[0m\u001b[0;34m\u001b[0m\u001b[0;34m\u001b[0m\u001b[0m\n\u001b[0m",
            "\u001b[0;31mValueError\u001b[0m: assignment destination is read-only"
          ]
        }
      ],
      "source": [
        "x = np.zeros(10)\n",
        "x.flags.writeable = False\n",
        "x[0] = 1"
      ]
    },
    {
      "cell_type": "markdown",
      "metadata": {
        "id": "a_N59SDeXS7q"
      },
      "source": [
        "#### 44. Consider a random 10x2 matrix representing cartesian coordinates, convert them to polar coordinates (★★☆) \n",
        "(**hint**: np.sqrt, np.arctan2)"
      ]
    },
    {
      "cell_type": "code",
      "execution_count": null,
      "metadata": {
        "id": "mVaUymCMXS7r"
      },
      "outputs": [],
      "source": []
    },
    {
      "cell_type": "markdown",
      "metadata": {
        "id": "4VmLkHE5XS7s"
      },
      "source": [
        "#### 45. Create random vector of size 10 and replace the maximum value by 0 (★★☆) \n",
        "(**hint**: argmax)"
      ]
    },
    {
      "cell_type": "code",
      "execution_count": 186,
      "metadata": {
        "id": "UTlpJIo1XS7s",
        "colab": {
          "base_uri": "https://localhost:8080/"
        },
        "outputId": "4919955b-37ca-40a1-92c8-6dc3756bf1ae"
      },
      "outputs": [
        {
          "output_type": "stream",
          "name": "stdout",
          "text": [
            "Maximum value replaced by 0:\n",
            "[0.44740033 0.16461931 0.44233746 0.87872552 0.         0.61074985\n",
            " 0.86716031 0.59086669 0.4567073  0.42604225]\n"
          ]
        }
      ],
      "source": [
        "x = np.random.random(10)\n",
        "x[x.argmax()] = 0\n",
        "print(\"Maximum value replaced by 0:\")\n",
        "print(x)"
      ]
    },
    {
      "cell_type": "markdown",
      "metadata": {
        "id": "00PfXUs4XS7t"
      },
      "source": [
        "#### 46. Create a structured array with `x` and `y` coordinates covering the \\[0,1\\]x\\[0,1\\] area (★★☆) \n",
        "(**hint**: np.meshgrid)"
      ]
    },
    {
      "cell_type": "code",
      "execution_count": 187,
      "metadata": {
        "id": "uavH9bzTXS7u",
        "colab": {
          "base_uri": "https://localhost:8080/"
        },
        "outputId": "eb035614-e54f-4949-e42f-06571a81b35c"
      },
      "outputs": [
        {
          "output_type": "stream",
          "name": "stdout",
          "text": [
            "[[(0.        , 0.        ) (0.11111111, 0.        )\n",
            "  (0.22222222, 0.        ) (0.33333333, 0.        )\n",
            "  (0.44444444, 0.        ) (0.55555556, 0.        )\n",
            "  (0.66666667, 0.        ) (0.77777778, 0.        )\n",
            "  (0.88888889, 0.        ) (1.        , 0.        )]\n",
            " [(0.        , 0.11111111) (0.11111111, 0.11111111)\n",
            "  (0.22222222, 0.11111111) (0.33333333, 0.11111111)\n",
            "  (0.44444444, 0.11111111) (0.55555556, 0.11111111)\n",
            "  (0.66666667, 0.11111111) (0.77777778, 0.11111111)\n",
            "  (0.88888889, 0.11111111) (1.        , 0.11111111)]\n",
            " [(0.        , 0.22222222) (0.11111111, 0.22222222)\n",
            "  (0.22222222, 0.22222222) (0.33333333, 0.22222222)\n",
            "  (0.44444444, 0.22222222) (0.55555556, 0.22222222)\n",
            "  (0.66666667, 0.22222222) (0.77777778, 0.22222222)\n",
            "  (0.88888889, 0.22222222) (1.        , 0.22222222)]\n",
            " [(0.        , 0.33333333) (0.11111111, 0.33333333)\n",
            "  (0.22222222, 0.33333333) (0.33333333, 0.33333333)\n",
            "  (0.44444444, 0.33333333) (0.55555556, 0.33333333)\n",
            "  (0.66666667, 0.33333333) (0.77777778, 0.33333333)\n",
            "  (0.88888889, 0.33333333) (1.        , 0.33333333)]\n",
            " [(0.        , 0.44444444) (0.11111111, 0.44444444)\n",
            "  (0.22222222, 0.44444444) (0.33333333, 0.44444444)\n",
            "  (0.44444444, 0.44444444) (0.55555556, 0.44444444)\n",
            "  (0.66666667, 0.44444444) (0.77777778, 0.44444444)\n",
            "  (0.88888889, 0.44444444) (1.        , 0.44444444)]\n",
            " [(0.        , 0.55555556) (0.11111111, 0.55555556)\n",
            "  (0.22222222, 0.55555556) (0.33333333, 0.55555556)\n",
            "  (0.44444444, 0.55555556) (0.55555556, 0.55555556)\n",
            "  (0.66666667, 0.55555556) (0.77777778, 0.55555556)\n",
            "  (0.88888889, 0.55555556) (1.        , 0.55555556)]\n",
            " [(0.        , 0.66666667) (0.11111111, 0.66666667)\n",
            "  (0.22222222, 0.66666667) (0.33333333, 0.66666667)\n",
            "  (0.44444444, 0.66666667) (0.55555556, 0.66666667)\n",
            "  (0.66666667, 0.66666667) (0.77777778, 0.66666667)\n",
            "  (0.88888889, 0.66666667) (1.        , 0.66666667)]\n",
            " [(0.        , 0.77777778) (0.11111111, 0.77777778)\n",
            "  (0.22222222, 0.77777778) (0.33333333, 0.77777778)\n",
            "  (0.44444444, 0.77777778) (0.55555556, 0.77777778)\n",
            "  (0.66666667, 0.77777778) (0.77777778, 0.77777778)\n",
            "  (0.88888889, 0.77777778) (1.        , 0.77777778)]\n",
            " [(0.        , 0.88888889) (0.11111111, 0.88888889)\n",
            "  (0.22222222, 0.88888889) (0.33333333, 0.88888889)\n",
            "  (0.44444444, 0.88888889) (0.55555556, 0.88888889)\n",
            "  (0.66666667, 0.88888889) (0.77777778, 0.88888889)\n",
            "  (0.88888889, 0.88888889) (1.        , 0.88888889)]\n",
            " [(0.        , 1.        ) (0.11111111, 1.        )\n",
            "  (0.22222222, 1.        ) (0.33333333, 1.        )\n",
            "  (0.44444444, 1.        ) (0.55555556, 1.        )\n",
            "  (0.66666667, 1.        ) (0.77777778, 1.        )\n",
            "  (0.88888889, 1.        ) (1.        , 1.        )]]\n"
          ]
        }
      ],
      "source": [
        "Z = np.zeros((10,10), [('x',float),('y',float)])\n",
        "Z['x'], Z['y'] = np.meshgrid(np.linspace(0,1,10),\n",
        "                             np.linspace(0,1,10))\n",
        "print(Z)"
      ]
    },
    {
      "cell_type": "markdown",
      "metadata": {
        "id": "pL0xfNjAXS7u"
      },
      "source": [
        "####  47. Given two arrays, X and Y, construct the Cauchy matrix C (Cij =1/(xi - yj)) \n",
        "(**hint**: np.subtract.outer)"
      ]
    },
    {
      "cell_type": "code",
      "execution_count": 190,
      "metadata": {
        "id": "zlmS3ndcXS7v",
        "colab": {
          "base_uri": "https://localhost:8080/"
        },
        "outputId": "c8b0aacf-3e7c-4bbd-a5fa-731216f68db0"
      },
      "outputs": [
        {
          "output_type": "stream",
          "name": "stdout",
          "text": [
            "3638.163637117973\n"
          ]
        }
      ],
      "source": [
        "X = np.arange(8)\n",
        "Y = X + 0.5\n",
        "C = 1.0 / np.subtract.outer(X, Y)\n",
        "print(np.linalg.det(C))"
      ]
    },
    {
      "cell_type": "markdown",
      "metadata": {
        "id": "1lqMgh3uXS7v"
      },
      "source": [
        "#### 48. Print the minimum and maximum representable value for each numpy scalar type (★★☆) \n",
        "(**hint**: np.iinfo, np.finfo, eps)"
      ]
    },
    {
      "cell_type": "code",
      "execution_count": 93,
      "metadata": {
        "id": "TdAAPI_JXS7w",
        "colab": {
          "base_uri": "https://localhost:8080/"
        },
        "outputId": "13acfb7b-0976-4c62-f601-ed4695e65a6b"
      },
      "outputs": [
        {
          "output_type": "stream",
          "name": "stdout",
          "text": [
            "-128\n",
            "127\n",
            "-2147483648\n",
            "2147483647\n",
            "-9223372036854775808\n",
            "9223372036854775807\n",
            "-3.4028235e+38\n",
            "3.4028235e+38\n",
            "1.1920929e-07\n",
            "-1.7976931348623157e+308\n",
            "1.7976931348623157e+308\n",
            "2.220446049250313e-16\n"
          ]
        }
      ],
      "source": [
        "for dtype in [np.int8, np.int32, np.int64]:\n",
        "   print(np.iinfo(dtype).min)\n",
        "   print(np.iinfo(dtype).max)\n",
        "for dtype in [np.float32, np.float64]:\n",
        "   print(np.finfo(dtype).min)\n",
        "   print(np.finfo(dtype).max)\n",
        "   print(np.finfo(dtype).eps)"
      ]
    },
    {
      "cell_type": "markdown",
      "metadata": {
        "id": "1KWv3-9AXS7w"
      },
      "source": [
        "#### 49. How to print all the values of an array? (★★☆) \n",
        "(**hint**: np.set\\_printoptions)"
      ]
    },
    {
      "cell_type": "code",
      "execution_count": 12,
      "metadata": {
        "id": "MjWZmMpDXS7w",
        "colab": {
          "base_uri": "https://localhost:8080/"
        },
        "outputId": "cca3796f-73eb-49ab-c504-bec4379e439c"
      },
      "outputs": [
        {
          "output_type": "stream",
          "name": "stdout",
          "text": [
            "[0.26664196 0.04154282 0.20350791 0.38587277 0.31297855]\n",
            "[0.2666419607 0.0415428246 0.2035079107 0.3858727681 0.3129785534]\n"
          ]
        }
      ],
      "source": [
        "import numpy as np\n",
        "L=np.random.random(5)\n",
        "print(L)\n",
        "# using numpy.printoptions() method\n",
        "with np.printoptions(precision = 10):\n",
        "  print(np.array(L))\n",
        "\n"
      ]
    },
    {
      "cell_type": "markdown",
      "metadata": {
        "id": "t6wreeOoXS7x"
      },
      "source": [
        "#### 50. How to find the closest value (to a given scalar) in a vector? (★★☆) \n",
        "(**hint**: argmin)"
      ]
    },
    {
      "cell_type": "code",
      "execution_count": 13,
      "metadata": {
        "id": "JHtF0Gs7XS7x",
        "colab": {
          "base_uri": "https://localhost:8080/"
        },
        "outputId": "a8cba7cd-0c76-4809-bd12-47ee4c7e7e67"
      },
      "outputs": [
        {
          "output_type": "stream",
          "name": "stdout",
          "text": [
            "[ 0  1  2  3  4  5  6  7  8  9 10 11 12 13 14 15 16 17 18 19 20 21 22 23\n",
            " 24 25 26 27 28 29 30 31 32 33 34 35 36 37 38 39 40 41 42 43 44 45 46 47\n",
            " 48 49 50 51 52 53 54 55 56 57 58 59 60 61 62 63 64 65 66 67 68 69 70 71\n",
            " 72 73 74 75 76 77 78 79 80 81 82 83 84 85 86 87 88 89 90 91 92 93 94 95\n",
            " 96 97 98 99]\n",
            "86.88042088341946\n",
            "87\n"
          ]
        }
      ],
      "source": [
        "x = np.arange(100)\n",
        "print(x)\n",
        "a = np.random.uniform(0,100)\n",
        "print(a)\n",
        "index = (np.abs(x-a)).argmin()\n",
        "print(x[index])"
      ]
    },
    {
      "cell_type": "markdown",
      "metadata": {
        "id": "Wl_tORvHXS7x"
      },
      "source": [
        "#### 51. Create a structured array representing a position (x,y) and a color (r,g,b) (★★☆) \n",
        "(**hint**: dtype)"
      ]
    },
    {
      "cell_type": "code",
      "execution_count": 14,
      "metadata": {
        "id": "FShgla2pXS7y",
        "colab": {
          "base_uri": "https://localhost:8080/"
        },
        "outputId": "9be4507b-e112-45f6-8dbb-37beadcca783"
      },
      "outputs": [
        {
          "output_type": "stream",
          "name": "stdout",
          "text": [
            "[((0., 0.), (0., 0., 0.)) ((0., 0.), (0., 0., 0.))\n",
            " ((0., 0.), (0., 0., 0.)) ((0., 0.), (0., 0., 0.))\n",
            " ((0., 0.), (0., 0., 0.)) ((0., 0.), (0., 0., 0.))\n",
            " ((0., 0.), (0., 0., 0.)) ((0., 0.), (0., 0., 0.))\n",
            " ((0., 0.), (0., 0., 0.)) ((0., 0.), (0., 0., 0.))]\n"
          ]
        },
        {
          "output_type": "stream",
          "name": "stderr",
          "text": [
            "/usr/local/lib/python3.7/dist-packages/ipykernel_launcher.py:5: FutureWarning: Passing (type, 1) or '1type' as a synonym of type is deprecated; in a future version of numpy, it will be understood as (type, (1,)) / '(1,)type'.\n",
            "  \"\"\"\n"
          ]
        }
      ],
      "source": [
        "Z = np.zeros(10, [ ('position', [ ('x', float, 1),\n",
        "                                   ('y', float, 1)]),\n",
        "                    ('color',    [ ('r', float, 1),\n",
        "                                   ('g', float, 1),\n",
        "                                   ('b', float, 1)])])\n",
        "print(Z)"
      ]
    },
    {
      "cell_type": "markdown",
      "metadata": {
        "id": "kp_1zxAOXS7y"
      },
      "source": [
        "#### 52. Consider a random vector with shape (100,2) representing coordinates, find point by point distances (★★☆) \n",
        "(**hint**: np.atleast\\_2d, T, np.sqrt)"
      ]
    },
    {
      "cell_type": "code",
      "execution_count": 15,
      "metadata": {
        "id": "89salE8JXS70",
        "colab": {
          "base_uri": "https://localhost:8080/"
        },
        "outputId": "bec11ba1-ffad-4f09-8c45-0f1fc35940e8"
      },
      "outputs": [
        {
          "output_type": "stream",
          "name": "stdout",
          "text": [
            "[[0.         0.44477503 0.32705544 0.37784482 0.2224465  0.5580893\n",
            "  0.71782229 0.94397918 0.47545071 0.68469041 0.34881994 0.66307114\n",
            "  0.20141232 0.25295362 0.66029669 0.55096462 0.49324983 0.10650645\n",
            "  0.68682078 0.49630502 0.22054205 0.60049038 0.57317511 0.36929606\n",
            "  0.61786742 0.23305953 0.64121499 0.31151876 0.57061543 0.28201401\n",
            "  0.51502227 0.1530709  0.34265083 0.12857695 0.53187416 0.55252946\n",
            "  0.70531641 0.44647917 0.17681808 0.80876771 0.74270964 0.47485191\n",
            "  0.68515352 0.24428912 0.64409936 0.52695808 0.30066592 0.59851653\n",
            "  0.67015857 0.26835094 0.83632622 0.63603091 0.19906365 0.67351352\n",
            "  0.83693693 0.69835157 0.21509451 0.18667349 0.21751909 0.29544104\n",
            "  0.07810812 0.66460869 0.1781125  0.19497729 0.25382443 0.20677744\n",
            "  0.91449864 0.28448139 0.32473827 0.42966912 0.18957641 0.15203338\n",
            "  0.43600747 0.23299527 0.63671271 0.8223734  0.24520798 0.26838147\n",
            "  0.2348421  0.77992446 0.40550741 0.21368526 0.72540409 0.40721504\n",
            "  0.65161371 0.24987985 0.306775   0.23790224 0.16533762 0.45252409\n",
            "  0.41254145 0.71967891 0.22447907 0.58881381 0.22514564 0.86354659\n",
            "  0.141014   0.65455167 0.82842638 0.57002363]\n",
            " [0.44477503 0.         0.19158604 0.28496896 0.38377839 0.83550443\n",
            "  0.93293086 0.74045726 0.75643294 0.2470758  0.42454889 0.89455344\n",
            "  0.49525478 0.67759578 0.64459536 0.16161298 0.11150512 0.36311713\n",
            "  0.76612945 0.09352777 0.38310708 0.34655866 0.1326498  0.69431668\n",
            "  0.66387811 0.67776578 0.66111339 0.55077172 0.51821997 0.29936511\n",
            "  0.75947392 0.3258862  0.11447278 0.31847593 0.7756565  0.80176794\n",
            "  0.99277646 0.7154415  0.60718221 0.53893605 0.42082307 0.68136227\n",
            "  0.98124372 0.36495695 0.48600736 0.59774028 0.2951601  0.33211341\n",
            "  0.32090674 0.21316956 0.77383306 0.46855332 0.64376463 0.985196\n",
            "  0.57724578 0.84094317 0.65443102 0.4982129  0.66009976 0.6556573\n",
            "  0.48166103 0.57634722 0.39084387 0.32200397 0.29355927 0.37290754\n",
            "  0.70720524 0.53810018 0.62719009 0.74002827 0.25521832 0.46161923\n",
            "  0.61438321 0.36086148 0.46289428 0.55817138 0.50335163 0.24897164\n",
            "  0.61292409 0.73626725 0.22396615 0.4011908  0.46888183 0.31739902\n",
            "  0.80680162 0.69439129 0.71227806 0.41524585 0.3604708  0.28555375\n",
            "  0.79903655 0.43186753 0.66906647 0.14711949 0.32183987 0.66543908\n",
            "  0.53748026 0.64578492 0.75844634 0.83411837]\n",
            " [0.32705544 0.19158604 0.         0.36747097 0.37073495 0.82310104\n",
            "  0.95161377 0.90291736 0.73935703 0.38320637 0.46204579 0.90489649\n",
            "  0.45092904 0.57926175 0.74215099 0.35026594 0.29411754 0.22423281\n",
            "  0.83404886 0.19336584 0.19947673 0.50771359 0.28489901 0.65370537\n",
            "  0.73928679 0.5476477  0.74631739 0.53746877 0.62068821 0.32683297\n",
            "  0.7589727  0.17786575 0.09026746 0.22837703 0.77617631 0.80095287\n",
            "  0.97980629 0.70187818 0.46053999 0.71351891 0.60418068 0.69302304\n",
            "  0.96380902 0.36513859 0.62457854 0.6588752  0.33386401 0.49630833\n",
            "  0.50712402 0.06060767 0.8937771  0.60918724 0.51785194 0.9600394\n",
            "  0.75033531 0.88694841 0.54114056 0.446731   0.52334081 0.47926707\n",
            "  0.38761017 0.69618217 0.3553084  0.15281006 0.10822733 0.19266584\n",
            "  0.8699108  0.51713575 0.59317783 0.7084975  0.170797   0.4041385\n",
            "  0.63302861 0.1754406  0.60532657 0.73188116 0.47568294 0.26774519\n",
            "  0.44380366 0.84830168 0.33405112 0.38159535 0.63763922 0.40721953\n",
            "  0.84631449 0.56869417 0.54696704 0.22864441 0.19432879 0.40442045\n",
            "  0.72887466 0.60759771 0.53817237 0.3288216  0.31453575 0.82449413\n",
            "  0.45230664 0.74083999 0.8803874  0.82780567]\n",
            " [0.37784482 0.28496896 0.36747097 0.         0.18556201 0.57439364\n",
            "  0.65328874 0.57644978 0.50206118 0.49971624 0.15276524 0.61872668\n",
            "  0.30186492 0.52696594 0.37554704 0.26472007 0.23343208 0.36470349\n",
            "  0.48300386 0.37832692 0.46619041 0.22594856 0.39486785 0.46648279\n",
            "  0.3823457  0.57991105 0.38391129 0.30939902 0.2532205  0.09654692\n",
            "  0.49275388 0.36071229 0.28960323 0.27471656 0.50775275 0.5339176\n",
            "  0.72805404 0.46028919 0.55200597 0.43099065 0.37531623 0.40982912\n",
            "  0.71973409 0.1570078  0.27833317 0.31286559 0.07786398 0.22685218\n",
            "  0.32169712 0.33415129 0.52761505 0.26693576 0.54339844 0.72917654\n",
            "  0.45922657 0.55610126 0.53084335 0.31382294 0.57712074 0.66593212\n",
            "  0.36460002 0.3318511  0.22197821 0.39348406 0.41002987 0.44926038\n",
            "  0.54537827 0.3068884  0.39874751 0.49947651 0.25915269 0.29630048\n",
            "  0.34138921 0.45574913 0.26597031 0.44453487 0.28647289 0.12280806\n",
            "  0.60803131 0.48097678 0.06985011 0.20447689 0.34765118 0.04003348\n",
            "  0.52275563 0.58634621 0.68455254 0.5010125  0.41016382 0.07664743\n",
            "  0.59686077 0.34515995 0.57385837 0.36071844 0.15415345 0.49546149\n",
            "  0.39180259 0.37480427 0.51486638 0.56886009]\n",
            " [0.2224465  0.38377839 0.37073495 0.18556201 0.         0.45883343\n",
            "  0.5808996  0.72569521 0.37697081 0.62711716 0.12764422 0.53444464\n",
            "  0.12054234 0.34159356 0.44155683 0.42572219 0.3795323  0.2547779\n",
            "  0.4889722  0.46612489 0.38188115 0.40928035 0.51371497 0.31089468\n",
            "  0.40822983 0.39858375 0.42717687 0.17071251 0.34817167 0.09872755\n",
            "  0.38982871 0.27432356 0.3284806  0.17217049 0.40688223 0.43213609\n",
            "  0.61670103 0.33723833 0.38382518 0.60624422 0.56035254 0.32232523\n",
            "  0.60301676 0.02857612 0.42753724 0.31864612 0.11380831 0.41155224\n",
            "  0.50578999 0.31607566 0.61595304 0.42126074 0.36241302 0.60414065\n",
            "  0.63080383 0.52415589 0.34634401 0.13005709 0.39923182 0.51770602\n",
            "  0.18775625 0.44220926 0.04458959 0.32025413 0.36109957 0.36436982\n",
            "  0.69711109 0.155037   0.24345556 0.35654686 0.20493231 0.11112949\n",
            "  0.26387487 0.38117353 0.42295037 0.61787156 0.11975583 0.13524199\n",
            "  0.45674176 0.5604947  0.238683   0.01966865 0.52387371 0.20324302\n",
            "  0.48109717 0.40313738 0.51995125 0.41175596 0.31798946 0.26136359\n",
            "  0.42543754 0.5274368  0.39320608 0.50077492 0.06233175 0.64592763\n",
            "  0.20685003 0.436515   0.60742047 0.46093145]\n",
            " [0.5580893  0.83550443 0.82310104 0.57439364 0.45883343 0.\n",
            "  0.1830064  0.84550307 0.08424503 1.06992345 0.42165023 0.12465497\n",
            "  0.37546588 0.3947153  0.46777001 0.83837822 0.80669939 0.65057409\n",
            "  0.34652124 0.92214261 0.77701684 0.72585502 0.96007966 0.19198705\n",
            "  0.37725389 0.52356497 0.41650796 0.2881341  0.49925616 0.53615826\n",
            "  0.08611816 0.68869714 0.78726665 0.60070072 0.07630088 0.05679728\n",
            "  0.1578957  0.12168061 0.6002259  0.84347726 0.86786281 0.17180075\n",
            "  0.14596989 0.47286621 0.63618834 0.34516949 0.54147303 0.73789082\n",
            "  0.85851813 0.76487644 0.6020453  0.64434678 0.50980703 0.15614555\n",
            "  0.84794388 0.26139931 0.45795248 0.38344651 0.55369928 0.76433864\n",
            "  0.48001147 0.56011341 0.46796884 0.73681215 0.78989582 0.76201357\n",
            "  0.83087989 0.30631678 0.23540623 0.13140542 0.65247521 0.42618933\n",
            "  0.23794324 0.78641279 0.65165592 0.84469045 0.34741957 0.58856182\n",
            "  0.71012644 0.54877685 0.64414314 0.444734   0.78158476 0.55994736\n",
            "  0.224937   0.50320991 0.70514757 0.79598649 0.7171579  0.6226084\n",
            "  0.25444921 0.814817   0.52755566 0.93385954 0.52048017 0.78743205\n",
            "  0.42132896 0.45732694 0.60717765 0.02647449]\n",
            " [0.71782229 0.93293086 0.95161377 0.65328874 0.5808996  0.1830064\n",
            "  0.         0.78501643 0.25065398 1.15177238 0.50849572 0.05869938\n",
            "  0.52254814 0.57590665 0.43023952 0.90581895 0.88468683 0.80187234\n",
            "  0.27006925 1.02419629 0.93157241 0.75664498 1.04814428 0.36609525\n",
            "  0.34697736 0.70493979 0.37953192 0.41915523 0.50553271 0.63964608\n",
            "  0.20280371 0.83566883 0.90321326 0.74049586 0.1860429  0.1671438\n",
            "  0.16531926 0.27248837 0.77747151 0.83003493 0.88214815 0.25859316\n",
            "  0.18300986 0.58783929 0.63577165 0.36114046 0.64015846 0.77152683\n",
            "  0.89390781 0.89656958 0.51710876 0.64832414 0.68953568 0.22120267\n",
            "  0.82591272 0.15245344 0.6381864  0.53416877 0.73419688 0.94238578\n",
            "  0.64093313 0.53775828 0.60061582 0.88403345 0.93315295 0.91558807\n",
            "  0.77711088 0.44320853 0.39446423 0.30837848 0.78444544 0.57473114\n",
            "  0.32106093 0.93819507 0.6567208  0.82688042 0.4859093  0.69731913\n",
            "  0.88662732 0.47427987 0.7217042  0.57087468 0.78227371 0.6291371\n",
            "  0.15154981 0.68523903 0.8864695  0.95374253 0.86935854 0.68399936\n",
            "  0.43583942 0.82472955 0.70855205 1.01088247 0.63825074 0.74082042\n",
            "  0.58761909 0.42064788 0.52704867 0.16086549]\n",
            " [0.94397918 0.74045726 0.90291736 0.57644978 0.72569521 0.84550307\n",
            "  0.78501643 0.         0.82255695 0.7987981  0.6100624  0.79526812\n",
            "  0.8064302  1.0242597  0.37847907 0.59230617 0.62985833 0.94112719\n",
            "  0.51661675 0.81311271 1.03821957 0.39614142 0.76092887 0.86784795\n",
            "  0.46851782 1.11295837 0.42909482 0.74156851 0.39441801 0.66623438\n",
            "  0.76879368 0.93572029 0.81307051 0.85080809 0.77227806 0.78870657\n",
            "  0.93915311 0.79350892 1.10943159 0.21788812 0.35310692 0.69985485\n",
            "  0.94807892 0.70103805 0.30018814 0.52020208 0.648344   0.40914309\n",
            "  0.44811008 0.88809109 0.27576604 0.30979993 1.07848464 0.97849391\n",
            "  0.17948865 0.63259834 1.05115004 0.82383393 1.11940423 1.2379047\n",
            "  0.91232761 0.30441301 0.76995421 0.96485298 0.97183403 1.02186913\n",
            "  0.03325243 0.75907605 0.8209365  0.86123984 0.83283832 0.82718376\n",
            "  0.66127381 1.02520555 0.31047972 0.19814696 0.76863967 0.69885267\n",
            "  1.17833768 0.3109759  0.57908713 0.73885582 0.27266341 0.54128551\n",
            "  0.64379501 1.11178545 1.24564636 1.07353641 0.98506005 0.5126687\n",
            "  1.01390883 0.31764246 1.10917385 0.68813902 0.72060504 0.08099037\n",
            "  0.91678839 0.38888575 0.2622525  0.82364189]\n",
            " [0.47545071 0.75643294 0.73935703 0.50206118 0.37697081 0.08424503\n",
            "  0.25065398 0.82255695 0.         0.99348509 0.34977315 0.19275887\n",
            "  0.29122249 0.32834743 0.44497255 0.76677316 0.7324057  0.56674399\n",
            "  0.35032227 0.8418746  0.69369424 0.66730748 0.88258047 0.11549214\n",
            "  0.35705555 0.4570707  0.39647273 0.20648327 0.45580507 0.45758205\n",
            "  0.06625038 0.60457932 0.70502036 0.51649849 0.07550945 0.0850269\n",
            "  0.24059359 0.04178072 0.52685692 0.80020436 0.8135403  0.12375982\n",
            "  0.22605636 0.39229276 0.59133207 0.30652102 0.46402998 0.67815794\n",
            "  0.79680183 0.68095087 0.5959563  0.59752335 0.43990976 0.22901371\n",
            "  0.80813384 0.29001878 0.38911234 0.29927818 0.48512256 0.6918408\n",
            "  0.39749765 0.52668182 0.38447949 0.65273109 0.70567896 0.67854108\n",
            "  0.80509084 0.22322785 0.1515767  0.06083609 0.56864771 0.34197752\n",
            "  0.17873495 0.7027404  0.60423442 0.80318267 0.26379329 0.50838358\n",
            "  0.6359757  0.53946702 0.57133398 0.36226348 0.73355306 0.49088451\n",
            "  0.24575945 0.43879398 0.63807835 0.71322884 0.63347959 0.55507064\n",
            "  0.21573205 0.76276266 0.46011586 0.85912066 0.43897751 0.75914078\n",
            "  0.34037389 0.43469877 0.59860498 0.09471939]\n",
            " [0.68469041 0.2470758  0.38320637 0.49971624 0.62711716 1.06992345\n",
            "  1.15177238 0.7987981  0.99348509 0.         0.65033811 1.11839471\n",
            "  0.74118584 0.92336359 0.81261225 0.25418517 0.26708555 0.59396966\n",
            "  0.95586734 0.19152559 0.58056649 0.45687574 0.1144457  0.93795749\n",
            "  0.85177033 0.91611815 0.84041313 0.79018137 0.69028855 0.53698624\n",
            "  0.99051562 0.55149986 0.34226277 0.56166259 1.00599385 1.03220849\n",
            "  1.22560578 0.95196263 0.83772362 0.58094921 0.44572035 0.90890642\n",
            "  1.21586321 0.60624373 0.6151929  0.8000992  0.52952237 0.43892626\n",
            "  0.35420148 0.42890638 0.90748761 0.59659447 0.8833291  1.22243109\n",
            "  0.61975564 1.04488293 0.89750114 0.74473802 0.89573636 0.86116263\n",
            "  0.72685823 0.72328773 0.63701429 0.53485081 0.49038626 0.5752728\n",
            "  0.76728665 0.77964437 0.87022448 0.98130916 0.49693312 0.70859977\n",
            "  0.84063514 0.55583172 0.58872076 0.60079623 0.74684396 0.49191954\n",
            "  0.82700983 0.88233449 0.43045179 0.64521718 0.53810106 0.5226961\n",
            "  1.01600192 0.9343446  0.93008015 0.60647205 0.57615373 0.47127971\n",
            "  1.0458178  0.48571038 0.90708221 0.14220276 0.56603175 0.73751225\n",
            "  0.78397506 0.81632107 0.89016103 1.06626757]\n",
            " [0.34881994 0.42454889 0.46204579 0.15276524 0.12764422 0.42165023\n",
            "  0.50849572 0.6100624  0.34977315 0.65033811 0.         0.47040614\n",
            "  0.19796757 0.42346807 0.3141102  0.41720834 0.38540527 0.37971652\n",
            "  0.37425961 0.5157229  0.50362978 0.33765686 0.54285811 0.32328509\n",
            "  0.2861089  0.50327609 0.30192146 0.16608335 0.22343875 0.13605097\n",
            "  0.34047047 0.39452291 0.40122363 0.29283831 0.35574442 0.38195064\n",
            "  0.57577106 0.3080479  0.5028747  0.51274148 0.49046115 0.25870136\n",
            "  0.56709131 0.11260621 0.31832401 0.19961463 0.13310229 0.34489636\n",
            "  0.45649099 0.41445265 0.48833414 0.31542797 0.46853279 0.5764403\n",
            "  0.5324711  0.42647902 0.44323893 0.21476923 0.50938289 0.6431477\n",
            "  0.30514365 0.31820376 0.17100649 0.43806408 0.47242955 0.48600182\n",
            "  0.58303352 0.17091329 0.25784208 0.35054375 0.31140191 0.21772569\n",
            "  0.19071638 0.5005417  0.31879388 0.52176008 0.16537782 0.19556764\n",
            "  0.58181316 0.43287629 0.22249342 0.13520777 0.43379659 0.14254436\n",
            "  0.38802221 0.50327501 0.63955039 0.53492554 0.44051497 0.2080183\n",
            "  0.46174368 0.44821312 0.49927757 0.51270068 0.15646297 0.53186059\n",
            "  0.30695507 0.30928445 0.47993283 0.41646772]\n",
            " [0.66307114 0.89455344 0.90489649 0.61872668 0.53444464 0.12465497\n",
            "  0.05869938 0.79526812 0.19275887 1.11839471 0.47040614 0.\n",
            "  0.4699509  0.51723057 0.42905482 0.87589135 0.85162707 0.74918335\n",
            "  0.27915228 0.98478456 0.87830734 0.73691229 1.01273113 0.30802034\n",
            "  0.34132914 0.64626078 0.37709239 0.36921793 0.49101496 0.59831207\n",
            "  0.14899363 0.78407262 0.85969685 0.69041259 0.13179227 0.1106674\n",
            "  0.14391755 0.2167148  0.71931223 0.82471515 0.86822166 0.21419093\n",
            "  0.15413061 0.54319658 0.62489458 0.34056831 0.60010058 0.75101651\n",
            "  0.8734995  0.84890984 0.5341955  0.63615362 0.63100635 0.1883056\n",
            "  0.82338405 0.16976931 0.57959397 0.4808479  0.67559024 0.88413552\n",
            "  0.5857845  0.53302283 0.5517112  0.83246284 0.88263941 0.862536\n",
            "  0.7850013  0.3922533  0.33878291 0.24988854 0.7364257  0.52205293\n",
            "  0.2801887  0.88560084 0.64427667 0.82297051 0.43495759 0.65493082\n",
            "  0.82862244 0.4870256  0.6879721  0.52336191 0.77212442 0.59711792\n",
            "  0.15150299 0.6265397  0.82780068 0.89974827 0.81656837 0.65464415\n",
            "  0.37837494 0.81189069 0.64989892 0.97853473 0.59321522 0.74605069\n",
            "  0.53128453 0.41898543 0.54245846 0.10216736]\n",
            " [0.20141232 0.49525478 0.45092904 0.30186492 0.12054234 0.37546588\n",
            "  0.52254814 0.8064302  0.29122249 0.74118584 0.19796757 0.4699509\n",
            "  0.         0.22843879 0.48333385 0.54610806 0.49900079 0.27934822\n",
            "  0.4896948  0.57230788 0.40914363 0.52021777 0.62702647 0.20404092\n",
            "  0.4290716  0.3067416  0.45673917 0.11012391 0.41469451 0.21924857\n",
            "  0.32095843 0.31456838 0.42598872 0.22552466 0.33818629 0.36082069\n",
            "  0.53037478 0.25661417 0.31970472 0.70774182 0.6729127  0.27404024\n",
            "  0.51348712 0.14748622 0.51627912 0.33919066 0.23383568 0.52421166\n",
            "  0.6235169  0.39157235 0.66093472 0.51307748 0.2729181  0.50911406\n",
            "  0.72905405 0.49694103 0.24532234 0.01822654 0.31570777 0.47390311\n",
            "  0.13198077 0.50901044 0.1044777  0.36292102 0.41475042 0.39306255\n",
            "  0.78004308 0.08307526 0.14232788 0.2575731  0.28037    0.052184\n",
            "  0.2353944  0.41572659 0.51617459 0.71767172 0.04574643 0.251156\n",
            "  0.41241805 0.60259746 0.3585982  0.1009021  0.62714985 0.3133777\n",
            "  0.45021824 0.30557181 0.45469074 0.43228899 0.34681689 0.37557469\n",
            "  0.30627452 0.63618251 0.30334316 0.61846867 0.17672956 0.72896554\n",
            "  0.11168423 0.47620265 0.65534198 0.38314598]\n",
            " [0.25295362 0.67759578 0.57926175 0.52696594 0.34159356 0.3947153\n",
            "  0.57590665 1.0242597  0.32834743 0.92336359 0.42346807 0.51723057\n",
            "  0.22843879 0.         0.67809938 0.7562173  0.70393236 0.35896525\n",
            "  0.64143894 0.73988511 0.45664747 0.74814901 0.80959297 0.21549522\n",
            "  0.60798347 0.12903658 0.64205018 0.28477072 0.62986117 0.43780003\n",
            "  0.38886104 0.40583546 0.58574019 0.36316021 0.4019236  0.41327319\n",
            "  0.51443526 0.31968712 0.21319704 0.93550844 0.90047527 0.39260627\n",
            "  0.49022558 0.3700577  0.74065406 0.52597424 0.45441297 0.75162508\n",
            "  0.84718511 0.51977632 0.85206494 0.7386335  0.11728745 0.46887302\n",
            "  0.95592118 0.60924949 0.0650241  0.21422545 0.15927713 0.37284753\n",
            "  0.1967592  0.72176393 0.310046   0.44566098 0.50483721 0.4464289\n",
            "  0.99943961 0.26537885 0.22247008 0.26833499 0.42839516 0.23261736\n",
            "  0.39158052 0.47421615 0.74218976 0.94501076 0.25844893 0.45562194\n",
            "  0.32272639 0.79283303 0.57848418 0.32250172 0.85532423 0.54112987\n",
            "  0.56225623 0.11073642 0.31057936 0.46346577 0.4116427  0.60209811\n",
            "  0.17747067 0.86454299 0.13284246 0.81430589 0.38623979 0.94879353\n",
            "  0.14191848 0.66952006 0.8493824  0.41515478]\n",
            " [0.66029669 0.64459536 0.74215099 0.37554704 0.44155683 0.46777001\n",
            "  0.43023952 0.37847907 0.44497255 0.81261225 0.3141102  0.42905482\n",
            "  0.48333385 0.67809938 0.         0.55886776 0.56021974 0.69292537\n",
            "  0.16684548 0.73674838 0.8139356  0.36597675 0.72809788 0.49967364\n",
            "  0.09060743 0.78308359 0.0521887  0.39493832 0.1263975  0.42731944\n",
            "  0.39031592 0.70448873 0.66499595 0.60434007 0.39394958 0.41100736\n",
            "  0.5719067  0.41780321 0.80262141 0.40042435 0.46579591 0.32349429\n",
            "  0.57786422 0.42593859 0.21877827 0.15259424 0.41522724 0.38338947\n",
            "  0.49879142 0.70455958 0.17762529 0.2347898  0.7518423  0.60574323\n",
            "  0.39571683 0.28282973 0.71588141 0.5015591  0.79654466 0.95155389\n",
            "  0.60826476 0.10985167 0.48408827 0.74558521 0.77334824 0.79632077\n",
            "  0.36311232 0.4176439  0.46139602 0.48656026 0.61347072 0.51836214\n",
            "  0.29321902 0.80873378 0.24361293 0.39672428 0.43935343 0.4811362\n",
            "  0.88986726 0.11982472 0.42302195 0.4473478  0.35911248 0.33661471\n",
            "  0.28003005 0.77672688 0.93801368 0.84630407 0.75184397 0.35911053\n",
            "  0.64306805 0.40679468 0.7811688  0.67226948 0.46498427 0.32023075\n",
            "  0.59396417 0.01044307 0.17241818 0.44662021]\n",
            " [0.55096462 0.16161298 0.35026594 0.26472007 0.42572219 0.83837822\n",
            "  0.90581895 0.59230617 0.76677316 0.25418517 0.41720834 0.87589135\n",
            "  0.54610806 0.7562173  0.55886776 0.         0.06006682 0.48846742\n",
            "  0.70208513 0.22131605 0.53250956 0.2127552  0.17641926 0.7271996\n",
            "  0.5980274  0.78018288 0.58623185 0.57183343 0.43611142 0.32746653\n",
            "  0.75574758 0.45915015 0.26501307 0.42302979 0.77027676 0.79631497\n",
            "  0.99069837 0.72500403 0.72417668 0.38354902 0.26039922 0.6715923\n",
            "  0.98325873 0.39998671 0.3681137  0.54954994 0.31470806 0.19557453\n",
            "  0.15956237 0.36146447 0.66205851 0.34957273 0.74433007 0.99356657\n",
            "  0.42259074 0.79337845 0.74525683 0.55413217 0.76806452 0.79442892\n",
            "  0.56934551 0.47251283 0.4484575  0.46563272 0.44636934 0.52035903\n",
            "  0.55923825 0.56654125 0.65893488 0.76311588 0.36930014 0.52574009\n",
            "  0.60315736 0.51200137 0.3423074  0.40324499 0.54055375 0.30061406\n",
            "  0.74649641 0.63292079 0.19589008 0.44528351 0.31981993 0.2796092\n",
            "  0.76631927 0.79291553 0.84090057 0.56629691 0.50042656 0.22182428\n",
            "  0.85062979 0.27707267 0.77236587 0.11353039 0.37193224 0.52109213\n",
            "  0.61456882 0.56238633 0.64528787 0.83192495]\n",
            " [0.49324983 0.11150512 0.29411754 0.23343208 0.3795323  0.80669939\n",
            "  0.88468683 0.62985833 0.7324057  0.26708555 0.38540527 0.85162707\n",
            "  0.49900079 0.70393236 0.56021974 0.06006682 0.         0.42873455\n",
            "  0.69457299 0.18745466 0.47313643 0.23833167 0.16891131 0.68596734\n",
            "  0.590679   0.72360906 0.58277249 0.53296693 0.43471371 0.28298362\n",
            "  0.72585141 0.39909875 0.207052   0.36494188 0.7410029  0.76718845\n",
            "  0.96116434 0.69066564 0.66553357 0.42744401 0.31106283 0.64324492\n",
            "  0.95236327 0.3551769  0.38489115 0.53447863 0.27224465 0.22299145\n",
            "  0.21300947 0.30236041 0.67696287 0.36683501 0.68797406 0.96066495\n",
            "  0.46574141 0.77955589 0.69056758 0.50586945 0.71063957 0.73436647\n",
            "  0.51457533 0.48228704 0.39881996 0.40580114 0.38775932 0.46077254\n",
            "  0.59661743 0.52550798 0.61764151 0.7248675  0.30998544 0.47538664\n",
            "  0.57481733 0.45292256 0.3604724  0.44666702 0.49689048 0.24968731\n",
            "  0.68655542 0.64331449 0.16375931 0.3988188  0.3578022  0.25564508\n",
            "  0.7496173  0.73699753 0.78128227 0.50712045 0.44040323 0.20689164\n",
            "  0.80490723 0.32038079 0.71563955 0.12732063 0.32291725 0.55566568\n",
            "  0.56203409 0.56266704 0.66087907 0.80187237]\n",
            " [0.10650645 0.36311713 0.22423281 0.36470349 0.2547779  0.65057409\n",
            "  0.80187234 0.94112719 0.56674399 0.59396966 0.37971652 0.74918335\n",
            "  0.27934822 0.35896525 0.69292537 0.48846742 0.42873455 0.\n",
            "  0.74209918 0.40306946 0.13082654 0.57318315 0.48559602 0.4660682\n",
            "  0.66300413 0.32449039 0.68130894 0.38520216 0.58982632 0.27788488\n",
            "  0.60019956 0.04703462 0.25325293 0.09119683 0.61739225 0.63965253\n",
            "  0.80157797 0.53453431 0.2446403  0.78612154 0.7048358  0.55046991\n",
            "  0.78250229 0.26720623 0.64219623 0.57333164 0.29470263 0.56811869\n",
            "  0.62283233 0.16803845 0.86416656 0.63145268 0.2938678  0.77298712\n",
            "  0.81760309 0.76759383 0.31744714 0.26853357 0.30212814 0.31074492\n",
            "  0.17812019 0.68035804 0.2173555  0.08937887 0.14764959 0.11416086\n",
            "  0.91007803 0.35968927 0.41519898 0.52530488 0.12077262 0.2271808\n",
            "  0.50305396 0.13642086 0.6306534  0.80151824 0.31742232 0.24290848\n",
            "  0.25898041 0.81045209 0.37393129 0.2541196  0.70339934 0.40035282\n",
            "  0.72224853 0.34483796 0.35264418 0.15784864 0.06751876 0.43242321\n",
            "  0.51837656 0.68971838 0.31515168 0.51000884 0.22987636 0.86013684\n",
            "  0.24378906 0.68855058 0.85433012 0.66033834]\n",
            " [0.68682078 0.76612945 0.83404886 0.48300386 0.4889722  0.34652124\n",
            "  0.27006925 0.51661675 0.35032227 0.95586734 0.37425961 0.27915228\n",
            "  0.4896948  0.64143894 0.16684548 0.70208513 0.69457299 0.74209918\n",
            "  0.         0.85963918 0.87067273 0.52313796 0.86341238 0.43605825\n",
            "  0.10410234 0.76079576 0.12189649 0.38307796 0.26925307 0.50741628\n",
            "  0.28581648 0.76325491 0.7666208  0.66101772 0.28284956 0.29187703\n",
            "  0.42282785 0.33648576 0.80190945 0.56602732 0.63160927 0.25001903\n",
            "  0.43283694 0.48242827 0.38363097 0.17522792 0.50036169 0.53983605\n",
            "  0.65885388 0.78833439 0.25730042 0.39865997 0.73444244 0.46497078\n",
            "  0.55908186 0.11849028 0.69077436 0.50681527 0.78096327 0.96167633\n",
            "  0.62164195 0.27669504 0.52476131 0.8087114  0.8459644  0.85321083\n",
            "  0.50753426 0.40996435 0.41957981 0.40432401 0.68530451 0.53537389\n",
            "  0.25775454 0.87008164 0.40742986 0.56134475 0.44410558 0.56630534\n",
            "  0.90065097 0.20797739 0.5424769  0.48802356 0.5258377  0.44877069\n",
            "  0.12837178 0.74898338 0.93120657 0.89983669 0.80664816 0.48781438\n",
            "  0.5646581  0.57278441 0.76096218 0.81387381 0.52978722 0.47075144\n",
            "  0.59027811 0.15849415 0.2642699  0.3217074 ]\n",
            " [0.49630502 0.09352777 0.19336584 0.37832692 0.46612489 0.92214261\n",
            "  1.02419629 0.81311271 0.8418746  0.19152559 0.5157229  0.98478456\n",
            "  0.57230788 0.73988511 0.73674838 0.22131605 0.18745466 0.40306946\n",
            "  0.85963918 0.         0.39247484 0.42540147 0.09365164 0.77434801\n",
            "  0.75731063 0.72631219 0.75416544 0.63550208 0.61035403 0.38728884\n",
            "  0.84776378 0.3601174  0.15428298 0.37672905 0.86416688 0.89017549\n",
            "  1.07982089 0.80132123 0.6463685  0.60467892 0.47859473 0.77105526\n",
            "  1.06746919 0.44958488 0.57154388 0.69116352 0.38468606 0.40963333\n",
            "  0.37668134 0.23738381 0.8621014  0.55365976 0.69410326 1.06996898\n",
            "  0.64380576 0.93410139 0.71052664 0.5734219  0.70512759 0.67261105\n",
            "  0.54318731 0.6656494  0.46812418 0.34373519 0.30144897 0.38603106\n",
            "  0.7799733  0.62115724 0.70824705 0.82243704 0.31149702 0.5345459\n",
            "  0.70465051 0.36810754 0.54749232 0.6244356  0.58453537 0.33360193\n",
            "  0.63660262 0.82618508 0.31735313 0.48248205 0.54045415 0.4109241\n",
            "  0.89957526 0.74519943 0.73927147 0.42029195 0.38491623 0.3776739\n",
            "  0.87174864 0.49837119 0.71716755 0.15254584 0.4037933  0.74068536\n",
            "  0.60300106 0.73816752 0.84634816 0.92177963]\n",
            " [0.22054205 0.38310708 0.19947673 0.46619041 0.38188115 0.77701684\n",
            "  0.93157241 1.03821957 0.69369424 0.58056649 0.50362978 0.87830734\n",
            "  0.40914363 0.45664747 0.8139356  0.53250956 0.47313643 0.13082654\n",
            "  0.87067273 0.39247484 0.         0.65511276 0.48437546 0.58953616\n",
            "  0.78899935 0.39053231 0.80544565 0.5158554  0.70532363 0.38977901\n",
            "  0.7294314  0.10944925 0.26965446 0.21084889 0.74655296 0.76835744\n",
            "  0.92563133 0.66277267 0.29001778 0.86796612 0.77264188 0.68116208\n",
            "  0.90563603 0.39129656 0.7436978  0.70017966 0.40455697 0.6472125\n",
            "  0.68180275 0.17128093 0.98178658 0.73118308 0.36788671 0.89398684\n",
            "  0.90206866 0.89829149 0.40427784 0.39750013 0.36016667 0.28059619\n",
            "  0.29825461 0.79282764 0.34669706 0.07338691 0.09130705 0.01763534\n",
            "  1.00621972 0.49016532 0.5422226  0.64967122 0.20706321 0.35697947\n",
            "  0.63378211 0.02499933 0.72928799 0.8848095  0.44804095 0.34414591\n",
            "  0.25000606 0.92972502 0.46008027 0.38292319 0.78727118 0.50461568\n",
            "  0.85303154 0.41526031 0.35422414 0.03548009 0.06413448 0.52556161\n",
            "  0.62682339 0.76618566 0.38079675 0.52599811 0.34905418 0.95758041\n",
            "  0.36134348 0.81018948 0.97099631 0.7878513 ]\n",
            " [0.60049038 0.34655866 0.50771359 0.22594856 0.40928035 0.72585502\n",
            "  0.75664498 0.39614142 0.66730748 0.45687574 0.33765686 0.73691229\n",
            "  0.52021777 0.74814901 0.36597675 0.2127552  0.23833167 0.57318315\n",
            "  0.52313796 0.42540147 0.65511276 0.         0.38915792 0.65910185\n",
            "  0.4220778  0.80577398 0.40200048 0.50327559 0.25513832 0.3220784\n",
            "  0.63981014 0.55924675 0.41759106 0.48787834 0.65151264 0.67603627\n",
            "  0.86628817 0.62734203 0.77616665 0.21344614 0.15321953 0.55408206\n",
            "  0.86380693 0.38079992 0.15837059 0.39657665 0.3035349  0.01798245\n",
            "  0.13736478 0.4968324  0.45113966 0.13979755 0.76928318 0.88120449\n",
            "  0.24695808 0.62705226 0.75559503 0.53392596 0.80299975 0.88177039\n",
            "  0.59054353 0.26847392 0.4475461  0.58213527 0.58226241 0.63971972\n",
            "  0.3629725  0.50830686 0.59501781 0.67988711 0.45639526 0.5204064\n",
            "  0.489811   0.63968647 0.13185028 0.22979134 0.49733943 0.33425441\n",
            "  0.82591756 0.42578024 0.1992569  0.42741402 0.13219394 0.20703044\n",
            "  0.60828276 0.81180664 0.90698407 0.69058259 0.60739876 0.14936291\n",
            "  0.79935241 0.1194023  0.79977697 0.32308457 0.37954409 0.31944781\n",
            "  0.61612963 0.37139805 0.43403931 0.71369321]\n",
            " [0.57317511 0.1326498  0.28489901 0.39486785 0.51371497 0.96007966\n",
            "  1.04814428 0.76092887 0.88258047 0.1144457  0.54285811 1.01273113\n",
            "  0.62702647 0.80959297 0.72809788 0.17641926 0.16891131 0.48559602\n",
            "  0.86341238 0.09365164 0.48437546 0.38915792 0.         0.82460786\n",
            "  0.75955777 0.80547185 0.75155804 0.67824222 0.60306637 0.42519605\n",
            "  0.88188737 0.44477804 0.23240506 0.44876212 0.89765414 0.92385988\n",
            "  1.11649546 0.84122297 0.73014956 0.54668029 0.41498449 0.80148949\n",
            "  1.10604317 0.49346244 0.54403513 0.70195642 0.41870439 0.37190176\n",
            "  0.31448859 0.3241565  0.83791529 0.52555032 0.77215751 1.11159325\n",
            "  0.58613826 0.94701301 0.78488418 0.63040597 0.78618501 0.76376982\n",
            "  0.6132924  0.6464704  0.52276767 0.43251256 0.39311075 0.47718914\n",
            "  0.72823598 0.66695206 0.75706436 0.86882632 0.38443496 0.59415937\n",
            "  0.73356847 0.46025754 0.51842215 0.56671333 0.63347033 0.37847482\n",
            "  0.72601198 0.80735893 0.3271224  0.53161373 0.49054565 0.42125921\n",
            "  0.91595413 0.82304856 0.82788269 0.51294967 0.47317878 0.37562082\n",
            "  0.93142645 0.44329901 0.79656688 0.07395924 0.45232257 0.69271956\n",
            "  0.66986094 0.73081912 0.8212745  0.95729504]\n",
            " [0.36929606 0.69431668 0.65370537 0.46648279 0.31089468 0.19198705\n",
            "  0.36609525 0.86784795 0.11549214 0.93795749 0.32328509 0.30802034\n",
            "  0.20404092 0.21549522 0.49967364 0.7271996  0.68596734 0.4660682\n",
            "  0.43605825 0.77434801 0.58953616 0.65910185 0.82460786 0.\n",
            "  0.41922199 0.34330268 0.45666985 0.15777378 0.48143717 0.40336743\n",
            "  0.17343439 0.50675872 0.6297467  0.42623702 0.18691062 0.20017721\n",
            "  0.33609778 0.10457125 0.41137998 0.8165949  0.81069586 0.18669268\n",
            "  0.31647911 0.33221012 0.60969545 0.34918924 0.41377562 0.66732933\n",
            "  0.77971004 0.59382444 0.66491193 0.61246182 0.32488886 0.30787439\n",
            "  0.82984501 0.39455021 0.27457779 0.20697797 0.370424   0.57634881\n",
            "  0.29131674 0.56437033 0.30667723 0.55413863 0.60943455 0.57515461\n",
            "  0.84690896 0.16068352 0.06833787 0.06089401 0.48371125 0.24964757\n",
            "  0.20720525 0.60042254 0.61797877 0.82232905 0.19113898 0.44613667\n",
            "  0.5206021  0.60634214 0.53231946 0.29314036 0.74326045 0.4644417\n",
            "  0.34797233 0.32622891 0.52364662 0.60685336 0.5314235  0.53020912\n",
            "  0.14689699 0.76489845 0.34591295 0.80980699 0.37250078 0.79832687\n",
            "  0.23039248 0.49004844 0.66486245 0.20798054]\n",
            " [0.61786742 0.66387811 0.73928679 0.3823457  0.40822983 0.37725389\n",
            "  0.34697736 0.46851782 0.35705555 0.85177033 0.2861089  0.34132914\n",
            "  0.4290716  0.60798347 0.09060743 0.5980274  0.590679   0.66300413\n",
            "  0.10410234 0.75731063 0.78899935 0.4220778  0.75955777 0.41922199\n",
            "  0.         0.71913639 0.03956564 0.33088803 0.16704248 0.41442732\n",
            "  0.30067902 0.68021824 0.66880053 0.57818203 0.30376941 0.32047438\n",
            "  0.483226   0.33205548 0.74797297 0.48395773 0.53753087 0.23776086\n",
            "  0.48837227 0.39778961 0.28978349 0.09090971 0.4056909  0.4384163\n",
            "  0.55868384 0.69603433 0.24596493 0.30329335 0.68970158 0.51563779\n",
            "  0.48205855 0.20635227 0.65040653 0.44704126 0.73541463 0.90258883\n",
            "  0.5588237  0.19179957 0.44750246 0.72413894 0.75787782 0.7713976\n",
            "  0.45364566 0.35587662 0.38719642 0.40135237 0.59669494 0.46973164\n",
            "  0.21695198 0.78650043 0.31188782 0.48175889 0.38361206 0.47224226\n",
            "  0.84096573 0.18716486 0.4399615  0.41024813 0.43557395 0.34695539\n",
            "  0.1954566  0.71059025 0.88128467 0.81964231 0.72549283 0.38404619\n",
            "  0.55986409 0.47940458 0.71805099 0.70977151 0.44249419 0.41078973\n",
            "  0.53646001 0.08017385 0.24565676 0.35601449]\n",
            " [0.23305953 0.67776578 0.5476477  0.57991105 0.39858375 0.52356497\n",
            "  0.70493979 1.11295837 0.4570707  0.91611815 0.50327609 0.64626078\n",
            "  0.3067416  0.12903658 0.78308359 0.78018288 0.72360906 0.32449039\n",
            "  0.76079576 0.72631219 0.39053231 0.80577398 0.80547185 0.34330268\n",
            "  0.71913639 0.         0.75103841 0.38893568 0.72132439 0.48455361\n",
            "  0.51669332 0.36995074 0.5738786  0.36094547 0.53014805 0.54206196\n",
            "  0.63912105 0.44672836 0.10646834 1.00477295 0.95440724 0.51474405\n",
            "  0.61425973 0.42649991 0.82046004 0.63328165 0.50281001 0.80658395\n",
            "  0.89003568 0.4925229  0.95957337 0.81602832 0.03658774 0.5905406\n",
            "  1.02876615 0.73513206 0.07018285 0.28917125 0.03581032 0.24965571\n",
            "  0.21613312 0.81543597 0.35838218 0.39973107 0.45688428 0.38449502\n",
            "  1.08625544 0.36546389 0.34190656 0.39726849 0.42261694 0.28924397\n",
            "  0.50595459 0.41208115 0.81847931 1.01617516 0.34680506 0.48689039\n",
            "  0.20626596 0.90053391 0.62053206 0.38196278 0.92245722 0.60146154\n",
            "  0.68781168 0.0269712  0.18159083 0.38832121 0.36022973 0.65655847\n",
            "  0.29454606 0.92472416 0.00974145 0.82180533 0.42788997 1.03510556\n",
            "  0.19633141 0.77516163 0.95545563 0.5441708 ]\n",
            " [0.64121499 0.66111339 0.74631739 0.38391129 0.42717687 0.41650796\n",
            "  0.37953192 0.42909482 0.39647273 0.84041313 0.30192146 0.37709239\n",
            "  0.45673917 0.64205018 0.0521887  0.58623185 0.58277249 0.68130894\n",
            "  0.12189649 0.75416544 0.80544565 0.40200048 0.75155804 0.45666985\n",
            "  0.03956564 0.75103841 0.         0.36213162 0.150356   0.42471347\n",
            "  0.34024077 0.69620549 0.6728111  0.59472812 0.34324609 0.35971435\n",
            "  0.51979568 0.3709938  0.77636062 0.4505201  0.51033351 0.27661911\n",
            "  0.52567679 0.41449568 0.26216799 0.1180695  0.41448367 0.41889659\n",
            "  0.53724166 0.70540415 0.2101451  0.27691552 0.72089926 0.55360136\n",
            "  0.44695368 0.23418316 0.68281375 0.47486413 0.7662738  0.92889929\n",
            "  0.58488156 0.15839698 0.46798421 0.73902574 0.77030924 0.78781259\n",
            "  0.41453968 0.38630454 0.42245619 0.44018848 0.60933976 0.49524583\n",
            "  0.252505   0.80181675 0.28566705 0.44744884 0.41172343 0.48109973\n",
            "  0.86719784 0.15095381 0.43745246 0.43078798 0.40583532 0.34670147\n",
            "  0.22872206 0.74329576 0.91058824 0.83684684 0.74242874 0.37769108\n",
            "  0.59822416 0.4516746  0.74964231 0.69896064 0.45702188 0.3721925\n",
            "  0.56566859 0.04195086 0.20860622 0.39503519]\n",
            " [0.31151876 0.55077172 0.53746877 0.30939902 0.17071251 0.2881341\n",
            "  0.41915523 0.74156851 0.20648327 0.79018137 0.16608335 0.36921793\n",
            "  0.11012391 0.28477072 0.39493832 0.57183343 0.53296693 0.38520216\n",
            "  0.38307796 0.63550208 0.5158554  0.50327559 0.67824222 0.15777378\n",
            "  0.33088803 0.38893568 0.36213162 0.         0.34757155 0.25319973\n",
            "  0.22173276 0.41704029 0.49913525 0.32141244 0.23900063 0.26352949\n",
            "  0.44599066 0.16652635 0.41961254 0.66953842 0.65566537 0.1653215\n",
            "  0.43243735 0.18602331 0.46649371 0.24435399 0.26137311 0.51087544\n",
            "  0.62214118 0.48048719 0.57079771 0.46704785 0.35890039 0.43458632\n",
            "  0.68576509 0.38683794 0.32107857 0.12576994 0.40453033 0.57859911\n",
            "  0.24093206 0.43792907 0.18273806 0.46532717 0.51400063 0.49935627\n",
            "  0.71775334 0.02727513 0.09178318 0.19190812 0.36784269 0.16064756\n",
            "  0.12628411 0.52086065 0.4717594  0.67678069 0.0678295  0.30220104\n",
            "  0.51761647 0.51169704 0.37623533 0.15684575 0.59340328 0.30667935\n",
            "  0.34019801 0.38183679 0.55120743 0.54035157 0.45265001 0.37244551\n",
            "  0.29627969 0.61169467 0.38751565 0.65840967 0.23254276 0.66758663\n",
            "  0.20758737 0.38674618 0.56706145 0.29083106]\n",
            " [0.57061543 0.51821997 0.62068821 0.2532205  0.34817167 0.49925616\n",
            "  0.50553271 0.39441801 0.45580507 0.69028855 0.22343875 0.49101496\n",
            "  0.41469451 0.62986117 0.1263975  0.43611142 0.43471371 0.58982632\n",
            "  0.26925307 0.61035403 0.70532363 0.25513832 0.60306637 0.48143717\n",
            "  0.16704248 0.72132439 0.150356   0.34757155 0.         0.31556485\n",
            "  0.41440553 0.59641596 0.5413711  0.49927256 0.42297298 0.44506758\n",
            "  0.626889   0.42066006 0.72610269 0.34488809 0.37732434 0.33320335\n",
            "  0.62776685 0.32779122 0.13694057 0.15450604 0.30137201 0.27138689\n",
            "  0.39202807 0.58600061 0.27698039 0.14600849 0.68759949 0.64983719\n",
            "  0.35249208 0.37208744 0.65805801 0.43247867 0.72988647 0.86573626\n",
            "  0.52846078 0.09484978 0.39255512 0.6349084  0.65834778 0.68784816\n",
            "  0.3701874  0.36466381 0.42962851 0.4839859  0.50086813 0.44030425\n",
            "  0.28073756 0.69810324 0.1538111  0.34739445 0.37526426 0.36530698\n",
            "  0.80459696 0.22801059 0.29719046 0.35793883 0.2832113  0.2135236\n",
            "  0.35531004 0.71892204 0.86276281 0.73880574 0.64494756 0.23271439\n",
            "  0.6283314  0.32090643 0.71803486 0.5490645  0.35996265 0.32005857\n",
            "  0.52606007 0.12809749 0.26570912 0.48286459]\n",
            " [0.28201401 0.29936511 0.32683297 0.09654692 0.09872755 0.53615826\n",
            "  0.63964608 0.66623438 0.45758205 0.53698624 0.13605097 0.59831207\n",
            "  0.21924857 0.43780003 0.42731944 0.32746653 0.28298362 0.27788488\n",
            "  0.50741628 0.38728884 0.38977901 0.3220784  0.42519605 0.40336743\n",
            "  0.41442732 0.48455361 0.42471347 0.25319973 0.31556485 0.\n",
            "  0.46053951 0.28106352 0.26556456 0.18669303 0.47689514 0.50292614\n",
            "  0.69342007 0.4163842  0.45554497 0.52728989 0.46986512 0.38422831\n",
            "  0.68194894 0.07253671 0.3662064  0.3321911  0.01871758 0.32217269\n",
            "  0.40982008 0.28162311 0.59224575 0.3566623  0.44798812 0.68655329\n",
            "  0.55497872 0.56249535 0.43750061 0.22852492 0.48096136 0.5725037\n",
            "  0.26874229 0.40372853 0.12858152 0.31950198 0.34620271 0.37232403\n",
            "  0.63589077 0.24341842 0.33511589 0.44450019 0.18623111 0.20528108\n",
            "  0.31876692 0.38272842 0.3566788  0.54057522 0.21392809 0.05952687\n",
            "  0.51382    0.54102422 0.14074701 0.11839253 0.44399493 0.12571185\n",
            "  0.52361489 0.49184112 0.58848669 0.42340857 0.32988879 0.17275332\n",
            "  0.52318706 0.44142209 0.47829428 0.40649426 0.05760659 0.58536219\n",
            "  0.29958106 0.42446289 0.58126521 0.53487311]\n",
            " [0.51502227 0.75947392 0.7589727  0.49275388 0.38982871 0.08611816\n",
            "  0.20280371 0.76879368 0.06625038 0.99051562 0.34047047 0.14899363\n",
            "  0.32095843 0.38886104 0.39031592 0.75574758 0.72585141 0.60019956\n",
            "  0.28581648 0.84776378 0.7294314  0.63981014 0.88188737 0.17343439\n",
            "  0.30067902 0.51669332 0.34024077 0.22173276 0.41440553 0.46053951\n",
            "  0.         0.63516662 0.71742431 0.5421323  0.01731474 0.04247772\n",
            "  0.23531668 0.0714506  0.58113541 0.75907215 0.78179915 0.0859381\n",
            "  0.22770412 0.40090524 0.55124254 0.26097608 0.46440657 0.65193093\n",
            "  0.7727364  0.7022064  0.53486549 0.55903532 0.49747851 0.24163899\n",
            "  0.76447256 0.22432536 0.44772188 0.33193572 0.54334612 0.74628879\n",
            "  0.4381635  0.47834294 0.40446515 0.68355531 0.73405276 0.71360877\n",
            "  0.7527766  0.24387723 0.19220472 0.12556787 0.58956973 0.37306002\n",
            "  0.15318641 0.73661464 0.56624979 0.76073851 0.28649412 0.51508888\n",
            "  0.6890402  0.47933474 0.56260312 0.37757568 0.69616902 0.4765781\n",
            "  0.17960983 0.49959457 0.69668817 0.7511675  0.66759725 0.53846809\n",
            "  0.28188286 0.72890134 0.51917396 0.85315943 0.45006247 0.70813929\n",
            "  0.38576285 0.37991466 0.53835728 0.07617767]\n",
            " [0.1530709  0.3258862  0.17786575 0.36071229 0.27432356 0.68869714\n",
            "  0.83566883 0.93572029 0.60457932 0.55149986 0.39452291 0.78407262\n",
            "  0.31456838 0.40583546 0.70448873 0.45915015 0.39909875 0.04703462\n",
            "  0.76325491 0.3601174  0.10944925 0.55924675 0.44477804 0.50675872\n",
            "  0.68021824 0.36995074 0.69620549 0.41704029 0.59641596 0.28106352\n",
            "  0.63516662 0.         0.21346122 0.10227258 0.65244062 0.6753398\n",
            "  0.84124906 0.57106404 0.28625112 0.77269273 0.68509394 0.58155335\n",
            "  0.82275508 0.28243014 0.63899194 0.59180222 0.29631806 0.55282987\n",
            "  0.5993811  0.12329796 0.87264896 0.62715603 0.33998843 0.81436426\n",
            "  0.80547671 0.79479499 0.3644094  0.30533293 0.34644488 0.33532822\n",
            "  0.22224607 0.68462737 0.24152264 0.04839025 0.10314647 0.09183207\n",
            "  0.90410874 0.39247493 0.45343278 0.56526651 0.10330794 0.26289525\n",
            "  0.53089909 0.10685409 0.62570526 0.78880131 0.34980394 0.23796027\n",
            "  0.28834461 0.82038301 0.36110845 0.2767837  0.69076219 0.39833279\n",
            "  0.75025398 0.39083245 0.38644807 0.14239018 0.04945156 0.42371953\n",
            "  0.56384667 0.67361717 0.36051875 0.47298997 0.23961682 0.85484303\n",
            "  0.28814083 0.7007424  0.86200465 0.69742178]\n",
            " [0.34265083 0.11447278 0.09026746 0.28960323 0.3284806  0.78726665\n",
            "  0.90321326 0.81307051 0.70502036 0.34226277 0.40122363 0.85969685\n",
            "  0.42598872 0.58574019 0.66499595 0.26501307 0.207052   0.25325293\n",
            "  0.7666208  0.15428298 0.26965446 0.41759106 0.23240506 0.6297467\n",
            "  0.66880053 0.5738786  0.6728111  0.49913525 0.5413711  0.26556456\n",
            "  0.71742431 0.21346122 0.         0.22260018 0.73431918 0.75985435\n",
            "  0.94509854 0.66562364 0.49787449 0.62334554 0.51533438 0.64573518\n",
            "  0.93104077 0.31672085 0.53736398 0.59246386 0.26869156 0.40607184\n",
            "  0.41949861 0.09886605 0.81138349 0.52157253 0.5410881  0.93079996\n",
            "  0.66009565 0.82757003 0.55642075 0.425397   0.55395546 0.54121583\n",
            "  0.38912625 0.61305717 0.32343078 0.2075325  0.1816218  0.25888513\n",
            "  0.78002482 0.48200753 0.56533903 0.68064458 0.1573755  0.3850725\n",
            "  0.58224245 0.24808547 0.51741646 0.64166483 0.44298989 0.20654864\n",
            "  0.49903985 0.76773369 0.24886657 0.34275962 0.54737559 0.32839946\n",
            "  0.78913405 0.59212248 0.59912286 0.30253421 0.246205   0.31897004\n",
            "  0.72068041 0.51756429 0.56486741 0.26065735 0.26739386 0.73489676\n",
            "  0.44962738 0.66438742 0.79747637 0.78929358]\n",
            " [0.12857695 0.31847593 0.22837703 0.27471656 0.17217049 0.60070072\n",
            "  0.74049586 0.85080809 0.51649849 0.56166259 0.29283831 0.69041259\n",
            "  0.22552466 0.36316021 0.60434007 0.42302979 0.36494188 0.09119683\n",
            "  0.66101772 0.37672905 0.21084889 0.48787834 0.44876212 0.42623702\n",
            "  0.57818203 0.36094547 0.59472812 0.32141244 0.49927256 0.18669303\n",
            "  0.5421323  0.10227258 0.22260018 0.         0.55944698 0.58318952\n",
            "  0.75589794 0.48082117 0.30159421 0.69983247 0.62423046 0.484191\n",
            "  0.73885932 0.18044768 0.55149547 0.4895829  0.20359754 0.48392643\n",
            "  0.5469991  0.16800533 0.77431545 0.54102878 0.32620228 0.73349891\n",
            "  0.73040886 0.69423734 0.33615018 0.21963822 0.34608785 0.39394202\n",
            "  0.16653318 0.58938092 0.14137978 0.14823637 0.19281645 0.1932341\n",
            "  0.81994176 0.29826076 0.36759393 0.48219198 0.06523507 0.17669328\n",
            "  0.43114364 0.20906485 0.54041814 0.71472474 0.25565097 0.1544329\n",
            "  0.33830694 0.72115192 0.28913496 0.17547337 0.61675109 0.30967319\n",
            "  0.65018648 0.3764685  0.42403073 0.24220887 0.14773313 0.34430271\n",
            "  0.50254332 0.60572485 0.35257045 0.46106832 0.13971774 0.76982572\n",
            "  0.22803491 0.60029604 0.76420236 0.60745387]\n",
            " [0.53187416 0.7756565  0.77617631 0.50775275 0.40688223 0.07630088\n",
            "  0.1860429  0.77227806 0.07550945 1.00599385 0.35574442 0.13179227\n",
            "  0.33818629 0.4019236  0.39394958 0.77027676 0.7410029  0.61739225\n",
            "  0.28284956 0.86416688 0.74655296 0.65151264 0.89765414 0.18691062\n",
            "  0.30376941 0.53014805 0.34324609 0.23900063 0.42297298 0.47689514\n",
            "  0.01731474 0.65244062 0.73431918 0.55944698 0.         0.02621603\n",
            "  0.22043533 0.08703196 0.59608351 0.76718371 0.79240831 0.09906744\n",
            "  0.21393816 0.41772655 0.55990944 0.26887143 0.48052834 0.66388882\n",
            "  0.78502794 0.71945934 0.53451174 0.56814827 0.51157242 0.22972679\n",
            "  0.77179175 0.21495197 0.46147824 0.34907182 0.55726799 0.76125071\n",
            "  0.45489704 0.48442498 0.42173734 0.70082853 0.75136153 0.73075696\n",
            "  0.75691024 0.26119147 0.20856668 0.13616845 0.60682783 0.39027227\n",
            "  0.16720083 0.75381051 0.57549181 0.76844677 0.30380876 0.53169605\n",
            "  0.70427554 0.47971809 0.57759846 0.39473386 0.7054145  0.49089484\n",
            "  0.17163808 0.51260078 0.71053668 0.76818028 0.68477631 0.55233745\n",
            "  0.28920923 0.73903689 0.53282166 0.86832273 0.46698955 0.7128594\n",
            "  0.40200157 0.38351743 0.53857823 0.06240159]\n",
            " [0.55252946 0.80176794 0.80095287 0.5339176  0.43213609 0.05679728\n",
            "  0.1671438  0.78870657 0.0850269  1.03220849 0.38195064 0.1106674\n",
            "  0.36082069 0.41327319 0.41100736 0.79631497 0.76718845 0.63965253\n",
            "  0.29187703 0.89017549 0.76835744 0.67603627 0.92385988 0.20017721\n",
            "  0.32047438 0.54206196 0.35971435 0.26352949 0.44506758 0.50292614\n",
            "  0.04247772 0.6753398  0.75985435 0.58318952 0.02621603 0.\n",
            "  0.19438575 0.10607593 0.6112417  0.78862668 0.81607033 0.12486701\n",
            "  0.18847635 0.44336824 0.58197898 0.2906364  0.50665726 0.68858717\n",
            "  0.80992963 0.74398917 0.54633817 0.59061683 0.5248781  0.20570555\n",
            "  0.79244915 0.21424411 0.47413573 0.37113347 0.57014049 0.77632641\n",
            "  0.47516105 0.50401634 0.44617247 0.72371051 0.77475114 0.75271543\n",
            "  0.77411115 0.2850975  0.22812007 0.14512931 0.63133418 0.41275957\n",
            "  0.19317521 0.7760604  0.59807097 0.78949462 0.32757187 0.55755912\n",
            "  0.720054   0.49261463 0.60376066 0.41970873 0.72793811 0.5168782\n",
            "  0.17405106 0.52361619 0.72310446 0.78943299 0.70693182 0.5781405\n",
            "  0.29075273 0.76232229 0.54513814 0.89450883 0.49247923 0.73076074\n",
            "  0.42073485 0.40056439 0.55115959 0.03790777]\n",
            " [0.70531641 0.99277646 0.97980629 0.72805404 0.61670103 0.1578957\n",
            "  0.16531926 0.93915311 0.24059359 1.22560578 0.57577106 0.14391755\n",
            "  0.53037478 0.51443526 0.5719067  0.99069837 0.96116434 0.80157797\n",
            "  0.42282785 1.07982089 0.92563133 0.86628817 1.11649546 0.33609778\n",
            "  0.483226   0.63912105 0.51979568 0.44599066 0.626889   0.69342007\n",
            "  0.23531668 0.84124906 0.94509854 0.75589794 0.22043533 0.19438575\n",
            "  0.         0.27947608 0.72680518 0.96498872 1.00255341 0.31919592\n",
            "  0.02674764 0.63070288 0.76250082 0.47351293 0.69825091 0.87946295\n",
            "  1.00140669 0.92119516 0.67667273 0.7728082  0.63171937 0.06409757\n",
            "  0.96494374 0.31061606 0.57944206 0.53711694 0.67221347 0.887059\n",
            "  0.62739456 0.67432952 0.62506938 0.88902584 0.94329171 0.91123558\n",
            "  0.92890145 0.46373099 0.38855943 0.27628527 0.80904397 0.58011988\n",
            "  0.38755907 0.93640379 0.78069215 0.96393096 0.50437125 0.74629115\n",
            "  0.83682408 0.630501   0.79790414 0.60247078 0.90965598 0.71125715\n",
            "  0.29541952 0.61575381 0.8179632  0.94260325 0.86732615 0.77231744\n",
            "  0.3471349  0.94730841 0.64467076 1.08846901 0.67837531 0.88974813\n",
            "  0.56561758 0.56174315 0.68542521 0.15934798]\n",
            " [0.44647917 0.7154415  0.70187818 0.46028919 0.33723833 0.12168061\n",
            "  0.27248837 0.79350892 0.04178072 0.95196263 0.3080479  0.2167148\n",
            "  0.25661417 0.31968712 0.41780321 0.72500403 0.69066564 0.53453431\n",
            "  0.33648576 0.80132123 0.66277267 0.62734203 0.84122297 0.10457125\n",
            "  0.33205548 0.44672836 0.3709938  0.16652635 0.42066006 0.4163842\n",
            "  0.0714506  0.57106404 0.66562364 0.48082117 0.08703196 0.10607593\n",
            "  0.27947608 0.         0.50973448 0.76413429 0.77440531 0.09439996\n",
            "  0.26616238 0.35178484 0.55520499 0.27450274 0.4225866  0.63793271\n",
            "  0.75611924 0.64393744 0.57477151 0.56076975 0.42671333 0.27046863\n",
            "  0.77314039 0.28997963 0.37739305 0.26607333 0.47275334 0.67487783\n",
            "  0.36908521 0.49474683 0.34660484 0.61937198 0.67130668 0.64725729\n",
            "  0.77500939 0.18481529 0.1220895  0.06945797 0.53140688 0.30818049\n",
            "  0.14093756 0.67087027 0.56728331 0.76765657 0.2263062  0.46773667\n",
            "  0.6175896  0.51725533 0.52955344 0.32305365 0.69617432 0.4493185\n",
            "  0.2434735  0.43034907 0.62612738 0.68352742 0.60167131 0.51363942\n",
            "  0.22965519 0.72424636 0.44893794 0.81741502 0.39900598 0.72824671\n",
            "  0.31516215 0.40769781 0.57631961 0.12664737]\n",
            " [0.17681808 0.60718221 0.46053999 0.55200597 0.38382518 0.6002259\n",
            "  0.77747151 1.10943159 0.52685692 0.83772362 0.5028747  0.71931223\n",
            "  0.31970472 0.21319704 0.80262141 0.72417668 0.66553357 0.2446403\n",
            "  0.80190945 0.6463685  0.29001778 0.77616665 0.73014956 0.41137998\n",
            "  0.74797297 0.10646834 0.77636062 0.41961254 0.72610269 0.45554497\n",
            "  0.58113541 0.28625112 0.49787449 0.30159421 0.59608351 0.6112417\n",
            "  0.72680518 0.50973448 0.         0.98279388 0.91938979 0.56510768\n",
            "  0.70292157 0.40921858 0.81123148 0.65861945 0.47426196 0.77465886\n",
            "  0.84674497 0.40929212 0.98024331 0.80448631 0.09756246 0.68205777\n",
            "  1.00990576 0.79062487 0.14847405 0.30153687 0.07226651 0.1651672\n",
            "  0.19776093 0.82094387 0.3398177  0.30873775 0.36318927 0.28588268\n",
            "  1.08093536 0.39334111 0.3939979  0.46985144 0.35641455 0.28616212\n",
            "  0.54415699 0.31278463 0.80581352 0.99585346 0.36465586 0.44513382\n",
            "  0.11020424 0.92209641 0.58219447 0.37070383 0.8995264  0.57922766\n",
            "  0.74290155 0.13323892 0.1366757  0.28466852 0.26768185 0.62754035\n",
            "  0.38923332 0.89550138 0.09727656 0.75368983 0.39801539 1.0297483\n",
            "  0.21205714 0.79566878 0.97423429 0.61846952]\n",
            " [0.80876771 0.53893605 0.71351891 0.43099065 0.60624422 0.84347726\n",
            "  0.83003493 0.21788812 0.80020436 0.58094921 0.51274148 0.82471515\n",
            "  0.70774182 0.93550844 0.40042435 0.38354902 0.42744401 0.78612154\n",
            "  0.56602732 0.60467892 0.86796612 0.21344614 0.54668029 0.8165949\n",
            "  0.48395773 1.00477295 0.4505201  0.66953842 0.34488809 0.52728989\n",
            "  0.75907215 0.77269273 0.62334554 0.69983247 0.76718371 0.78862668\n",
            "  0.96498872 0.76413429 0.98279388 0.         0.13523113 0.67802865\n",
            "  0.96800061 0.57855758 0.20893447 0.49831704 0.5085733  0.2207713\n",
            "  0.23230542 0.7072776  0.3940119  0.20428416 0.96865185 0.99207523\n",
            "  0.03945862 0.68316019 0.95018795 0.72322251 1.00491308 1.09371512\n",
            "  0.79232817 0.29234238 0.64752842 0.79516202 0.79331998 0.85274494\n",
            "  0.18679789 0.68037731 0.75852856 0.82541477 0.6698104  0.71595115\n",
            "  0.6233562  0.85205235 0.19861614 0.02005487 0.67807599 0.5455708\n",
            "  1.03711291 0.39785972 0.41231708 0.62287096 0.08337096 0.40437929\n",
            "  0.67893485 1.00845017 1.11551975 0.90341051 0.82081967 0.35664362\n",
            "  0.96232768 0.10707285 0.99945021 0.47321672 0.58478117 0.16408906\n",
            "  0.81090364 0.40971728 0.37601802 0.82622584]\n",
            " [0.74270964 0.42082307 0.60418068 0.37531623 0.56035254 0.86786281\n",
            "  0.88214815 0.35310692 0.8135403  0.44572035 0.49046115 0.86822166\n",
            "  0.6729127  0.90047527 0.46579591 0.26039922 0.31106283 0.7048358\n",
            "  0.63160927 0.47859473 0.77264188 0.15321953 0.41498449 0.81069586\n",
            "  0.53753087 0.95440724 0.51033351 0.65566537 0.37732434 0.46986512\n",
            "  0.78179915 0.68509394 0.51533438 0.62423046 0.79240831 0.81607033\n",
            "  1.00255341 0.77440531 0.91938979 0.13523113 0.         0.69689453\n",
            "  1.00202517 0.53178627 0.24819391 0.52908867 0.45168974 0.14887647\n",
            "  0.1019186  0.6057497  0.50090319 0.23424799 0.91783518 1.02177577\n",
            "  0.17412063 0.74350917 0.9061561  0.68633161 0.9499954  1.01552375\n",
            "  0.73845313 0.35700563 0.59720979 0.70153466 0.69226515 0.75858535\n",
            "  0.32180451 0.66127089 0.74730263 0.82929268 0.58487795 0.67139024\n",
            "  0.63497725 0.75458454 0.22569636 0.15508551 0.65054346 0.47434456\n",
            "  0.96192119 0.49276812 0.33720435 0.57884498 0.11204013 0.3595351\n",
            "  0.73113028 0.96148005 1.04741772 0.80767236 0.73123178 0.29901356\n",
            "  0.95190853 0.05914198 0.94808344 0.34110934 0.52664245 0.29507715\n",
            "  0.76701334 0.47345796 0.48270993 0.8539565 ]\n",
            " [0.47485191 0.68136227 0.69302304 0.40982912 0.32232523 0.17180075\n",
            "  0.25859316 0.69985485 0.12375982 0.90890642 0.25870136 0.21419093\n",
            "  0.27404024 0.39260627 0.32349429 0.6715923  0.64324492 0.55046991\n",
            "  0.25001903 0.77105526 0.68116208 0.55408206 0.80148949 0.18669268\n",
            "  0.23776086 0.51474405 0.27661911 0.1653215  0.33320335 0.38422831\n",
            "  0.0859381  0.58155335 0.64573518 0.484191   0.09906744 0.12486701\n",
            "  0.31919592 0.09439996 0.56510768 0.67802865 0.69689453 0.\n",
            "  0.31298481 0.32958741 0.46943855 0.18277227 0.38643975 0.5660908\n",
            "  0.68681036 0.63815285 0.48134149 0.47639868 0.49053199 0.32757234\n",
            "  0.6850929  0.22635102 0.4445628  0.28818013 0.53716774 0.72859686\n",
            "  0.40142723 0.40293327 0.34335519 0.62971036 0.67699803 0.66463028\n",
            "  0.68186939 0.19141761 0.1731237  0.16359399 0.52622951 0.32549327\n",
            "  0.0684934  0.68593598 0.48337947 0.68051989 0.23315057 0.44074245\n",
            "  0.66902345 0.42349394 0.47961913 0.31262921 0.61313931 0.39207972\n",
            "  0.17875768 0.50140553 0.68944491 0.70560316 0.61788457 0.4532912\n",
            "  0.32265183 0.64456224 0.51562939 0.77054551 0.379868   0.63561989\n",
            "  0.35811581 0.31336178 0.48247985 0.16134779]\n",
            " [0.68515352 0.98124372 0.96380902 0.71973409 0.60301676 0.14596989\n",
            "  0.18300986 0.94807892 0.22605636 1.21586321 0.56709131 0.15413061\n",
            "  0.51348712 0.49022558 0.57786422 0.98325873 0.95236327 0.78250229\n",
            "  0.43283694 1.06746919 0.90563603 0.86380693 1.10604317 0.31647911\n",
            "  0.48837227 0.61425973 0.52567679 0.43243735 0.62776685 0.68194894\n",
            "  0.22770412 0.82275508 0.93104077 0.73885932 0.21393816 0.18847635\n",
            "  0.02674764 0.26616238 0.70292157 0.96800061 1.00202517 0.31298481\n",
            "  0.         0.61794721 0.7640123  0.47366052 0.68741359 0.87660186\n",
            "  0.9981628  0.90486385 0.68832343 0.7737745  0.60746751 0.0394419\n",
            "  0.9690376  0.32336712 0.55524958 0.51956426 0.64756356 0.86258136\n",
            "  0.60740546 0.67852425 0.60977535 0.87034709 0.92510519 0.89144354\n",
            "  0.93697606 0.44910313 0.37126566 0.25750667 0.79301348 0.56260589\n",
            "  0.38084407 0.91684748 0.78151753 0.96749346 0.48908528 0.73387286\n",
            "  0.81282793 0.64080975 0.78954343 0.58828236 0.91091775 0.70424874\n",
            "  0.3046448  0.59068506 0.7926748  0.92201732 0.84788781 0.7661296\n",
            "  0.32157634 0.94738045 0.61993624 1.07957887 0.66497637 0.89691018\n",
            "  0.54497401 0.56760147 0.69650767 0.15166879]\n",
            " [0.24428912 0.36495695 0.36513859 0.1570078  0.02857612 0.47286621\n",
            "  0.58783929 0.70103805 0.39229276 0.60624373 0.11260621 0.54319658\n",
            "  0.14748622 0.3700577  0.42593859 0.39998671 0.3551769  0.26720623\n",
            "  0.48242827 0.44958488 0.39129656 0.38079992 0.49346244 0.33221012\n",
            "  0.39778961 0.42649991 0.41449568 0.18602331 0.32779122 0.07253671\n",
            "  0.40090524 0.28243014 0.31672085 0.18044768 0.41772655 0.44336824\n",
            "  0.63070288 0.35178484 0.40921858 0.57855758 0.53178627 0.32958741\n",
            "  0.61794721 0.         0.40209508 0.30962884 0.08635921 0.38299545\n",
            "  0.4774947  0.31283912 0.59862129 0.39529032 0.3902458  0.62060937\n",
            "  0.6035124  0.52391681 0.37479694 0.15788629 0.42651319 0.53968644\n",
            "  0.21439413 0.42106784 0.06957484 0.32676533 0.36395071 0.37368083\n",
            "  0.67211579 0.17348966 0.26417744 0.37539866 0.20446471 0.13964983\n",
            "  0.26800935 0.38882527 0.39673261 0.59038756 0.14183907 0.11618145\n",
            "  0.47911008 0.54403458 0.21112936 0.04761986 0.49603484 0.17503588\n",
            "  0.48209785 0.43138713 0.54492604 0.42238    0.32801336 0.23279134\n",
            "  0.4506532  0.49906362 0.42099635 0.47779902 0.05061168 0.62099205\n",
            "  0.23535438 0.42141543 0.58949472 0.47353144]\n",
            " [0.64409936 0.48600736 0.62457854 0.27833317 0.42753724 0.63618834\n",
            "  0.63577165 0.30018814 0.59133207 0.6151929  0.31832401 0.62489458\n",
            "  0.51627912 0.74065406 0.21877827 0.3681137  0.38489115 0.64219623\n",
            "  0.38363097 0.57154388 0.7436978  0.15837059 0.54403513 0.60969545\n",
            "  0.28978349 0.82046004 0.26216799 0.46649371 0.13694057 0.3662064\n",
            "  0.55124254 0.63899194 0.53736398 0.55149547 0.55990944 0.58197898\n",
            "  0.76250082 0.55520499 0.81123148 0.20893447 0.24819391 0.46943855\n",
            "  0.7640123  0.40209508 0.         0.29136032 0.34845257 0.17634614\n",
            "  0.2830264  0.6018584  0.29394574 0.01861341 0.78521181 0.78657385\n",
            "  0.22016726 0.49542603 0.76147292 0.53294209 0.82461082 0.93773554\n",
            "  0.61505702 0.11312642 0.47141402 0.67063132 0.68267269 0.72694969\n",
            "  0.27040013 0.47965743 0.55356088 0.61679134 0.53696619 0.53209662\n",
            "  0.41446048 0.73222534 0.02667733 0.21300588 0.48225048 0.40114112\n",
            "  0.87825749 0.26748149 0.29134305 0.44166649 0.1472555  0.24184824\n",
            "  0.48435252 0.82130889 0.94701707 0.77872521 0.6884411  0.22150699\n",
            "  0.75605182 0.18971729 0.81606223 0.48016891 0.42041963 0.21950816\n",
            "  0.62427653 0.22595557 0.27723943 0.61975763]\n",
            " [0.52695808 0.59774028 0.6588752  0.31286559 0.31864612 0.34516949\n",
            "  0.36114046 0.52020208 0.30652102 0.8000992  0.19961463 0.34056831\n",
            "  0.33919066 0.52597424 0.15259424 0.54954994 0.53447863 0.57333164\n",
            "  0.17522792 0.69116352 0.70017966 0.39657665 0.70195642 0.34918924\n",
            "  0.09090971 0.63328165 0.1180695  0.24435399 0.15450604 0.3321911\n",
            "  0.26097608 0.59180222 0.59246386 0.4895829  0.26887143 0.2906364\n",
            "  0.47351293 0.27450274 0.65861945 0.49831704 0.52908867 0.18277227\n",
            "  0.47366052 0.30962884 0.29136032 0.         0.3253381  0.41100023\n",
            "  0.53350368 0.61318834 0.32659776 0.30034975 0.60293518 0.49534407\n",
            "  0.50356051 0.24509613 0.56531952 0.35725778 0.64824488 0.81221504\n",
            "  0.46830057 0.2203402  0.35717915 0.63639229 0.67197647 0.68261292\n",
            "  0.50085192 0.26828389 0.30885178 0.34133342 0.51100694 0.37903072\n",
            "  0.14198945 0.69838107 0.30797845 0.49977228 0.29397355 0.39113199\n",
            "  0.75055656 0.26743253 0.37618073 0.31995764 0.43764668 0.28153473\n",
            "  0.21692639 0.62594712 0.792617   0.73038189 0.63645779 0.32885919\n",
            "  0.49425777 0.47385595 0.63177698 0.65804709 0.35581089 0.45377812\n",
            "  0.4476776  0.14369914 0.32343308 0.32839915]\n",
            " [0.30066592 0.2951601  0.33386401 0.07786398 0.11380831 0.54147303\n",
            "  0.64015846 0.648344   0.46402998 0.52952237 0.13310229 0.60010058\n",
            "  0.23383568 0.45441297 0.41522724 0.31470806 0.27224465 0.29470263\n",
            "  0.50036169 0.38468606 0.40455697 0.3035349  0.41870439 0.41377562\n",
            "  0.4056909  0.50281001 0.41448367 0.26137311 0.30137201 0.01871758\n",
            "  0.46440657 0.29631806 0.26869156 0.20359754 0.48052834 0.50665726\n",
            "  0.69825091 0.4225866  0.47426196 0.5085733  0.45168974 0.38643975\n",
            "  0.68741359 0.08635921 0.34845257 0.3253381  0.         0.3038062\n",
            "  0.39283881 0.29093055 0.57831031 0.338659   0.46625691 0.69302748\n",
            "  0.53629846 0.5589505  0.45519055 0.24386324 0.49946886 0.5907816\n",
            "  0.28713145 0.38834268 0.1460476  0.33362022 0.35821963 0.38718364\n",
            "  0.61788881 0.25326372 0.34544019 0.45319246 0.19951536 0.22216237\n",
            "  0.32000041 0.3967823  0.33855129 0.52187182 0.22584782 0.06665127\n",
            "  0.53222786 0.52778682 0.1248808  0.13341855 0.42527742 0.10740998\n",
            "  0.52103685 0.50985667 0.60717871 0.43848271 0.34538306 0.1541822\n",
            "  0.5361971  0.42285109 0.49661161 0.39707682 0.07630161 0.56743628\n",
            "  0.31690759 0.41271757 0.56702355 0.53930036]\n",
            " [0.59851653 0.33211341 0.49630833 0.22685218 0.41155224 0.73789082\n",
            "  0.77152683 0.40914309 0.67815794 0.43892626 0.34489636 0.75101651\n",
            "  0.52421166 0.75162508 0.38338947 0.19557453 0.22299145 0.56811869\n",
            "  0.53983605 0.40963333 0.6472125  0.01798245 0.37190176 0.66732933\n",
            "  0.4384163  0.80658395 0.41889659 0.51087544 0.27138689 0.32217269\n",
            "  0.65193093 0.55282987 0.40607184 0.48392643 0.66388882 0.68858717\n",
            "  0.87946295 0.63793271 0.77465886 0.2207713  0.14887647 0.5660908\n",
            "  0.87660186 0.38299545 0.17634614 0.41100023 0.3038062  0.\n",
            "  0.12251035 0.4871789  0.46898159 0.15777649 0.77004194 0.89347824\n",
            "  0.2556388  0.64300723 0.75754464 0.53751311 0.80301272 0.87750923\n",
            "  0.59091262 0.28637738 0.44882985 0.57446493 0.5729692  0.63204108\n",
            "  0.37591542 0.51503619 0.60265862 0.68943635 0.45036235 0.52262942\n",
            "  0.50122819 0.63130073 0.14981356 0.23791108 0.50269245 0.33114234\n",
            "  0.82220893 0.44376244 0.19479284 0.42999306 0.14158802 0.21088631\n",
            "  0.62361881 0.81319808 0.90460216 0.68265139 0.60063669 0.15033094\n",
            "  0.80657319 0.12179912 0.80041671 0.30542636 0.37935533 0.33334722\n",
            "  0.61829139 0.38869922 0.45184872 0.72615745]\n",
            " [0.67015857 0.32090674 0.50712402 0.32169712 0.50578999 0.85851813\n",
            "  0.89390781 0.44811008 0.79680183 0.35420148 0.45649099 0.8734995\n",
            "  0.6235169  0.84718511 0.49879142 0.15956237 0.21300947 0.62283233\n",
            "  0.65885388 0.37668134 0.68180275 0.13736478 0.31448859 0.77971004\n",
            "  0.55868384 0.89003568 0.53724166 0.62214118 0.39202807 0.40982008\n",
            "  0.7727364  0.5993811  0.41949861 0.5469991  0.78502794 0.80992963\n",
            "  1.00140669 0.75611924 0.84674497 0.23230542 0.1019186  0.68681036\n",
            "  0.9981628  0.4774947  0.2830264  0.53350368 0.39283881 0.12251035\n",
            "  0.         0.5126523  0.56401847 0.26552021 0.85351002 1.01437423\n",
            "  0.27175871 0.76410224 0.84656358 0.63514443 0.88263412 0.93309251\n",
            "  0.67425863 0.39611744 0.53835355 0.61211564 0.59883442 0.66847074\n",
            "  0.41584459 0.62371438 0.71359606 0.8052149  0.50207536 0.61498315\n",
            "  0.62113957 0.66269223 0.25679551 0.25235507 0.6070325  0.40369339\n",
            "  0.88158287 0.5467018  0.27010948 0.52511194 0.1840422  0.3160013\n",
            "  0.74564678 0.89932648 0.97090655 0.71641977 0.64392215 0.25057272\n",
            "  0.91553125 0.13175132 0.88310018 0.24092224 0.46403474 0.38376044\n",
            "  0.70934788 0.50489517 0.54614356 0.84737617]\n",
            " [0.26835094 0.21316956 0.06060767 0.33415129 0.31607566 0.76487644\n",
            "  0.89656958 0.88809109 0.68095087 0.42890638 0.41445265 0.84890984\n",
            "  0.39157235 0.51977632 0.70455958 0.36146447 0.30236041 0.16803845\n",
            "  0.78833439 0.23738381 0.17128093 0.4968324  0.3241565  0.59382444\n",
            "  0.69603433 0.4925229  0.70540415 0.48048719 0.58600061 0.28162311\n",
            "  0.7022064  0.12329796 0.09886605 0.16800533 0.71945934 0.74398917\n",
            "  0.92119516 0.64393744 0.40929212 0.7072776  0.6057497  0.63815285\n",
            "  0.90486385 0.31283912 0.6018584  0.61318834 0.29093055 0.4871789\n",
            "  0.5126523  0.         0.8616435  0.58750746 0.46174751 0.90055303\n",
            "  0.74279534 0.83651769 0.48311961 0.38690934 0.46962989 0.44302352\n",
            "  0.32728297 0.66583202 0.29783404 0.10935931 0.08653612 0.16007588\n",
            "  0.85542834 0.45945314 0.53389593 0.64904092 0.1126588  0.34418219\n",
            "  0.57963018 0.15056616 0.58441813 0.72490066 0.41763132 0.22430453\n",
            "  0.40244129 0.81399643 0.31090116 0.32573566 0.62860939 0.37417838\n",
            "  0.79493576 0.51277401 0.50379706 0.20483273 0.1492484  0.38035289\n",
            "  0.66830842 0.60324564 0.48317029 0.35841702 0.26257899 0.80846623\n",
            "  0.39181845 0.70257369 0.84900811 0.77016173]\n",
            " [0.83632622 0.77383306 0.8937771  0.52761505 0.61595304 0.6020453\n",
            "  0.51710876 0.27576604 0.5959563  0.90748761 0.48833414 0.5341955\n",
            "  0.66093472 0.85206494 0.17762529 0.66205851 0.67696287 0.86416656\n",
            "  0.25730042 0.8621014  0.98178658 0.45113966 0.83791529 0.66491193\n",
            "  0.24596493 0.95957337 0.2101451  0.57079771 0.27698039 0.59224575\n",
            "  0.53486549 0.87264896 0.81138349 0.77431545 0.53451174 0.54633817\n",
            "  0.67667273 0.57477151 0.98024331 0.3940119  0.50090319 0.48134149\n",
            "  0.68832343 0.59862129 0.29394574 0.32659776 0.57831031 0.46898159\n",
            "  0.56401847 0.8616435  0.         0.31248927 0.92874278 0.7214598\n",
            "  0.37249342 0.36625783 0.89185753 0.6791586  0.97366661 1.12859246\n",
            "  0.78564982 0.19859632 0.65919493 0.91172474 0.93514944 0.96426521\n",
            "  0.27553307 0.59417348 0.63254667 0.64422121 0.77782269 0.69576566\n",
            "  0.46245392 0.97494022 0.3198602  0.38202932 0.61684076 0.64220357\n",
            "  1.06693864 0.05923194 0.56296807 0.62283052 0.38946139 0.48758694\n",
            "  0.38519482 0.95252924 1.1156228  1.01499915 0.92087605 0.49376848\n",
            "  0.80398056 0.4447066  0.95786945 0.77391522 0.63461053 0.25313257\n",
            "  0.77143222 0.18482942 0.01820643 0.57784599]\n",
            " [0.63603091 0.46855332 0.60918724 0.26693576 0.42126074 0.64434678\n",
            "  0.64832414 0.30979993 0.59752335 0.59659447 0.31542797 0.63615362\n",
            "  0.51307748 0.7386335  0.2347898  0.34957273 0.36683501 0.63145268\n",
            "  0.39865997 0.55365976 0.73118308 0.13979755 0.52555032 0.61246182\n",
            "  0.30329335 0.81602832 0.27691552 0.46704785 0.14600849 0.3566623\n",
            "  0.55903532 0.62715603 0.52157253 0.54102878 0.56814827 0.59061683\n",
            "  0.7728082  0.56076975 0.80448631 0.20428416 0.23424799 0.47639868\n",
            "  0.7737745  0.39529032 0.01861341 0.30034975 0.338659   0.15777649\n",
            "  0.26552021 0.58750746 0.31248927 0.         0.78056782 0.79566559\n",
            "  0.21873397 0.50938347 0.75793377 0.5294716  0.81939845 0.92889996\n",
            "  0.60899375 0.13068326 0.46479283 0.65799634 0.66890193 0.71454274\n",
            "  0.27923337 0.47926167 0.55511775 0.6213488  0.52476319 0.52715579\n",
            "  0.41984906 0.71930007 0.00882347 0.21005001 0.48020405 0.38961401\n",
            "  0.86973198 0.28600813 0.2766778  0.43593674 0.13732654 0.23149473\n",
            "  0.49710284 0.81747442 0.93993704 0.76630808 0.67658275 0.20733385\n",
            "  0.75842324 0.17641155 0.81143927 0.46157307 0.41164195 0.22883752\n",
            "  0.62010135 0.24163901 0.29573816 0.62846658]\n",
            " [0.19906365 0.64376463 0.51785194 0.54339844 0.36241302 0.50980703\n",
            "  0.68953568 1.07848464 0.43990976 0.8833291  0.46853279 0.63100635\n",
            "  0.2729181  0.11728745 0.7518423  0.74433007 0.68797406 0.2938678\n",
            "  0.73444244 0.69410326 0.36788671 0.76928318 0.77215751 0.32488886\n",
            "  0.68970158 0.03658774 0.72089926 0.35890039 0.68759949 0.44798812\n",
            "  0.49747851 0.33998843 0.5410881  0.32620228 0.51157242 0.5248781\n",
            "  0.63171937 0.42671333 0.09756246 0.96865185 0.91783518 0.49053199\n",
            "  0.60746751 0.3902458  0.78521181 0.60293518 0.46625691 0.77004194\n",
            "  0.85351002 0.46174751 0.92874278 0.78056782 0.         0.58568972\n",
            "  0.992845   0.71310122 0.05234204 0.25513217 0.04664204 0.25567804\n",
            "  0.17954649 0.78192094 0.32197051 0.37203106 0.4299887  0.36062191\n",
            "  1.05156463 0.33468432 0.3174163  0.38116008 0.38854719 0.25351117\n",
            "  0.47824153 0.38845674 0.7829251  0.98015567 0.31401236 0.45045919\n",
            "  0.20584845 0.86982048 0.58396513 0.34596473 0.88625948 0.56515006\n",
            "  0.66556396 0.05111125 0.19960692 0.36846403 0.33347189 0.62004523\n",
            "  0.29188943 0.88826808 0.03087694 0.78725696 0.39130454 1.0003852\n",
            "  0.16172968 0.74409384 0.92426045 0.52930834]\n",
            " [0.67351352 0.985196   0.9600394  0.72917654 0.60414065 0.15614555\n",
            "  0.22120267 0.97849391 0.22901371 1.22243109 0.5764403  0.1883056\n",
            "  0.50911406 0.46887302 0.60574323 0.99356657 0.96066495 0.77298712\n",
            "  0.46497078 1.06996898 0.89398684 0.88120449 1.11159325 0.30787439\n",
            "  0.51563779 0.5905406  0.55360136 0.43458632 0.64983719 0.68655329\n",
            "  0.24163899 0.81436426 0.93079996 0.73349891 0.22972679 0.20570555\n",
            "  0.06409757 0.27046863 0.68205777 0.99207523 1.02177577 0.32757234\n",
            "  0.0394419  0.62060937 0.78657385 0.49534407 0.69302748 0.89347824\n",
            "  1.01437423 0.90055303 0.7214598  0.79566559 0.58568972 0.\n",
            "  0.99434833 0.35807489 0.53376767 0.51386674 0.62447557 0.83976275\n",
            "  0.59634347 0.70431394 0.60801903 0.86150647 0.91718167 0.88024959\n",
            "  0.96655686 0.44925848 0.36697562 0.25154197 0.78944867 0.556814\n",
            "  0.39408606 0.90612149 0.80322556 0.9922024  0.48783161 0.73678704\n",
            "  0.79149228 0.67281592 0.79877626 0.58857683 0.93298024 0.7156703\n",
            "  0.33660288 0.56630525 0.76725347 0.90905507 0.83750638 0.77860175\n",
            "  0.29624064 0.96794243 0.59662339 1.08759321 0.66640319 0.92559577\n",
            "  0.53265338 0.59540009 0.72914052 0.16782742]\n",
            " [0.83693693 0.57724578 0.75033531 0.45922657 0.63080383 0.84794388\n",
            "  0.82591272 0.17948865 0.80813384 0.61975564 0.5324711  0.82338405\n",
            "  0.72905405 0.95592118 0.39571683 0.42259074 0.46574141 0.81760309\n",
            "  0.55908186 0.64380576 0.90206866 0.24695808 0.58613826 0.82984501\n",
            "  0.48205855 1.02876615 0.44695368 0.68576509 0.35249208 0.55497872\n",
            "  0.76447256 0.80547671 0.66009565 0.73040886 0.77179175 0.79244915\n",
            "  0.96494374 0.77314039 1.00990576 0.03945862 0.17412063 0.6850929\n",
            "  0.9690376  0.6035124  0.22016726 0.50356051 0.53629846 0.2556388\n",
            "  0.27175871 0.74279534 0.37249342 0.21873397 0.992845   0.99434833\n",
            "  0.         0.67710759 0.97278881 0.74495674 1.02999404 1.12394112\n",
            "  0.8177949  0.29061897 0.67284683 0.82906689 0.82860568 0.8866482\n",
            "  0.14912544 0.69789524 0.77351266 0.83591483 0.70235912 0.7395662\n",
            "  0.63294645 0.88658684 0.21432848 0.01943894 0.69775252 0.57598035\n",
            "  1.06676967 0.38161641 0.44448251 0.64688874 0.11482377 0.43069642\n",
            "  0.67563236 1.03161156 1.14345385 0.93753945 0.85389056 0.38627095\n",
            "  0.97621787 0.14568561 1.02369715 0.5126732  0.61221845 0.13161292\n",
            "  0.83393934 0.4054289  0.35481609 0.82976965]\n",
            " [0.69835157 0.84094317 0.88694841 0.55610126 0.52415589 0.26139931\n",
            "  0.15245344 0.63259834 0.29001878 1.04488293 0.42647902 0.16976931\n",
            "  0.49694103 0.60924949 0.28282973 0.79337845 0.77955589 0.76759383\n",
            "  0.11849028 0.93410139 0.89829149 0.62705226 0.94701301 0.39455021\n",
            "  0.20635227 0.73513206 0.23418316 0.38683794 0.37208744 0.56249535\n",
            "  0.22432536 0.79479499 0.82757003 0.69423734 0.21495197 0.21424411\n",
            "  0.31061606 0.28997963 0.79062487 0.68316019 0.74350917 0.22635102\n",
            "  0.32336712 0.52391681 0.49542603 0.24509613 0.5589505  0.64300723\n",
            "  0.76410224 0.83651769 0.36625783 0.50938347 0.71310122 0.35807489\n",
            "  0.67710759 0.         0.66526452 0.51211914 0.75957817 0.95458315\n",
            "  0.62651864 0.39211551 0.55331429 0.84214474 0.88518863 0.88130439\n",
            "  0.62470343 0.41388477 0.3969082  0.34989322 0.72799584 0.5471562\n",
            "  0.26455456 0.90094166 0.51802505 0.67898374 0.45373396 0.6219751\n",
            "  0.89522595 0.32200007 0.62081878 0.51883    0.63997841 0.52620534\n",
            "  0.04772446 0.71970243 0.91264145 0.92461969 0.83434613 0.57361486\n",
            "  0.50382051 0.68514213 0.73679975 0.90274568 0.57395824 0.58883278\n",
            "  0.58446677 0.27378061 0.37551601 0.23499243]\n",
            " [0.21509451 0.65443102 0.54114056 0.53084335 0.34634401 0.45795248\n",
            "  0.6381864  1.05115004 0.38911234 0.89750114 0.44323893 0.57959397\n",
            "  0.24532234 0.0650241  0.71588141 0.74525683 0.69056758 0.31744714\n",
            "  0.69077436 0.71052664 0.40427784 0.75559503 0.78488418 0.27457779\n",
            "  0.65040653 0.07018285 0.68281375 0.32107857 0.65805801 0.43750061\n",
            "  0.44772188 0.3644094  0.55642075 0.33615018 0.46147824 0.47413573\n",
            "  0.57944206 0.37739305 0.14847405 0.95018795 0.9061561  0.4445628\n",
            "  0.55524958 0.37479694 0.76147292 0.56531952 0.45519055 0.75754464\n",
            "  0.84656358 0.48311961 0.89185753 0.75793377 0.05234204 0.53376767\n",
            "  0.97278881 0.66526452 0.         0.22853261 0.09604221 0.30801621\n",
            "  0.1759983  0.75161322 0.30917724 0.40064133 0.45953301 0.39543643\n",
            "  1.02508793 0.29843143 0.27173716 0.32991015 0.40058215 0.23527226\n",
            "  0.43642687 0.42337657 0.76080855 0.96084623 0.28279383 0.44686444\n",
            "  0.25774897 0.83273292 0.57646545 0.32852162 0.86859543 0.54941015\n",
            "  0.61788806 0.06104311 0.24907289 0.4081438  0.36415583 0.60721794\n",
            "  0.24098163 0.87374168 0.07157812 0.79522078 0.38252934 0.97406557\n",
            "  0.13960731 0.70778017 0.88810751 0.47774392]\n",
            " [0.18667349 0.4982129  0.446731   0.31382294 0.13005709 0.38344651\n",
            "  0.53416877 0.82383393 0.29927818 0.74473802 0.21476923 0.4808479\n",
            "  0.01822654 0.21422545 0.5015591  0.55413217 0.50586945 0.26853357\n",
            "  0.50681527 0.5734219  0.39750013 0.53392596 0.63040597 0.20697797\n",
            "  0.44704126 0.28917125 0.47486413 0.12576994 0.43247867 0.22852492\n",
            "  0.33193572 0.30533293 0.425397   0.21963822 0.34907182 0.37113347\n",
            "  0.53711694 0.26607333 0.30153687 0.72322251 0.68633161 0.28818013\n",
            "  0.51956426 0.15788629 0.53294209 0.35725778 0.24386324 0.53751311\n",
            "  0.63514443 0.38690934 0.6791586  0.5294716  0.25513217 0.51386674\n",
            "  0.74495674 0.51211914 0.22853261 0.         0.29769739 0.45617612\n",
            "  0.11526787 0.52687319 0.10806346 0.35354238 0.40651477 0.38168815\n",
            "  0.7973053  0.09851315 0.14857609 0.26258312 0.2768422  0.04304243\n",
            "  0.2516985  0.40493024 0.5324404  0.7333797  0.06347227 0.25685931\n",
            "  0.39474771 0.62081403 0.36874005 0.11045366 0.64232691 0.32691411\n",
            "  0.46519975 0.28851252 0.43646869 0.41974863 0.33580124 0.38829814\n",
            "  0.30126348 0.65043828 0.28563213 0.62392974 0.18295937 0.74619831\n",
            "  0.09367181 0.4944223  0.67356779 0.39218424]\n",
            " [0.21751909 0.66009976 0.52334081 0.57712074 0.39923182 0.55369928\n",
            "  0.73419688 1.11940423 0.48512256 0.89573636 0.50938289 0.67559024\n",
            "  0.31570777 0.15927713 0.79654466 0.76806452 0.71063957 0.30212814\n",
            "  0.78096327 0.70512759 0.36016667 0.80299975 0.78618501 0.370424\n",
            "  0.73541463 0.03581032 0.7662738  0.40453033 0.72988647 0.48096136\n",
            "  0.54334612 0.34644488 0.55395546 0.34608785 0.55726799 0.57014049\n",
            "  0.67221347 0.47275334 0.07226651 1.00491308 0.9499954  0.53716774\n",
            "  0.64756356 0.42651319 0.82461082 0.64824488 0.49946886 0.80301272\n",
            "  0.88263412 0.46962989 0.97366661 0.81939845 0.04664204 0.62447557\n",
            "  1.02999404 0.75957817 0.09604221 0.29769739 0.         0.2152923\n",
            "  0.212734   0.82443419 0.35738473 0.37351572 0.42968981 0.35501259\n",
            "  1.09208098 0.37996926 0.36404902 0.42594844 0.40575915 0.29257646\n",
            "  0.52456738 0.382327   0.82147798 1.01689256 0.35784535 0.4789411\n",
            "  0.17056357 0.91483098 0.61429386 0.38364279 0.92216253 0.60067694\n",
            "  0.712064   0.06268919 0.15337415 0.35629707 0.33326175 0.65363852\n",
            "  0.3288731  0.92227788 0.02809307 0.80528537 0.42365799 1.04086149\n",
            "  0.20403094 0.78891648 0.96894364 0.57369137]\n",
            " [0.29544104 0.6556573  0.47926707 0.66593212 0.51770602 0.76433864\n",
            "  0.94238578 1.2379047  0.6918408  0.86116263 0.6431477  0.88413552\n",
            "  0.47390311 0.37284753 0.95155389 0.79442892 0.73436647 0.31074492\n",
            "  0.96167633 0.67261105 0.28059619 0.88177039 0.76376982 0.57634881\n",
            "  0.90258883 0.24965571 0.92889929 0.57859911 0.86573626 0.5725037\n",
            "  0.74628879 0.33532822 0.54121583 0.39394202 0.76125071 0.77632641\n",
            "  0.887059   0.67487783 0.1651672  1.09371512 1.01552375 0.72859686\n",
            "  0.86258136 0.53968644 0.93773554 0.81221504 0.5907816  0.87750923\n",
            "  0.93309251 0.44302352 1.12859246 0.92889996 0.25567804 0.83976275\n",
            "  1.12394112 0.95458315 0.30801621 0.45617612 0.2152923  0.\n",
            "  0.34401889 0.95991194 0.4732204  0.33374933 0.37119187 0.28663399\n",
            "  1.20797643 0.55174805 0.55850756 0.63444737 0.4312192  0.43372626\n",
            "  0.70437973 0.30536074 0.92911672 1.10845645 0.51960272 0.54815281\n",
            "  0.06171536 1.07137861 0.68278204 0.50800883 1.01056793 0.69818142\n",
            "  0.90686534 0.27494017 0.09845823 0.25637832 0.29551017 0.73767018\n",
            "  0.54408623 0.99928242 0.24320637 0.80144028 0.51733643 1.15722455\n",
            "  0.37200469 0.94525666 1.12138923 0.78303435]\n",
            " [0.07810812 0.48166103 0.38761017 0.36460002 0.18775625 0.48001147\n",
            "  0.64093313 0.91232761 0.39749765 0.72685823 0.30514365 0.5857845\n",
            "  0.13198077 0.1967592  0.60826476 0.56934551 0.51457533 0.17812019\n",
            "  0.62164195 0.54318731 0.29825461 0.59054353 0.6132924  0.29131674\n",
            "  0.5588237  0.21613312 0.58488156 0.24093206 0.52846078 0.26874229\n",
            "  0.4381635  0.22224607 0.38912625 0.16653318 0.45489704 0.47516105\n",
            "  0.62739456 0.36908521 0.19776093 0.79232817 0.73845313 0.40142723\n",
            "  0.60740546 0.21439413 0.61505702 0.46830057 0.28713145 0.59091262\n",
            "  0.67425863 0.32728297 0.78564982 0.60899375 0.17954649 0.59634347\n",
            "  0.8177949  0.62651864 0.1759983  0.11526787 0.212734   0.34401889\n",
            "  0.         0.62328464 0.14494922 0.26746569 0.32515596 0.2840789\n",
            "  0.88414415 0.21365719 0.24713073 0.35160702 0.23175089 0.08990519\n",
            "  0.3669649  0.30978102 0.61070645 0.80448342 0.17754215 0.2720571\n",
            "  0.28232267 0.72804555 0.40450784 0.17352529 0.70949975 0.38800489\n",
            "  0.57937613 0.22527136 0.33442965 0.31600079 0.24124634 0.44119383\n",
            "  0.3424252  0.70973822 0.20964236 0.62046705 0.21182628 0.83292277\n",
            "  0.06590172 0.60174409 0.77898974 0.492123  ]\n",
            " [0.66460869 0.57634722 0.69618217 0.3318511  0.44220926 0.56011341\n",
            "  0.53775828 0.30441301 0.52668182 0.72328773 0.31820376 0.53302283\n",
            "  0.50901044 0.72176393 0.10985167 0.47251283 0.48228704 0.68035804\n",
            "  0.27669504 0.6656494  0.79282764 0.26847392 0.6464704  0.56437033\n",
            "  0.19179957 0.81543597 0.15839698 0.43792907 0.09484978 0.40372853\n",
            "  0.47834294 0.68462737 0.61305717 0.58938092 0.48442498 0.50401634\n",
            "  0.67432952 0.49474683 0.82094387 0.29234238 0.35700563 0.40293327\n",
            "  0.67852425 0.42106784 0.11312642 0.2203402  0.38834268 0.28637738\n",
            "  0.39611744 0.66583202 0.19859632 0.13068326 0.78192094 0.70431394\n",
            "  0.29061897 0.39211551 0.75161322 0.52687319 0.82443419 0.95991194\n",
            "  0.62328464 0.         0.48669796 0.72141493 0.74146665 0.77549018\n",
            "  0.28255177 0.45639438 0.516528   0.56098421 0.58676867 0.53514915\n",
            "  0.35886945 0.78439472 0.13935542 0.28996765 0.46893698 0.4498591\n",
            "  0.89888061 0.16105301 0.36445405 0.45241894 0.24937484 0.29191124\n",
            "  0.38659308 0.81256178 0.95760673 0.82682484 0.73358518 0.29517235\n",
            "  0.71088187 0.29788972 0.81228151 0.58575039 0.4509666  0.23419822\n",
            "  0.62051152 0.11843299 0.1844192  0.54094015]\n",
            " [0.1781125  0.39084387 0.3553084  0.22197821 0.04458959 0.46796884\n",
            "  0.60061582 0.76995421 0.38447949 0.63701429 0.17100649 0.5517112\n",
            "  0.1044777  0.310046   0.48408827 0.4484575  0.39881996 0.2173555\n",
            "  0.52476131 0.46812418 0.34669706 0.4475461  0.52276767 0.30667723\n",
            "  0.44750246 0.35838218 0.46798421 0.18273806 0.39255512 0.12858152\n",
            "  0.40446515 0.24152264 0.32343078 0.14137978 0.42173734 0.44617247\n",
            "  0.62506938 0.34660484 0.3398177  0.64752842 0.59720979 0.34335519\n",
            "  0.60977535 0.06957484 0.47141402 0.35717915 0.1460476  0.44882985\n",
            "  0.53835355 0.29783404 0.65919493 0.46479283 0.32197051 0.60801903\n",
            "  0.67284683 0.55331429 0.30917724 0.10806346 0.35738473 0.4732204\n",
            "  0.14494922 0.48669796 0.         0.28885408 0.33389783 0.32940011\n",
            "  0.74123361 0.16182824 0.24191889 0.3573146  0.18517529 0.07760764\n",
            "  0.28981028 0.34795231 0.46628512 0.65957346 0.12071798 0.14926045\n",
            "  0.41220343 0.60335028 0.26876266 0.03726061 0.56481326 0.24338273\n",
            "  0.50898496 0.36437263 0.47574029 0.37516128 0.28256324 0.29855494\n",
            "  0.40928633 0.56637032 0.35260308 0.51595456 0.07660671 0.6900733\n",
            "  0.17100434 0.47877405 0.65092588 0.47251629]\n",
            " [0.19497729 0.32200397 0.15281006 0.39348406 0.32025413 0.73681215\n",
            "  0.88403345 0.96485298 0.65273109 0.53485081 0.43806408 0.83246284\n",
            "  0.36292102 0.44566098 0.74558521 0.46563272 0.40580114 0.08937887\n",
            "  0.8087114  0.34373519 0.07338691 0.58213527 0.43251256 0.55413863\n",
            "  0.72413894 0.39973107 0.73902574 0.46532717 0.6349084  0.31950198\n",
            "  0.68355531 0.04839025 0.2075325  0.14823637 0.70082853 0.72371051\n",
            "  0.88902584 0.61937198 0.30873775 0.79516202 0.70153466 0.62971036\n",
            "  0.87034709 0.32676533 0.67063132 0.63639229 0.33362022 0.57446493\n",
            "  0.61211564 0.10935931 0.91172474 0.65799634 0.37203106 0.86150647\n",
            "  0.82906689 0.84214474 0.40064133 0.35354238 0.37351572 0.33374933\n",
            "  0.26746569 0.72141493 0.28885408 0.         0.05917712 0.05758631\n",
            "  0.93284039 0.44083112 0.50148171 0.61291482 0.13473484 0.31119191\n",
            "  0.57853034 0.06323113 0.65603956 0.81189092 0.39814995 0.27193724\n",
            "  0.29351431 0.86038371 0.38672117 0.32361057 0.71425164 0.43217042\n",
            "  0.79781071 0.42213774 0.39561295 0.10879991 0.04151876 0.45220618\n",
            "  0.60742431 0.69385342 0.39010202 0.46772241 0.28202465 0.88422984\n",
            "  0.33316636 0.74218183 0.90060522 0.74568711]\n",
            " [0.25382443 0.29355927 0.10822733 0.41002987 0.36109957 0.78989582\n",
            "  0.93315295 0.97183403 0.70567896 0.49038626 0.47242955 0.88263941\n",
            "  0.41475042 0.50483721 0.77334824 0.44636934 0.38775932 0.14764959\n",
            "  0.8459644  0.30144897 0.09130705 0.58226241 0.39311075 0.60943455\n",
            "  0.75787782 0.45688428 0.77030924 0.51400063 0.65834778 0.34620271\n",
            "  0.73405276 0.10314647 0.1816218  0.19281645 0.75136153 0.77475114\n",
            "  0.94329171 0.67130668 0.36318927 0.79331998 0.69226515 0.67699803\n",
            "  0.92510519 0.36395071 0.68267269 0.67197647 0.35821963 0.5729692\n",
            "  0.59883442 0.08653612 0.93514944 0.66890193 0.4299887  0.91718167\n",
            "  0.82860568 0.88518863 0.45953301 0.40651477 0.42968981 0.37119187\n",
            "  0.32515596 0.74146665 0.33389783 0.05917712 0.         0.08489537\n",
            "  0.93932725 0.49039281 0.55500049 0.66760269 0.16118398 0.36370673\n",
            "  0.62320403 0.06770004 0.66619693 0.81081803 0.44768229 0.29308352\n",
            "  0.33731511 0.88567459 0.39317146 0.36678566 0.71423754 0.44974899\n",
            "  0.84174762 0.47977137 0.44107078 0.12180696 0.09665873 0.46159513\n",
            "  0.6660255  0.68957225 0.44720776 0.43517608 0.31622399 0.89186017\n",
            "  0.39100815 0.77063097 0.92319332 0.79788687]\n",
            " [0.20677744 0.37290754 0.19266584 0.44926038 0.36436982 0.76201357\n",
            "  0.91558807 1.02186913 0.67854108 0.5752728  0.48600182 0.862536\n",
            "  0.39306255 0.4464289  0.79632077 0.52035903 0.46077254 0.11416086\n",
            "  0.85321083 0.38603106 0.01763534 0.63971972 0.47718914 0.57515461\n",
            "  0.7713976  0.38449502 0.78781259 0.49935627 0.68784816 0.37232403\n",
            "  0.71360877 0.09183207 0.25888513 0.1932341  0.73075696 0.75271543\n",
            "  0.91123558 0.64725729 0.28588268 0.85274494 0.75858535 0.66463028\n",
            "  0.89144354 0.37368083 0.72694969 0.68261292 0.38718364 0.63204108\n",
            "  0.66847074 0.16007588 0.96426521 0.71454274 0.36062191 0.88024959\n",
            "  0.8866482  0.88130439 0.39543643 0.38168815 0.35501259 0.28663399\n",
            "  0.2840789  0.77549018 0.32940011 0.05758631 0.08489537 0.\n",
            "  0.98992955 0.47378659 0.52700251 0.6351234  0.19010833 0.34088034\n",
            "  0.61683197 0.02794219 0.71271861 0.86947706 0.43156672 0.32706199\n",
            "  0.25267843 0.9121518  0.4441022  0.36554575 0.77183159 0.48757214\n",
            "  0.8361305  0.40875782 0.35663214 0.05177557 0.04695928 0.50920212\n",
            "  0.61522974 0.75135063 0.37475392 0.51688316 0.33142685 0.94118185\n",
            "  0.34777681 0.79256563 0.95350732 0.77256568]\n",
            " [0.91449864 0.70720524 0.8699108  0.54537827 0.69711109 0.83087989\n",
            "  0.77711088 0.03325243 0.80509084 0.76728665 0.58303352 0.7850013\n",
            "  0.78004308 0.99943961 0.36311232 0.55923825 0.59661743 0.91007803\n",
            "  0.50753426 0.7799733  1.00621972 0.3629725  0.72823598 0.84690896\n",
            "  0.45364566 1.08625544 0.41453968 0.71775334 0.3701874  0.63589077\n",
            "  0.7527766  0.90410874 0.78002482 0.81994176 0.75691024 0.77411115\n",
            "  0.92890145 0.77500939 1.08093536 0.18679789 0.32180451 0.68186939\n",
            "  0.93697606 0.67211579 0.27040013 0.50085192 0.61788881 0.37591542\n",
            "  0.41584459 0.85542834 0.27553307 0.27923337 1.05156463 0.96655686\n",
            "  0.14912544 0.62470343 1.02508793 0.7973053  1.09208098 1.20797643\n",
            "  0.88414415 0.28255177 0.74123361 0.93284039 0.93932725 0.98992955\n",
            "  0.         0.73460473 0.79851578 0.8421853  0.80112402 0.79963203\n",
            "  0.64102554 0.99302322 0.27953505 0.16731982 0.7429546  0.66757352\n",
            "  1.14861286 0.30511198 0.54678624 0.71061964 0.23952002 0.5106602\n",
            "  0.63354442 1.08557651 1.21697148 1.04156493 0.95340948 0.48075594\n",
            "  0.99335092 0.28503315 1.08231037 0.65556738 0.69064344 0.05123457\n",
            "  0.88996629 0.37355527 0.26061531 0.80957446]\n",
            " [0.28448139 0.53810018 0.51713575 0.3068884  0.155037   0.30631678\n",
            "  0.44320853 0.75907605 0.22322785 0.77964437 0.17091329 0.3922533\n",
            "  0.08307526 0.26537885 0.4176439  0.56654125 0.52550798 0.35968927\n",
            "  0.40996435 0.62115724 0.49016532 0.50830686 0.66695206 0.16068352\n",
            "  0.35587662 0.36546389 0.38630454 0.02727513 0.36466381 0.24341842\n",
            "  0.24387723 0.39247493 0.48200753 0.29826076 0.26119147 0.2850975\n",
            "  0.46373099 0.18481529 0.39334111 0.68037731 0.66127089 0.19141761\n",
            "  0.44910313 0.17348966 0.47965743 0.26828389 0.25326372 0.51503619\n",
            "  0.62371438 0.45945314 0.59417348 0.47926167 0.33468432 0.44925848\n",
            "  0.69789524 0.41388477 0.29843143 0.09851315 0.37996926 0.55174805\n",
            "  0.21365719 0.45639438 0.16182824 0.44083112 0.49039281 0.47378659\n",
            "  0.73460473 0.         0.09239367 0.20195718 0.34683388 0.13409313\n",
            "  0.15349818 0.49564357 0.48358286 0.6883001  0.04272623 0.28912981\n",
            "  0.49068664 0.53519131 0.37189604 0.13936315 0.60295016 0.30771543\n",
            "  0.36714303 0.35939419 0.52557275 0.5142337  0.42719196 0.37323395\n",
            "  0.29193491 0.61898463 0.36369667 0.64986226 0.21736608 0.68414152\n",
            "  0.18129179 0.40969777 0.58999599 0.31072669]\n",
            " [0.32473827 0.62719009 0.59317783 0.39874751 0.24345556 0.23540623\n",
            "  0.39446423 0.8209365  0.1515767  0.87022448 0.25784208 0.33878291\n",
            "  0.14232788 0.22247008 0.46139602 0.65893488 0.61764151 0.41519898\n",
            "  0.41957981 0.70824705 0.5422226  0.59501781 0.75706436 0.06833787\n",
            "  0.38719642 0.34190656 0.42245619 0.09178318 0.42962851 0.33511589\n",
            "  0.19220472 0.45343278 0.56533903 0.36759393 0.20856668 0.22812007\n",
            "  0.38855943 0.1220895  0.3939979  0.75852856 0.74730263 0.1731237\n",
            "  0.37126566 0.26417744 0.55356088 0.30885178 0.34544019 0.60265862\n",
            "  0.71359606 0.53389593 0.63254667 0.55511775 0.3174163  0.36697562\n",
            "  0.77351266 0.3969082  0.27173716 0.14857609 0.36404902 0.55850756\n",
            "  0.24713073 0.516528   0.24191889 0.50148171 0.55500049 0.52700251\n",
            "  0.79851578 0.09239367 0.         0.11557784 0.42250704 0.19156244\n",
            "  0.17024459 0.55116372 0.56019108 0.76514966 0.12387873 0.37862683\n",
            "  0.4999538  0.5733965  0.46420772 0.2261067  0.68344316 0.39783928\n",
            "  0.34921373 0.32942264 0.51647378 0.5621934  0.4819029  0.46356669\n",
            "  0.20491225 0.7028778  0.34260803 0.74159238 0.30538646 0.74904607\n",
            "  0.19359777 0.4523226  0.63082125 0.24564823]\n",
            " [0.42966912 0.74002827 0.7084975  0.49947651 0.35654686 0.13140542\n",
            "  0.30837848 0.86123984 0.06083609 0.98130916 0.35054375 0.24988854\n",
            "  0.2575731  0.26833499 0.48656026 0.76311588 0.7248675  0.52530488\n",
            "  0.40432401 0.82243704 0.64967122 0.67988711 0.86882632 0.06089401\n",
            "  0.40135237 0.39726849 0.44018848 0.19190812 0.4839859  0.44450019\n",
            "  0.12556787 0.56526651 0.68064458 0.48219198 0.13616845 0.14512931\n",
            "  0.27628527 0.06945797 0.46985144 0.82541477 0.82929268 0.16359399\n",
            "  0.25750667 0.37539866 0.61679134 0.34133342 0.45319246 0.68943635\n",
            "  0.8052149  0.64904092 0.64422121 0.6213488  0.38116008 0.25154197\n",
            "  0.83591483 0.34989322 0.32991015 0.26258312 0.42594844 0.63444737\n",
            "  0.35160702 0.56098421 0.3573146  0.61291482 0.66760269 0.6351234\n",
            "  0.8421853  0.20195718 0.11557784 0.         0.53792178 0.30559855\n",
            "  0.2033149  0.6601713  0.6275077  0.82972607 0.23808311 0.49106796\n",
            "  0.57949893 0.58671047 0.56728303 0.33995767 0.75532605 0.4930865\n",
            "  0.30491884 0.37853241 0.57856663 0.66738679 0.59106464 0.55850169\n",
            "  0.16060049 0.78087555 0.40056799 0.85026591 0.41882201 0.79494098\n",
            "  0.29120576 0.47651413 0.64577044 0.14861838]\n",
            " [0.18957641 0.25521832 0.170797   0.25915269 0.20493231 0.65247521\n",
            "  0.78444544 0.83283832 0.56864771 0.49693312 0.31140191 0.7364257\n",
            "  0.28037    0.42839516 0.61347072 0.36930014 0.30998544 0.12077262\n",
            "  0.68530451 0.31149702 0.20706321 0.45639526 0.38443496 0.48371125\n",
            "  0.59669494 0.42261694 0.60933976 0.36784269 0.50086813 0.18623111\n",
            "  0.58956973 0.10330794 0.1573755  0.06523507 0.60682783 0.63133418\n",
            "  0.80904397 0.53140688 0.35641455 0.6698104  0.58487795 0.52622951\n",
            "  0.79301348 0.20446471 0.53696619 0.51100694 0.19951536 0.45036235\n",
            "  0.50207536 0.1126588  0.77782269 0.52476319 0.38854719 0.78944867\n",
            "  0.70235912 0.72799584 0.40058215 0.2768422  0.40575915 0.4312192\n",
            "  0.23175089 0.58676867 0.18517529 0.13473484 0.16118398 0.19010833\n",
            "  0.80112402 0.34683388 0.42250704 0.53792178 0.         0.23469247\n",
            "  0.46880536 0.19762606 0.52311616 0.68577802 0.30511497 0.1372135\n",
            "  0.37970058 0.7271239  0.25790498 0.21360687 0.58769829 0.29757553\n",
            "  0.68556025 0.43920467 0.47184358 0.2418658  0.1523596  0.32054462\n",
            "  0.56589698 0.57151568 0.41397639 0.39955408 0.15561037 0.75201553\n",
            "  0.29270895 0.61047124 0.76646668 0.65755711]\n",
            " [0.15203338 0.46161923 0.4041385  0.29630048 0.11112949 0.42618933\n",
            "  0.57473114 0.82718376 0.34197752 0.70859977 0.21772569 0.52205293\n",
            "  0.052184   0.23261736 0.51836214 0.52574009 0.47538664 0.2271808\n",
            "  0.53537389 0.5345459  0.35697947 0.5204064  0.59415937 0.24964757\n",
            "  0.46973164 0.28924397 0.49524583 0.16064756 0.44030425 0.20528108\n",
            "  0.37306002 0.26289525 0.3850725  0.17669328 0.39027227 0.41275957\n",
            "  0.58011988 0.30818049 0.28616212 0.71595115 0.67139024 0.32549327\n",
            "  0.56260589 0.13964983 0.53209662 0.37903072 0.22216237 0.52262942\n",
            "  0.61498315 0.34418219 0.69576566 0.52715579 0.25351117 0.556814\n",
            "  0.7395662  0.5471562  0.23527226 0.04304243 0.29257646 0.43372626\n",
            "  0.08990519 0.53514915 0.07760764 0.31119191 0.36370673 0.34088034\n",
            "  0.79963203 0.13409313 0.19156244 0.30559855 0.23469247 0.\n",
            "  0.28408678 0.36357454 0.5294414  0.72710445 0.09344822 0.22572319\n",
            "  0.37201274 0.63814058 0.34589282 0.09331019 0.63395445 0.31414765\n",
            "  0.50071835 0.2925805  0.42269428 0.38034358 0.29463924 0.37237721\n",
            "  0.33766909 0.63846954 0.28438791 0.59075377 0.15415139 0.74840317\n",
            "  0.09572425 0.51184113 0.68917422 0.43453581]\n",
            " [0.43600747 0.61438321 0.63302861 0.34138921 0.26387487 0.23794324\n",
            "  0.32106093 0.66127381 0.17873495 0.84063514 0.19071638 0.2801887\n",
            "  0.2353944  0.39158052 0.29321902 0.60315736 0.57481733 0.50305396\n",
            "  0.25775454 0.70465051 0.63378211 0.489811   0.73356847 0.20720525\n",
            "  0.21695198 0.50595459 0.252505   0.12628411 0.28073756 0.31876692\n",
            "  0.15318641 0.53089909 0.58224245 0.43114364 0.16720083 0.19317521\n",
            "  0.38755907 0.14093756 0.54415699 0.6233562  0.63497725 0.0684934\n",
            "  0.38084407 0.26800935 0.41446048 0.14198945 0.32000041 0.50122819\n",
            "  0.62113957 0.57963018 0.46245392 0.41984906 0.47824153 0.39408606\n",
            "  0.63294645 0.26455456 0.43642687 0.2516985  0.52456738 0.70437973\n",
            "  0.3669649  0.35886945 0.28981028 0.57853034 0.62320403 0.61683197\n",
            "  0.64102554 0.15349818 0.17024459 0.2033149  0.46880536 0.28408678\n",
            "  0.         0.63673572 0.4263465  0.62712663 0.19080936 0.37625904\n",
            "  0.64356553 0.40335811 0.41116059 0.25648907 0.55528455 0.32370494\n",
            "  0.21939357 0.49589597 0.67386179 0.66008585 0.56987867 0.38528992\n",
            "  0.35265555 0.58402771 0.50554565 0.70210705 0.31861077 0.59306597\n",
            "  0.33264278 0.28380718 0.46106586 0.22919415]\n",
            " [0.23299527 0.36086148 0.1754406  0.45574913 0.38117353 0.78641279\n",
            "  0.93819507 1.02520555 0.7027404  0.55583172 0.5005417  0.88560084\n",
            "  0.41572659 0.47421615 0.80873378 0.51200137 0.45292256 0.13642086\n",
            "  0.87008164 0.36810754 0.02499933 0.63968647 0.46025754 0.60042254\n",
            "  0.78650043 0.41208115 0.80181675 0.52086065 0.69810324 0.38272842\n",
            "  0.73661464 0.10685409 0.24808547 0.20906485 0.75381051 0.7760604\n",
            "  0.93640379 0.67087027 0.31278463 0.85205235 0.75458454 0.68593598\n",
            "  0.91684748 0.38882527 0.73222534 0.69838107 0.3967823  0.63130073\n",
            "  0.66269223 0.15056616 0.97494022 0.71930007 0.38845674 0.90612149\n",
            "  0.88658684 0.90094166 0.42337657 0.40493024 0.382327   0.30536074\n",
            "  0.30978102 0.78439472 0.34795231 0.06323113 0.06770004 0.02794219\n",
            "  0.99302322 0.49564357 0.55116372 0.6601713  0.19762606 0.36357454\n",
            "  0.63673572 0.         0.71714499 0.86913443 0.45320552 0.33470242\n",
            "  0.27496504 0.92361169 0.44631937 0.38349679 0.77187905 0.49466507\n",
            "  0.85612857 0.43645923 0.37917477 0.05445204 0.06926083 0.51286475\n",
            "  0.64256652 0.74951917 0.40233974 0.50287389 0.34480247 0.94474797\n",
            "  0.37398104 0.80528415 0.96379163 0.79652706]\n",
            " [0.63671271 0.46289428 0.60532657 0.26597031 0.42295037 0.65165592\n",
            "  0.6567208  0.31047972 0.60423442 0.58872076 0.31879388 0.64427667\n",
            "  0.51617459 0.74218976 0.24361293 0.3423074  0.3604724  0.6306534\n",
            "  0.40742986 0.54749232 0.72928799 0.13185028 0.51842215 0.61797877\n",
            "  0.31188782 0.81847931 0.28566705 0.4717594  0.1538111  0.3566788\n",
            "  0.56624979 0.62570526 0.51741646 0.54041814 0.57549181 0.59807097\n",
            "  0.78069215 0.56728331 0.80581352 0.19861614 0.22569636 0.48337947\n",
            "  0.78151753 0.39673261 0.02667733 0.30797845 0.33855129 0.14981356\n",
            "  0.25679551 0.58441813 0.3198602  0.00882347 0.7829251  0.80322556\n",
            "  0.21432848 0.51802505 0.76080855 0.5324404  0.82147798 0.92911672\n",
            "  0.61070645 0.13935542 0.46628512 0.65603956 0.66619693 0.71271861\n",
            "  0.27953505 0.48358286 0.56019108 0.6275077  0.52311616 0.5294414\n",
            "  0.4263465  0.71714499 0.         0.20503798 0.48382665 0.38844961\n",
            "  0.87012371 0.2941137  0.2735171  0.43788665 0.12992974 0.23121142\n",
            "  0.50554706 0.82020303 0.94107411 0.76446841 0.6751066  0.20463407\n",
            "  0.76376441 0.16801616 0.813801   0.45407405 0.41203968 0.22949118\n",
            "  0.62271551 0.25045498 0.30299686 0.63593571]\n",
            " [0.8223734  0.55817138 0.73188116 0.44453487 0.61787156 0.84469045\n",
            "  0.82688042 0.19814696 0.80318267 0.60079623 0.52176008 0.82297051\n",
            "  0.71767172 0.94501076 0.39672428 0.40324499 0.44666702 0.80151824\n",
            "  0.56134475 0.6244356  0.8848095  0.22979134 0.56671333 0.82232905\n",
            "  0.48175889 1.01617516 0.44744884 0.67678069 0.34739445 0.54057522\n",
            "  0.76073851 0.78880131 0.64166483 0.71472474 0.76844677 0.78949462\n",
            "  0.96393096 0.76765657 0.99585346 0.02005487 0.15508551 0.68051989\n",
            "  0.96749346 0.59038756 0.21300588 0.49977228 0.52187182 0.23791108\n",
            "  0.25235507 0.72490066 0.38202932 0.21005001 0.98015567 0.9922024\n",
            "  0.01943894 0.67898374 0.96084623 0.7333797  1.01689256 1.10845645\n",
            "  0.80448342 0.28996765 0.65957346 0.81189092 0.81081803 0.86947706\n",
            "  0.16731982 0.6883001  0.76514966 0.82972607 0.68577802 0.72710445\n",
            "  0.62712663 0.86913443 0.20503798 0.         0.68713355 0.56034208\n",
            "  1.05154321 0.38843685 0.42801727 0.63421397 0.09813319 0.4168649\n",
            "  0.6761421  1.01941245 1.12903089 0.92027062 0.83709031 0.37091125\n",
            "  0.96842565 0.12644915 1.01098631 0.49326253 0.59794807 0.1467018\n",
            "  0.82176934 0.40623915 0.36416982 0.82696244]\n",
            " [0.24520798 0.50335163 0.47568294 0.28647289 0.11975583 0.34741957\n",
            "  0.4859093  0.76863967 0.26379329 0.74684396 0.16537782 0.43495759\n",
            "  0.04574643 0.25844893 0.43935343 0.54055375 0.49689048 0.31742232\n",
            "  0.44410558 0.58453537 0.44804095 0.49733943 0.63347033 0.19113898\n",
            "  0.38361206 0.34680506 0.41172343 0.0678295  0.37526426 0.21392809\n",
            "  0.28649412 0.34980394 0.44298989 0.25565097 0.30380876 0.32757187\n",
            "  0.50437125 0.2263062  0.36465586 0.67807599 0.65054346 0.23315057\n",
            "  0.48908528 0.14183907 0.48225048 0.29397355 0.22584782 0.50269245\n",
            "  0.6070325  0.41763132 0.61684076 0.48020405 0.31401236 0.48783161\n",
            "  0.69775252 0.45373396 0.28279383 0.06347227 0.35784535 0.51960272\n",
            "  0.17754215 0.46893698 0.12071798 0.39814995 0.44768229 0.43156672\n",
            "  0.7429546  0.04272623 0.12387873 0.23808311 0.30511497 0.09344822\n",
            "  0.19080936 0.45320552 0.48382665 0.68713355 0.         0.25499777\n",
            "  0.45813879 0.55831512 0.34821509 0.10222842 0.59876048 0.29249066\n",
            "  0.40737386 0.34367367 0.49908304 0.47255465 0.38489135 0.35685297\n",
            "  0.31101354 0.61106132 0.34401875 0.61957691 0.18152226 0.69205788\n",
            "  0.15461205 0.4320208  0.61159756 0.35262399]\n",
            " [0.26838147 0.24897164 0.26774519 0.12280806 0.13524199 0.58856182\n",
            "  0.69731913 0.69885267 0.50838358 0.49191954 0.19556764 0.65493082\n",
            "  0.251156   0.45562194 0.4811362  0.30061406 0.24968731 0.24290848\n",
            "  0.56630534 0.33360193 0.34414591 0.33425441 0.37847482 0.44613667\n",
            "  0.47224226 0.48689039 0.48109973 0.30220104 0.36530698 0.05952687\n",
            "  0.51508888 0.23796027 0.20654864 0.1544329  0.53169605 0.55755912\n",
            "  0.74629115 0.46773667 0.44513382 0.5455708  0.47434456 0.44074245\n",
            "  0.73387286 0.11618145 0.40114112 0.39113199 0.06665127 0.33114234\n",
            "  0.40369339 0.22430453 0.64220357 0.38961401 0.45045919 0.73678704\n",
            "  0.57598035 0.6219751  0.44686444 0.25685931 0.4789411  0.54815281\n",
            "  0.2720571  0.4498591  0.14926045 0.27193724 0.29308352 0.32706199\n",
            "  0.66757352 0.28912981 0.37862683 0.49106796 0.1372135  0.22572319\n",
            "  0.37625904 0.33470242 0.38844961 0.56034208 0.25499777 0.\n",
            "  0.49175305 0.59261472 0.13717406 0.15333322 0.46241723 0.16053498\n",
            "  0.58291151 0.49726583 0.57361341 0.37874698 0.28740793 0.1899048\n",
            "  0.55739317 0.45278107 0.47975974 0.36732103 0.07451045 0.61788518\n",
            "  0.31409064 0.47883554 0.6304562  0.58854923]\n",
            " [0.2348421  0.61292409 0.44380366 0.60803131 0.45674176 0.71012644\n",
            "  0.88662732 1.17833768 0.6359757  0.82700983 0.58181316 0.82862244\n",
            "  0.41241805 0.32272639 0.88986726 0.74649641 0.68655542 0.25898041\n",
            "  0.90065097 0.63660262 0.25000606 0.82591756 0.72601198 0.5206021\n",
            "  0.84096573 0.20626596 0.86719784 0.51761647 0.80459696 0.51382\n",
            "  0.6890402  0.28834461 0.49903985 0.33830694 0.70427554 0.720054\n",
            "  0.83682408 0.6175896  0.11020424 1.03711291 0.96192119 0.66902345\n",
            "  0.81282793 0.47911008 0.87825749 0.75055656 0.53222786 0.82220893\n",
            "  0.88158287 0.40244129 1.06693864 0.86973198 0.20584845 0.79149228\n",
            "  1.06676967 0.89522595 0.25774897 0.39474771 0.17056357 0.06171536\n",
            "  0.28232267 0.89888061 0.41220343 0.29351431 0.33731511 0.25267843\n",
            "  1.14861286 0.49068664 0.4999538  0.57949893 0.37970058 0.37201274\n",
            "  0.64356553 0.27496504 0.87012371 1.05154321 0.45813879 0.49175305\n",
            "  0.         1.00969171 0.62742726 0.4467432  0.95384352 0.6395273\n",
            "  0.84753158 0.23285071 0.10422867 0.23196129 0.25321701 0.68063221\n",
            "  0.49746487 0.94400249 0.19853053 0.75967371 0.45809963 1.0977646\n",
            "  0.31161161 0.88355547 1.05978478 0.72808464]\n",
            " [0.77992446 0.73626725 0.84830168 0.48097678 0.5604947  0.54877685\n",
            "  0.47427987 0.3109759  0.53946702 0.88233449 0.43287629 0.4870256\n",
            "  0.60259746 0.79283303 0.11982472 0.63292079 0.64331449 0.81045209\n",
            "  0.20797739 0.82618508 0.92972502 0.42578024 0.80735893 0.60634214\n",
            "  0.18716486 0.90053391 0.15095381 0.51169704 0.22801059 0.54102422\n",
            "  0.47933474 0.82038301 0.76773369 0.72115192 0.47971809 0.49261463\n",
            "  0.630501   0.51725533 0.92209641 0.39785972 0.49276812 0.42349394\n",
            "  0.64080975 0.54403458 0.26748149 0.26743253 0.52778682 0.44376244\n",
            "  0.5467018  0.81399643 0.05923194 0.28600813 0.86982048 0.67281592\n",
            "  0.38161641 0.32200007 0.83273292 0.62081403 0.91483098 1.07137861\n",
            "  0.72804555 0.16105301 0.60335028 0.86038371 0.88567459 0.9121518\n",
            "  0.30511198 0.53519131 0.5733965  0.58671047 0.7271239  0.63814058\n",
            "  0.40335811 0.92361169 0.2941137  0.38843685 0.55831512 0.59261472\n",
            "  1.00969171 0.         0.52073612 0.56674674 0.38078098 0.4411132\n",
            "  0.33629688 0.89337904 1.05727012 0.9625656  0.86824002 0.45284151\n",
            "  0.74612023 0.43470844 0.89888245 0.74590731 0.58147877 0.27425455\n",
            "  0.71285804 0.12642989 0.05914231 0.52510855]\n",
            " [0.40550741 0.22396615 0.33405112 0.06985011 0.238683   0.64414314\n",
            "  0.7217042  0.57908713 0.57133398 0.43045179 0.22249342 0.6879721\n",
            "  0.3585982  0.57848418 0.42302195 0.19589008 0.16375931 0.37393129\n",
            "  0.5424769  0.31735313 0.46008027 0.1992569  0.3271224  0.53231946\n",
            "  0.4399615  0.62053206 0.43745246 0.37623533 0.29719046 0.14074701\n",
            "  0.56260312 0.36110845 0.24886657 0.28913496 0.57759846 0.60376066\n",
            "  0.79790414 0.52955344 0.58219447 0.41231708 0.33720435 0.47961913\n",
            "  0.78954343 0.21112936 0.29134305 0.37618073 0.1248808  0.19479284\n",
            "  0.27010948 0.31090116 0.56296807 0.2766778  0.58396513 0.79877626\n",
            "  0.44448251 0.62081878 0.57646545 0.36874005 0.61429386 0.68278204\n",
            "  0.40450784 0.36445405 0.26876266 0.38672117 0.39317146 0.4441022\n",
            "  0.54678624 0.37189604 0.46420772 0.56728303 0.25790498 0.34589282\n",
            "  0.41116059 0.44631937 0.2735171  0.42801727 0.34821509 0.13717406\n",
            "  0.62742726 0.52073612 0.         0.25829921 0.32989772 0.09464829\n",
            "  0.58895566 0.62936419 0.71067148 0.49551974 0.40975414 0.07037007\n",
            "  0.65921709 0.31659193 0.6137778  0.29097439 0.19393927 0.49886084\n",
            "  0.43960076 0.42360537 0.54883824 0.63870605]\n",
            " [0.21368526 0.4011908  0.38159535 0.20447689 0.01966865 0.444734\n",
            "  0.57087468 0.73885582 0.36226348 0.64521718 0.13520777 0.52336191\n",
            "  0.1009021  0.32250172 0.4473478  0.44528351 0.3988188  0.2541196\n",
            "  0.48802356 0.48248205 0.38292319 0.42741402 0.53161373 0.29314036\n",
            "  0.41024813 0.38196278 0.43078798 0.15684575 0.35793883 0.11839253\n",
            "  0.37757568 0.2767837  0.34275962 0.17547337 0.39473386 0.41970873\n",
            "  0.60247078 0.32305365 0.37070383 0.62287096 0.57884498 0.31262921\n",
            "  0.58828236 0.04761986 0.44166649 0.31995764 0.13341855 0.42999306\n",
            "  0.52511194 0.32573566 0.62283052 0.43593674 0.34596473 0.58857683\n",
            "  0.64688874 0.51883    0.32852162 0.11045366 0.38364279 0.50800883\n",
            "  0.17352529 0.45241894 0.03726061 0.32361057 0.36678566 0.36554575\n",
            "  0.71061964 0.13936315 0.2261067  0.33995767 0.21360687 0.09331019\n",
            "  0.25648907 0.38349679 0.43788665 0.63421397 0.10222842 0.15333322\n",
            "  0.4467432  0.56674674 0.25829921 0.         0.54074594 0.22089971\n",
            "  0.47502607 0.38584098 0.50716464 0.41181332 0.31881898 0.27996167\n",
            "  0.4060927  0.54526446 0.37681124 0.51964373 0.07936044 0.65939928\n",
            "  0.1889194  0.44192037 0.61478099 0.44765342]\n",
            " [0.72540409 0.46888183 0.63763922 0.34765118 0.52387371 0.78158476\n",
            "  0.78227371 0.27266341 0.73355306 0.53810106 0.43379659 0.77212442\n",
            "  0.62714985 0.85532423 0.35911248 0.31981993 0.3578022  0.70339934\n",
            "  0.5258377  0.54045415 0.78727118 0.13219394 0.49054565 0.74326045\n",
            "  0.43557395 0.92245722 0.40583532 0.59340328 0.2832113  0.44399493\n",
            "  0.69616902 0.69076219 0.54737559 0.61675109 0.7054145  0.72793811\n",
            "  0.90965598 0.69617432 0.8995264  0.08337096 0.11204013 0.61313931\n",
            "  0.91091775 0.49603484 0.1472555  0.43764668 0.42527742 0.14158802\n",
            "  0.1840422  0.62860939 0.38946139 0.13732654 0.88625948 0.93298024\n",
            "  0.11482377 0.63997841 0.86859543 0.64232691 0.92216253 1.01056793\n",
            "  0.70949975 0.24937484 0.56481326 0.71425164 0.71423754 0.77183159\n",
            "  0.23952002 0.60295016 0.68344316 0.75532605 0.58769829 0.63395445\n",
            "  0.55528455 0.77187905 0.12992974 0.09813319 0.59876048 0.46241723\n",
            "  0.95384352 0.38078098 0.32989772 0.54074594 0.         0.32149498\n",
            "  0.63074547 0.92653177 1.03216108 0.82274419 0.73911971 0.27330108\n",
            "  0.88799979 0.05550436 0.91702555 0.41881159 0.50151191 0.20217938\n",
            "  0.72914903 0.3673494  0.37129348 0.7657909 ]\n",
            " [0.40721504 0.31739902 0.40721953 0.04003348 0.20324302 0.55994736\n",
            "  0.6291371  0.54128551 0.49088451 0.5226961  0.14254436 0.59711792\n",
            "  0.3133777  0.54112987 0.33661471 0.2796092  0.25564508 0.40035282\n",
            "  0.44877069 0.4109241  0.50461568 0.20703044 0.42125921 0.4644417\n",
            "  0.34695539 0.60146154 0.34670147 0.30667935 0.2135236  0.12571185\n",
            "  0.4765781  0.39833279 0.32839946 0.30967319 0.49089484 0.5168782\n",
            "  0.71125715 0.4493185  0.57922766 0.40437929 0.3595351  0.39207972\n",
            "  0.70424874 0.17503588 0.24184824 0.28153473 0.10740998 0.21088631\n",
            "  0.3160013  0.37417838 0.48758694 0.23149473 0.56515006 0.7156703\n",
            "  0.43069642 0.52620534 0.54941015 0.32691411 0.60067694 0.69818142\n",
            "  0.38800489 0.29191124 0.24338273 0.43217042 0.44974899 0.48757214\n",
            "  0.5106602  0.30771543 0.39783928 0.4930865  0.29757553 0.31414765\n",
            "  0.32370494 0.49466507 0.23121142 0.4168649  0.29249066 0.16053498\n",
            "  0.6395273  0.4411132  0.09464829 0.22089971 0.32149498 0.\n",
            "  0.49470248 0.60637676 0.71315757 0.53927275 0.44775383 0.06576754\n",
            "  0.59957518 0.32437605 0.5958549  0.38180556 0.18207178 0.46033143\n",
            "  0.40981566 0.33616235 0.47483474 0.55272808]\n",
            " [0.65161371 0.80680162 0.84631449 0.52275563 0.48109717 0.224937\n",
            "  0.15154981 0.64379501 0.24575945 1.01600192 0.38802221 0.15150299\n",
            "  0.45021824 0.56225623 0.28003005 0.76631927 0.7496173  0.72224853\n",
            "  0.12837178 0.89957526 0.85303154 0.60828276 0.91595413 0.34797233\n",
            "  0.1954566  0.68781168 0.22872206 0.34019801 0.35531004 0.52361489\n",
            "  0.17960983 0.75025398 0.78913405 0.65018648 0.17163808 0.17405106\n",
            "  0.29541952 0.2434735  0.74290155 0.67893485 0.73113028 0.17875768\n",
            "  0.3046448  0.48209785 0.48435252 0.21692639 0.52103685 0.62361881\n",
            "  0.74564678 0.79493576 0.38519482 0.49710284 0.66556396 0.33660288\n",
            "  0.67563236 0.04772446 0.61788806 0.46519975 0.712064   0.90686534\n",
            "  0.57937613 0.38659308 0.50898496 0.79781071 0.84174762 0.8361305\n",
            "  0.63354442 0.36714303 0.34921373 0.30491884 0.68556025 0.50071835\n",
            "  0.21939357 0.85612857 0.50554706 0.6761421  0.40737386 0.58291151\n",
            "  0.84753158 0.33629688 0.58895566 0.47502607 0.63074547 0.49470248\n",
            "  0.         0.67260116 0.8650748  0.87896734 0.78918595 0.54516278\n",
            "  0.46079875 0.67351005 0.68940006 0.87414925 0.53242472 0.59495721\n",
            "  0.53685683 0.27022113 0.39256875 0.19902945]\n",
            " [0.24987985 0.69439129 0.56869417 0.58634621 0.40313738 0.50320991\n",
            "  0.68523903 1.11178545 0.43879398 0.9343446  0.50327501 0.6265397\n",
            "  0.30557181 0.11073642 0.77672688 0.79291553 0.73699753 0.34483796\n",
            "  0.74898338 0.74519943 0.41526031 0.81180664 0.82304856 0.32622891\n",
            "  0.71059025 0.0269712  0.74329576 0.38183679 0.71892204 0.49184112\n",
            "  0.49959457 0.39083245 0.59212248 0.3764685  0.51260078 0.52361619\n",
            "  0.61575381 0.43034907 0.13323892 1.00845017 0.96148005 0.50140553\n",
            "  0.59068506 0.43138713 0.82130889 0.62594712 0.50985667 0.81319808\n",
            "  0.89932648 0.51277401 0.95252924 0.81747442 0.05111125 0.56630525\n",
            "  1.03161156 0.71970243 0.06104311 0.28851252 0.06268919 0.27494017\n",
            "  0.22527136 0.81256178 0.36437263 0.42213774 0.47977137 0.40875782\n",
            "  1.08557651 0.35939419 0.32942264 0.37853241 0.43920467 0.2925805\n",
            "  0.49589597 0.43645923 0.82020303 1.01941245 0.34367367 0.49726583\n",
            "  0.23285071 0.89337904 0.62936419 0.38584098 0.92653177 0.60637676\n",
            "  0.67260116 0.         0.2028148  0.41390184 0.38314255 0.66292583\n",
            "  0.27008608 0.93038633 0.03596543 0.83751515 0.43585207 1.03451807\n",
            "  0.19767227 0.76857983 0.94889813 0.52437516]\n",
            " [0.306775   0.71227806 0.54696704 0.68455254 0.51995125 0.70514757\n",
            "  0.8864695  1.24564636 0.63807835 0.93008015 0.63955039 0.82780068\n",
            "  0.45469074 0.31057936 0.93801368 0.84090057 0.78128227 0.35264418\n",
            "  0.93120657 0.73927147 0.35422414 0.90698407 0.82788269 0.52364662\n",
            "  0.88128467 0.18159083 0.91058824 0.55120743 0.86276281 0.58848669\n",
            "  0.69668817 0.38644807 0.59912286 0.42403073 0.71053668 0.72310446\n",
            "  0.8179632  0.62612738 0.1366757  1.11551975 1.04741772 0.68944491\n",
            "  0.7926748  0.54492604 0.94701707 0.792617   0.60717871 0.90460216\n",
            "  0.97090655 0.50379706 1.1156228  0.93993704 0.19960692 0.76725347\n",
            "  1.14345385 0.91264145 0.24907289 0.43646869 0.15337415 0.09845823\n",
            "  0.33442965 0.95760673 0.47574029 0.39561295 0.44107078 0.35663214\n",
            "  1.21697148 0.52557275 0.51647378 0.57856663 0.47184358 0.42269428\n",
            "  0.67386179 0.37917477 0.94107411 1.12903089 0.49908304 0.57361341\n",
            "  0.10422867 1.05727012 0.71067148 0.50716464 1.03216108 0.71315757\n",
            "  0.8650748  0.2028148  0.         0.33575527 0.35471589 0.75928231\n",
            "  0.47128087 1.02602025 0.17800006 0.85933786 0.53126328 1.16581358\n",
            "  0.34494325 0.93088884 1.10990568 0.72573412]\n",
            " [0.23790224 0.41524585 0.22864441 0.5010125  0.41175596 0.79598649\n",
            "  0.95374253 1.07353641 0.71322884 0.60647205 0.53492554 0.89974827\n",
            "  0.43228899 0.46346577 0.84630407 0.56629691 0.50712045 0.15784864\n",
            "  0.89983669 0.42029195 0.03548009 0.69058259 0.51294967 0.60685336\n",
            "  0.81964231 0.38832121 0.83684684 0.54035157 0.73880574 0.42340857\n",
            "  0.7511675  0.14239018 0.30253421 0.24220887 0.76818028 0.78943299\n",
            "  0.94260325 0.68352742 0.28466852 0.90341051 0.80767236 0.70560316\n",
            "  0.92201732 0.42238    0.77872521 0.73038189 0.43848271 0.68265139\n",
            "  0.71641977 0.20483273 1.01499915 0.76630808 0.36846403 0.90905507\n",
            "  0.93753945 0.92461969 0.4081438  0.41974863 0.35629707 0.25637832\n",
            "  0.31600079 0.82682484 0.37516128 0.10879991 0.12180696 0.05177557\n",
            "  1.04156493 0.5142337  0.5621934  0.66738679 0.2418658  0.38034358\n",
            "  0.66008585 0.05445204 0.76446841 0.92027062 0.47255465 0.37874698\n",
            "  0.23196129 0.9625656  0.49551974 0.41181332 0.82274419 0.53927275\n",
            "  0.87896734 0.41390184 0.33575527 0.         0.09449084 0.56086865\n",
            "  0.63651486 0.80153883 0.37865808 0.55681913 0.381327   0.99287154\n",
            "  0.37704879 0.84238527 1.00439038 0.80771874]\n",
            " [0.16533762 0.3604708  0.19432879 0.41016382 0.31798946 0.7171579\n",
            "  0.86935854 0.98506005 0.63347959 0.57615373 0.44051497 0.81656837\n",
            "  0.34681689 0.4116427  0.75184397 0.50042656 0.44040323 0.06751876\n",
            "  0.80664816 0.38491623 0.06413448 0.60739876 0.47317878 0.5314235\n",
            "  0.72549283 0.36022973 0.74242874 0.45265001 0.64494756 0.32988879\n",
            "  0.66759725 0.04945156 0.246205   0.14773313 0.68477631 0.70693182\n",
            "  0.86732615 0.60167131 0.26768185 0.82081967 0.73123178 0.61788457\n",
            "  0.84788781 0.32801336 0.6884411  0.63645779 0.34538306 0.60063669\n",
            "  0.64392215 0.1492484  0.92087605 0.67658275 0.33347189 0.83750638\n",
            "  0.85389056 0.83434613 0.36415583 0.33580124 0.33326175 0.29551017\n",
            "  0.24124634 0.73358518 0.28256324 0.04151876 0.09665873 0.04695928\n",
            "  0.95340948 0.42719196 0.4819029  0.59106464 0.1523596  0.29463924\n",
            "  0.56987867 0.06926083 0.6751066  0.83709031 0.38489135 0.28740793\n",
            "  0.25321701 0.86824002 0.40975414 0.31881898 0.73911971 0.44775383\n",
            "  0.78918595 0.38314255 0.35471589 0.09449084 0.         0.47290064\n",
            "  0.57696715 0.72106903 0.35055614 0.50682854 0.2868875  0.9041982\n",
            "  0.30596463 0.74790284 0.91040709 0.72727907]\n",
            " [0.45252409 0.28555375 0.40442045 0.07664743 0.26136359 0.6226084\n",
            "  0.68399936 0.5126687  0.55507064 0.47127971 0.2080183  0.65464415\n",
            "  0.37557469 0.60209811 0.35911053 0.22182428 0.20689164 0.43242321\n",
            "  0.48781438 0.3776739  0.52556161 0.14936291 0.37562082 0.53020912\n",
            "  0.38404619 0.65655847 0.37769108 0.37244551 0.23271439 0.17275332\n",
            "  0.53846809 0.42371953 0.31897004 0.34430271 0.55233745 0.5781405\n",
            "  0.77231744 0.51363942 0.62754035 0.35664362 0.29901356 0.4532912\n",
            "  0.7661296  0.23279134 0.22150699 0.32885919 0.1541822  0.15033094\n",
            "  0.25057272 0.38035289 0.49376848 0.20733385 0.62004523 0.77860175\n",
            "  0.38627095 0.57361486 0.60721794 0.38829814 0.65363852 0.73767018\n",
            "  0.44119383 0.29517235 0.29855494 0.45220618 0.46159513 0.50920212\n",
            "  0.48075594 0.37323395 0.46356669 0.55850169 0.32054462 0.37237721\n",
            "  0.38528992 0.51286475 0.20463407 0.37091125 0.35685297 0.1899048\n",
            "  0.68063221 0.45284151 0.07037007 0.27996167 0.27330108 0.06576754\n",
            "  0.54516278 0.66292583 0.75928231 0.56086865 0.47290064 0.\n",
            "  0.66497581 0.26867143 0.6504997  0.32919068 0.2302777  0.43202428\n",
            "  0.46800527 0.36050105 0.4793769  0.61446818]\n",
            " [0.41254145 0.79903655 0.72887466 0.59686077 0.42543754 0.25444921\n",
            "  0.43583942 1.01390883 0.21573205 1.0458178  0.46174368 0.37837494\n",
            "  0.30627452 0.17747067 0.64306805 0.85062979 0.80490723 0.51837656\n",
            "  0.5646581  0.87174864 0.62682339 0.79935241 0.93142645 0.14689699\n",
            "  0.55986409 0.29454606 0.59822416 0.29627969 0.6283314  0.52318706\n",
            "  0.28188286 0.56384667 0.72068041 0.50254332 0.28920923 0.29075273\n",
            "  0.3471349  0.22965519 0.38923332 0.96232768 0.95190853 0.32265183\n",
            "  0.32157634 0.4506532  0.75605182 0.49425777 0.5361971  0.80657319\n",
            "  0.91553125 0.66830842 0.80398056 0.75842324 0.29188943 0.29624064\n",
            "  0.97621787 0.50382051 0.24098163 0.30126348 0.3288731  0.54408623\n",
            "  0.3424252  0.71088187 0.40928633 0.60742431 0.6660255  0.61522974\n",
            "  0.99335092 0.29193491 0.20491225 0.16060049 0.56589698 0.33766909\n",
            "  0.35265555 0.64256652 0.76376441 0.96842565 0.31101354 0.55739317\n",
            "  0.49746487 0.74612023 0.65921709 0.4060927  0.88799979 0.59957518\n",
            "  0.46079875 0.27008608 0.47128087 0.63651486 0.57696715 0.66497581\n",
            "  0.         0.90778515 0.3008914  0.92471367 0.48300173 0.94495786\n",
            "  0.27688423 0.63322556 0.80506526 0.27933945]\n",
            " [0.71967891 0.43186753 0.60759771 0.34515995 0.5274368  0.814817\n",
            "  0.82472955 0.31764246 0.76276266 0.48571038 0.44821312 0.81189069\n",
            "  0.63618251 0.86454299 0.40679468 0.27707267 0.32038079 0.68971838\n",
            "  0.57278441 0.49837119 0.76618566 0.1194023  0.44329901 0.76489845\n",
            "  0.47940458 0.92472416 0.4516746  0.61169467 0.32090643 0.44142209\n",
            "  0.72890134 0.67361717 0.51756429 0.60572485 0.73903689 0.76232229\n",
            "  0.94730841 0.72424636 0.89550138 0.10707285 0.05914198 0.64456224\n",
            "  0.94738045 0.49906362 0.18971729 0.47385595 0.42285109 0.12179912\n",
            "  0.13175132 0.60324564 0.4447066  0.17641155 0.88826808 0.96794243\n",
            "  0.14568561 0.68514213 0.87374168 0.65043828 0.92227788 0.99928242\n",
            "  0.70973822 0.29788972 0.56637032 0.69385342 0.68957225 0.75135063\n",
            "  0.28503315 0.61898463 0.7028778  0.78087555 0.57151568 0.63846954\n",
            "  0.58402771 0.74951917 0.16801616 0.12644915 0.61106132 0.45278107\n",
            "  0.94400249 0.43470844 0.31659193 0.54526446 0.05550436 0.32437605\n",
            "  0.67351005 0.93038633 1.02602025 0.80153883 0.72106903 0.26867143\n",
            "  0.90778515 0.         0.91881543 0.37053426 0.49891763 0.25200925\n",
            "  0.73416583 0.41452987 0.42655553 0.80022987]\n",
            " [0.22447907 0.66906647 0.53817237 0.57385837 0.39320608 0.52755566\n",
            "  0.70855205 1.10917385 0.46011586 0.90708221 0.49927757 0.64989892\n",
            "  0.30334316 0.13284246 0.7811688  0.77236587 0.71563955 0.31515168\n",
            "  0.76096218 0.71716755 0.38079675 0.79977697 0.79656688 0.34591295\n",
            "  0.71805099 0.00974145 0.74964231 0.38751565 0.71803486 0.47829428\n",
            "  0.51917396 0.36051875 0.56486741 0.35257045 0.53282166 0.54513814\n",
            "  0.64467076 0.44893794 0.09727656 0.99945021 0.94808344 0.51562939\n",
            "  0.61993624 0.42099635 0.81606223 0.63177698 0.49661161 0.80041671\n",
            "  0.88310018 0.48317029 0.95786945 0.81143927 0.03087694 0.59662339\n",
            "  1.02369715 0.73679975 0.07157812 0.28563213 0.02809307 0.24320637\n",
            "  0.20964236 0.81228151 0.35260308 0.39010202 0.44720776 0.37475392\n",
            "  1.08231037 0.36369667 0.34260803 0.40056799 0.41397639 0.28438791\n",
            "  0.50554565 0.40233974 0.813801   1.01098631 0.34401875 0.47975974\n",
            "  0.19853053 0.89888245 0.6137778  0.37681124 0.91702555 0.5958549\n",
            "  0.68940006 0.03596543 0.17800006 0.37865808 0.35055614 0.6504997\n",
            "  0.3008914  0.91881543 0.         0.81328718 0.42146845 1.03113753\n",
            "  0.19238557 0.77333103 0.95357441 0.54788098]\n",
            " [0.58881381 0.14711949 0.3288216  0.36071844 0.50077492 0.93385954\n",
            "  1.01088247 0.68813902 0.85912066 0.14220276 0.51270068 0.97853473\n",
            "  0.61846867 0.81430589 0.67226948 0.11353039 0.12732063 0.51000884\n",
            "  0.81387381 0.15254584 0.52599811 0.32308457 0.07395924 0.80980699\n",
            "  0.70977151 0.82180533 0.69896064 0.65840967 0.5490645  0.40649426\n",
            "  0.85315943 0.47298997 0.26065735 0.46106832 0.86832273 0.89450883\n",
            "  1.08846901 0.81741502 0.75368983 0.47321672 0.34110934 0.77054551\n",
            "  1.07957887 0.47779902 0.48016891 0.65804709 0.39707682 0.30542636\n",
            "  0.24092224 0.35841702 0.77391522 0.46157307 0.78725696 1.08759321\n",
            "  0.5126732  0.90274568 0.79522078 0.62392974 0.80528537 0.80144028\n",
            "  0.62046705 0.58575039 0.51595456 0.46772241 0.43517608 0.51688316\n",
            "  0.65556738 0.64986226 0.74159238 0.85026591 0.39955408 0.59075377\n",
            "  0.70210705 0.50287389 0.45407405 0.49326253 0.61957691 0.36732103\n",
            "  0.75967371 0.74590731 0.29097439 0.51964373 0.41881159 0.38180556\n",
            "  0.87414925 0.83751515 0.85933786 0.55681913 0.50682854 0.32919068\n",
            "  0.92471367 0.37053426 0.81328718 0.         0.44175276 0.62092553\n",
            "  0.6727936  0.67568689 0.75695126 0.92916722]\n",
            " [0.22514564 0.32183987 0.31453575 0.15415345 0.06233175 0.52048017\n",
            "  0.63825074 0.72060504 0.43897751 0.56603175 0.15646297 0.59321522\n",
            "  0.17672956 0.38623979 0.46498427 0.37193224 0.32291725 0.22987636\n",
            "  0.52978722 0.4037933  0.34905418 0.37954409 0.45232257 0.37250078\n",
            "  0.44249419 0.42788997 0.45702188 0.23254276 0.35996265 0.05760659\n",
            "  0.45006247 0.23961682 0.26739386 0.13971774 0.46698955 0.49247923\n",
            "  0.67837531 0.39900598 0.39801539 0.58478117 0.52664245 0.379868\n",
            "  0.66497637 0.05061168 0.42041963 0.35581089 0.07630161 0.37935533\n",
            "  0.46403474 0.26257899 0.63461053 0.41164195 0.39130454 0.66640319\n",
            "  0.61221845 0.57395824 0.38252934 0.18295937 0.42365799 0.51733643\n",
            "  0.21182628 0.4509666  0.07660671 0.28202465 0.31622399 0.33142685\n",
            "  0.69064344 0.21736608 0.30538646 0.41882201 0.15561037 0.15415139\n",
            "  0.31861077 0.34480247 0.41203968 0.59794807 0.18152226 0.07451045\n",
            "  0.45809963 0.58147877 0.19393927 0.07936044 0.50151191 0.18207178\n",
            "  0.53242472 0.43585207 0.53126328 0.381327   0.2868875  0.2302777\n",
            "  0.48300173 0.49891763 0.42146845 0.44175276 0.         0.63989285\n",
            "  0.24609591 0.46114763 0.62457186 0.5219915 ]\n",
            " [0.86354659 0.66543908 0.82449413 0.49546149 0.64592763 0.78743205\n",
            "  0.74082042 0.08099037 0.75914078 0.73751225 0.53186059 0.74605069\n",
            "  0.72896554 0.94879353 0.32023075 0.52109213 0.55566568 0.86013684\n",
            "  0.47075144 0.74068536 0.95758041 0.31944781 0.69271956 0.79832687\n",
            "  0.41078973 1.03510556 0.3721925  0.66758663 0.32005857 0.58536219\n",
            "  0.70813929 0.85484303 0.73489676 0.76982572 0.7128594  0.73076074\n",
            "  0.88974813 0.72824671 1.0297483  0.16408906 0.29507715 0.63561989\n",
            "  0.89691018 0.62099205 0.21950816 0.45377812 0.56743628 0.33334722\n",
            "  0.38376044 0.80846623 0.25313257 0.22883752 1.0003852  0.92559577\n",
            "  0.13161292 0.58883278 0.97406557 0.74619831 1.04086149 1.15722455\n",
            "  0.83292277 0.23419822 0.6900733  0.88422984 0.89186017 0.94118185\n",
            "  0.05123457 0.68414152 0.74904607 0.79494098 0.75201553 0.74840317\n",
            "  0.59306597 0.94474797 0.22949118 0.1467018  0.69205788 0.61788518\n",
            "  1.0977646  0.27425455 0.49886084 0.65939928 0.20217938 0.46033143\n",
            "  0.59495721 1.03451807 1.16581358 0.99287154 0.9041982  0.43202428\n",
            "  0.94495786 0.25200925 1.03113753 0.62092553 0.63989285 0.\n",
            "  0.83880518 0.33064373 0.23659796 0.7666824 ]\n",
            " [0.141014   0.53748026 0.45230664 0.39180259 0.20685003 0.42132896\n",
            "  0.58761909 0.91678839 0.34037389 0.78397506 0.30695507 0.53128453\n",
            "  0.11168423 0.14191848 0.59396417 0.61456882 0.56203409 0.24378906\n",
            "  0.59027811 0.60300106 0.36134348 0.61612963 0.66986094 0.23039248\n",
            "  0.53646001 0.19633141 0.56566859 0.20758737 0.52606007 0.29958106\n",
            "  0.38576285 0.28814083 0.44962738 0.22803491 0.40200157 0.42073485\n",
            "  0.56561758 0.31516215 0.21205714 0.81090364 0.76701334 0.35811581\n",
            "  0.54497401 0.23535438 0.62427653 0.4476776  0.31690759 0.61829139\n",
            "  0.70934788 0.39181845 0.77143222 0.62010135 0.16172968 0.53265338\n",
            "  0.83393934 0.58446677 0.13960731 0.09367181 0.20403094 0.37200469\n",
            "  0.06590172 0.62051152 0.17100434 0.33316636 0.39100815 0.34777681\n",
            "  0.88996629 0.18129179 0.19359777 0.29120576 0.29270895 0.09572425\n",
            "  0.33264278 0.37398104 0.62271551 0.82176934 0.15461205 0.31409064\n",
            "  0.31161161 0.71285804 0.43960076 0.1889194  0.72914903 0.40981566\n",
            "  0.53685683 0.19767227 0.34494325 0.37704879 0.30596463 0.46800527\n",
            "  0.27688423 0.73416583 0.19238557 0.6727936  0.24609591 0.83880518\n",
            "  0.         0.58660561 0.76620328 0.43503466]\n",
            " [0.65455167 0.64578492 0.74083999 0.37480427 0.436515   0.45732694\n",
            "  0.42064788 0.38888575 0.43469877 0.81632107 0.30928445 0.41898543\n",
            "  0.47620265 0.66952006 0.01044307 0.56238633 0.56266704 0.68855058\n",
            "  0.15849415 0.73816752 0.81018948 0.37139805 0.73081912 0.49004844\n",
            "  0.08017385 0.77516163 0.04195086 0.38674618 0.12809749 0.42446289\n",
            "  0.37991466 0.7007424  0.66438742 0.60029604 0.38351743 0.40056439\n",
            "  0.56174315 0.40769781 0.79566878 0.40971728 0.47345796 0.31336178\n",
            "  0.56760147 0.42141543 0.22595557 0.14369914 0.41271757 0.38869922\n",
            "  0.50489517 0.70257369 0.18482942 0.24163901 0.74409384 0.59540009\n",
            "  0.4054289  0.27378061 0.70778017 0.4944223  0.78891648 0.94525666\n",
            "  0.60174409 0.11843299 0.47877405 0.74218183 0.77063097 0.79256563\n",
            "  0.37355527 0.40969777 0.4523226  0.47651413 0.61047124 0.51184113\n",
            "  0.28380718 0.80528415 0.25045498 0.40623915 0.4320208  0.47883554\n",
            "  0.88355547 0.12642989 0.42360537 0.44192037 0.3673494  0.33616235\n",
            "  0.27022113 0.76857983 0.93088884 0.84238527 0.74790284 0.36050105\n",
            "  0.63322556 0.41452987 0.77333103 0.67568689 0.46114763 0.33064373\n",
            "  0.58660561 0.         0.1803289  0.43618355]\n",
            " [0.82842638 0.75844634 0.8803874  0.51486638 0.60742047 0.60717765\n",
            "  0.52704867 0.2622525  0.59860498 0.89016103 0.47993283 0.54245846\n",
            "  0.65534198 0.8493824  0.17241818 0.64528787 0.66087907 0.85433012\n",
            "  0.2642699  0.84634816 0.97099631 0.43403931 0.8212745  0.66486245\n",
            "  0.24565676 0.95545563 0.20860622 0.56706145 0.26570912 0.58126521\n",
            "  0.53835728 0.86200465 0.79747637 0.76420236 0.53857823 0.55115959\n",
            "  0.68542521 0.57631961 0.97423429 0.37601802 0.48270993 0.48247985\n",
            "  0.69650767 0.58949472 0.27723943 0.32343308 0.56702355 0.45184872\n",
            "  0.54614356 0.84900811 0.01820643 0.29573816 0.92426045 0.72914052\n",
            "  0.35481609 0.37551601 0.88810751 0.67356779 0.96894364 1.12138923\n",
            "  0.77898974 0.1844192  0.65092588 0.90060522 0.92319332 0.95350732\n",
            "  0.26061531 0.58999599 0.63082125 0.64577044 0.76646668 0.68917422\n",
            "  0.46106586 0.96379163 0.30299686 0.36416982 0.61159756 0.6304562\n",
            "  1.05978478 0.05914231 0.54883824 0.61478099 0.37129348 0.47483474\n",
            "  0.39256875 0.94889813 1.10990568 1.00439038 0.91040709 0.4793769\n",
            "  0.80506526 0.42655553 0.95357441 0.75695126 0.62457186 0.23659796\n",
            "  0.76620328 0.1803289  0.         0.58330445]\n",
            " [0.57002363 0.83411837 0.82780567 0.56886009 0.46093145 0.02647449\n",
            "  0.16086549 0.82364189 0.09471939 1.06626757 0.41646772 0.10216736\n",
            "  0.38314598 0.41515478 0.44662021 0.83192495 0.80187237 0.66033834\n",
            "  0.3217074  0.92177963 0.7878513  0.71369321 0.95729504 0.20798054\n",
            "  0.35601449 0.5441708  0.39503519 0.29083106 0.48286459 0.53487311\n",
            "  0.07617767 0.69742178 0.78929358 0.60745387 0.06240159 0.03790777\n",
            "  0.15934798 0.12664737 0.61846952 0.82622584 0.8539565  0.16134779\n",
            "  0.15166879 0.47353144 0.61975763 0.32839915 0.53930036 0.72615745\n",
            "  0.84737617 0.77016173 0.57784599 0.62846658 0.52930834 0.16782742\n",
            "  0.82976965 0.23499243 0.47774392 0.39218424 0.57369137 0.78303435\n",
            "  0.492123   0.54094015 0.47251629 0.74568711 0.79788687 0.77256568\n",
            "  0.80957446 0.31072669 0.24564823 0.14861838 0.65755711 0.43453581\n",
            "  0.22919415 0.79652706 0.63593571 0.82696244 0.35262399 0.58854923\n",
            "  0.72808464 0.52510855 0.63870605 0.44765342 0.7657909  0.55272808\n",
            "  0.19902945 0.52437516 0.72573412 0.80771874 0.72727907 0.61446818\n",
            "  0.27933945 0.80022987 0.54788098 0.92916722 0.5219915  0.7666824\n",
            "  0.43503466 0.43618355 0.58330445 0.        ]]\n"
          ]
        }
      ],
      "source": [
        "a= np.random.random((100,2))\n",
        "x,y = np.atleast_2d(a[:,0], a[:,1])\n",
        "d = np.sqrt( (x-x.T)**2 + (y-y.T)**2)\n",
        "print(d)"
      ]
    },
    {
      "cell_type": "markdown",
      "metadata": {
        "id": "BvkU5a5EXS70"
      },
      "source": [
        "#### 53. How to convert a float (32 bits) array into an integer (32 bits) in place? \n",
        "(**hint**: astype(copy=False))"
      ]
    },
    {
      "cell_type": "code",
      "execution_count": 22,
      "metadata": {
        "id": "1WlprQ2uXS71",
        "colab": {
          "base_uri": "https://localhost:8080/"
        },
        "outputId": "23496a2f-bfe5-4cdf-b00d-d33ea3f1e15f"
      },
      "outputs": [
        {
          "output_type": "stream",
          "name": "stdout",
          "text": [
            "[0.04156627 1.24030365 2.28678937 3.63017152 4.72615843 5.43224319\n",
            " 6.36589284 7.3569998  8.36429395 9.34549851]\n"
          ]
        },
        {
          "output_type": "execute_result",
          "data": {
            "text/plain": [
              "array([0, 1, 2, 3, 4, 5, 6, 7, 8, 9], dtype=int8)"
            ]
          },
          "metadata": {},
          "execution_count": 22
        }
      ],
      "source": [
        "z=np.array(np.arange(10)+np.random.random(10))\n",
        "print(z)\n",
        "np.int8(z)"
      ]
    },
    {
      "cell_type": "markdown",
      "metadata": {
        "id": "1wxA5FUDXS71"
      },
      "source": [
        "#### 54. How to read the following file? (★★☆) \n",
        "(**hint**: np.genfromtxt)"
      ]
    },
    {
      "cell_type": "markdown",
      "metadata": {
        "id": "JDRq2hDqXS72"
      },
      "source": [
        "```\n",
        "1, 2, 3, 4, 5\n",
        "6,  ,  , 7, 8\n",
        " ,  , 9,10,11\n",
        "```"
      ]
    },
    {
      "cell_type": "code",
      "execution_count": 44,
      "metadata": {
        "id": "iOcg877VXS72",
        "colab": {
          "base_uri": "https://localhost:8080/"
        },
        "outputId": "cdebbef2-8842-462b-da54-d97761efdbd9"
      },
      "outputs": [
        {
          "output_type": "stream",
          "name": "stdout",
          "text": [
            "[[ 1  2  3  4  5]\n",
            " [ 6 -1 -1  7  8]\n",
            " [-1 -1  9 10 11]]\n"
          ]
        },
        {
          "output_type": "stream",
          "name": "stderr",
          "text": [
            "/usr/local/lib/python3.7/dist-packages/ipykernel_launcher.py:8: DeprecationWarning: `np.int` is a deprecated alias for the builtin `int`. To silence this warning, use `int` by itself. Doing this will not modify any behavior and is safe. When replacing `np.int`, you may wish to use e.g. `np.int64` or `np.int32` to specify the precision. If you wish to review your current use, check the release note link for additional information.\n",
            "Deprecated in NumPy 1.20; for more details and guidance: https://numpy.org/devdocs/release/1.20.0-notes.html#deprecations\n",
            "  \n"
          ]
        }
      ],
      "source": [
        "from io import StringIO\n",
        "\n",
        "# Fake file\n",
        "s = StringIO('''1, 2, 3, 4, 5\n",
        "                6,  ,  , 7, 8\n",
        "                 ,  , 9,10,11\n",
        "''')\n",
        "Z = np.genfromtxt(s, delimiter=\",\", dtype=np.int)\n",
        "print(Z)"
      ]
    },
    {
      "cell_type": "markdown",
      "metadata": {
        "id": "E5553eBNXS77"
      },
      "source": [
        "#### 55. What is the equivalent of enumerate for numpy arrays? (★★☆) \n",
        "(**hint**: np.ndenumerate, np.ndindex)"
      ]
    },
    {
      "cell_type": "code",
      "execution_count": 27,
      "metadata": {
        "id": "c0ZZBUt0XS7-",
        "colab": {
          "base_uri": "https://localhost:8080/"
        },
        "outputId": "be2950a7-2549-4680-fefe-451c105179fd"
      },
      "outputs": [
        {
          "output_type": "stream",
          "name": "stdout",
          "text": [
            "(0, 0) 1\n",
            "(0, 1) 2\n",
            "(1, 0) 3\n",
            "(1, 1) 4\n"
          ]
        }
      ],
      "source": [
        "a = np.array([[1, 2], [3, 4]])\n",
        "for index, x in np.ndenumerate(a):\n",
        "  print(index, x)"
      ]
    },
    {
      "cell_type": "markdown",
      "metadata": {
        "id": "iCHZtw4gXS8A"
      },
      "source": [
        "#### 56. Generate a generic 2D Gaussian-like array (★★☆) \n",
        "(**hint**: np.meshgrid, np.exp)"
      ]
    },
    {
      "cell_type": "code",
      "execution_count": 28,
      "metadata": {
        "id": "_oQX_xkaXS8B",
        "colab": {
          "base_uri": "https://localhost:8080/"
        },
        "outputId": "2daf70fc-9bd4-437d-9a32-2eec0a25011b"
      },
      "outputs": [
        {
          "output_type": "stream",
          "name": "stdout",
          "text": [
            "2D Gaussian-like array:\n",
            "[[0.36787944 0.44822088 0.51979489 0.57375342 0.60279818 0.60279818\n",
            "  0.57375342 0.51979489 0.44822088 0.36787944]\n",
            " [0.44822088 0.54610814 0.63331324 0.69905581 0.73444367 0.73444367\n",
            "  0.69905581 0.63331324 0.54610814 0.44822088]\n",
            " [0.51979489 0.63331324 0.73444367 0.81068432 0.85172308 0.85172308\n",
            "  0.81068432 0.73444367 0.63331324 0.51979489]\n",
            " [0.57375342 0.69905581 0.81068432 0.89483932 0.9401382  0.9401382\n",
            "  0.89483932 0.81068432 0.69905581 0.57375342]\n",
            " [0.60279818 0.73444367 0.85172308 0.9401382  0.98773022 0.98773022\n",
            "  0.9401382  0.85172308 0.73444367 0.60279818]\n",
            " [0.60279818 0.73444367 0.85172308 0.9401382  0.98773022 0.98773022\n",
            "  0.9401382  0.85172308 0.73444367 0.60279818]\n",
            " [0.57375342 0.69905581 0.81068432 0.89483932 0.9401382  0.9401382\n",
            "  0.89483932 0.81068432 0.69905581 0.57375342]\n",
            " [0.51979489 0.63331324 0.73444367 0.81068432 0.85172308 0.85172308\n",
            "  0.81068432 0.73444367 0.63331324 0.51979489]\n",
            " [0.44822088 0.54610814 0.63331324 0.69905581 0.73444367 0.73444367\n",
            "  0.69905581 0.63331324 0.54610814 0.44822088]\n",
            " [0.36787944 0.44822088 0.51979489 0.57375342 0.60279818 0.60279818\n",
            "  0.57375342 0.51979489 0.44822088 0.36787944]]\n"
          ]
        }
      ],
      "source": [
        "x, y = np.meshgrid(np.linspace(-1,1,10), np.linspace(-1,1,10))\n",
        "d = np.sqrt(x*x+y*y)\n",
        "sigma, mu = 1.0, 0.0\n",
        "g = np.exp(-( (d-mu)**2 / ( 2.0 * sigma**2 ) ) )\n",
        "print(\"2D Gaussian-like array:\")\n",
        "print(g)"
      ]
    },
    {
      "cell_type": "markdown",
      "metadata": {
        "id": "UjOUriCBXS8C"
      },
      "source": [
        "#### 57. How to randomly place p elements in a 2D array? (★★☆) \n",
        "(**hint**: np.put, np.random.choice)"
      ]
    },
    {
      "cell_type": "code",
      "execution_count": 37,
      "metadata": {
        "id": "km838_Z2XS8D",
        "colab": {
          "base_uri": "https://localhost:8080/"
        },
        "outputId": "38baf134-01ed-423f-a2f9-5e629d356b27"
      },
      "outputs": [
        {
          "output_type": "stream",
          "name": "stdout",
          "text": [
            "[[0 0 0 0 0]\n",
            " [0 0 0 0 0]\n",
            " [0 0 0 0 0]\n",
            " [0 0 0 0 0]\n",
            " [0 0 0 0 0]]\n",
            "[[1 0 0 0 0]\n",
            " [0 0 0 0 0]\n",
            " [0 0 1 0 0]\n",
            " [0 0 0 0 0]\n",
            " [0 0 0 0 1]]\n"
          ]
        }
      ],
      "source": [
        "m = 5; p = 3;\n",
        "out = np.zeros((m,m),dtype=int)\n",
        "print(out)\n",
        "np.put(out,np.random.choice(range(m*m), p, replace=1),1)\n",
        "print(out)"
      ]
    },
    {
      "cell_type": "markdown",
      "metadata": {
        "id": "QLAWRIvoXS8D"
      },
      "source": [
        "#### 58. Subtract the mean of each row of a matrix (★★☆) \n",
        "(**hint**: mean(axis=,keepdims=))"
      ]
    },
    {
      "cell_type": "code",
      "execution_count": 38,
      "metadata": {
        "id": "cz26U1yYXS8E",
        "colab": {
          "base_uri": "https://localhost:8080/"
        },
        "outputId": "a1c30b25-edc8-455c-af07-82c18b00dd7f"
      },
      "outputs": [
        {
          "output_type": "stream",
          "name": "stdout",
          "text": [
            "[[0.54989788 0.56377375 0.4777843  0.20586293 0.58326722 0.14920109\n",
            "  0.33175295 0.1502322  0.72409277 0.88762195]\n",
            " [0.56640022 0.54752348 0.83991926 0.09191598 0.87147391 0.15641648\n",
            "  0.74941825 0.53137195 0.44767198 0.36262853]\n",
            " [0.07240303 0.12225514 0.57551465 0.87133343 0.61988008 0.6434727\n",
            "  0.93614229 0.61825415 0.24538157 0.01210412]\n",
            " [0.31623441 0.76569753 0.10449341 0.62222685 0.2115699  0.22074499\n",
            "  0.33517891 0.97612824 0.75998723 0.95243273]\n",
            " [0.75076224 0.98872013 0.62604654 0.36698578 0.37015516 0.36167139\n",
            "  0.44997211 0.64206113 0.8364923  0.17236102]]\n",
            "\n",
            "Subtract the mean of each row of the said matrix:\n",
            "\n",
            "[[ 0.08754918  0.10142504  0.01543559 -0.25648578  0.12091852 -0.31314761\n",
            "  -0.13059575 -0.3121165   0.26174407  0.42527324]\n",
            " [ 0.04992621  0.03104947  0.32344525 -0.42455802  0.3549999  -0.36005752\n",
            "   0.23294425  0.01489795 -0.06880203 -0.15384547]\n",
            " [-0.39927108 -0.34941898  0.10384053  0.39965931  0.14820596  0.17179858\n",
            "   0.46446818  0.14658003 -0.22629254 -0.45956999]\n",
            " [-0.21023501  0.23922811 -0.42197601  0.09575743 -0.31489952 -0.30572443\n",
            "  -0.19129051  0.44965882  0.23351781  0.42596332]\n",
            " [ 0.19423946  0.43219735  0.06952376 -0.189537   -0.18636762 -0.19485139\n",
            "  -0.10655068  0.08553835  0.27996952 -0.38416176]]\n"
          ]
        }
      ],
      "source": [
        "X = np.random.rand(5, 10)\n",
        "print(X)\n",
        "print(\"\\nSubtract the mean of each row of the said matrix:\\n\")\n",
        "Y = X - X.mean(axis=1, keepdims=True)\n",
        "print(Y)"
      ]
    },
    {
      "cell_type": "markdown",
      "metadata": {
        "id": "0hSMtAjfXS8E"
      },
      "source": [
        "#### 59. How to sort an array by the nth column? (★★☆) \n",
        "(**hint**: argsort)"
      ]
    },
    {
      "cell_type": "code",
      "execution_count": 40,
      "metadata": {
        "id": "lUQds-TgXS8F",
        "colab": {
          "base_uri": "https://localhost:8080/"
        },
        "outputId": "62c7114a-01e2-4ff5-9629-148c8e7e437b"
      },
      "outputs": [
        {
          "output_type": "stream",
          "name": "stdout",
          "text": [
            "[[8 4 6]\n",
            " [8 5 6]\n",
            " [8 2 5]]\n",
            "\n",
            "Sort the said array by the nth column: \n",
            "[[8 2 5]\n",
            " [8 4 6]\n",
            " [8 5 6]]\n"
          ]
        }
      ],
      "source": [
        "nums = np.random.randint(0,10,(3,3))\n",
        "print(nums)\n",
        "print(\"\\nSort the said array by the nth column: \")\n",
        "print(nums[nums[:,1].argsort()])"
      ]
    },
    {
      "cell_type": "markdown",
      "metadata": {
        "id": "nDJOVwsnXS8F"
      },
      "source": [
        "#### 60. How to tell if a given 2D array has null columns? (★★☆) \n",
        "(**hint**: any, ~)"
      ]
    },
    {
      "cell_type": "code",
      "execution_count": 41,
      "metadata": {
        "id": "G-y-CeH7XS8F",
        "colab": {
          "base_uri": "https://localhost:8080/"
        },
        "outputId": "122ed64c-4a34-4852-dad1-0bf6ac7d5540"
      },
      "outputs": [
        {
          "output_type": "stream",
          "name": "stdout",
          "text": [
            "[[2 0 1 0 1 1 1 0 1 2]\n",
            " [1 1 2 2 2 0 1 1 0 2]\n",
            " [1 2 1 0 1 0 2 2 1 1]\n",
            " [0 1 1 0 2 1 2 0 1 0]]\n",
            "\n",
            "Test whether the said array has null columns or not:\n",
            "False\n"
          ]
        }
      ],
      "source": [
        "\n",
        "nums = np.random.randint(0,3,(4,10))\n",
        "print(nums)\n",
        "print(\"\\nTest whether the said array has null columns or not:\")\n",
        "print((~nums.any(axis=0)).any())"
      ]
    },
    {
      "cell_type": "markdown",
      "metadata": {
        "id": "W8xTqI7pXS8G"
      },
      "source": [
        "#### 61. Find the nearest value from a given value in an array (★★☆) \n",
        "(**hint**: np.abs, argmin, flat)"
      ]
    },
    {
      "cell_type": "code",
      "execution_count": 43,
      "metadata": {
        "id": "FNPMCU-0XS8H",
        "colab": {
          "base_uri": "https://localhost:8080/"
        },
        "outputId": "a4c8908d-4bce-4ccb-f4ff-324b68ce0e1b"
      },
      "outputs": [
        {
          "output_type": "stream",
          "name": "stdout",
          "text": [
            "Array is :  [8 7 1 5 3 4]\n",
            "Value to which nearest element is to be found:  2\n",
            "Nearest element to the given values is :  1\n",
            "Index of nearest value is :  2\n"
          ]
        }
      ],
      "source": [
        "arr = np.array([8, 7, 1, 5, 3, 4])\n",
        "print(\"Array is : \", arr)\n",
        "  \n",
        "# element to which nearest value is to be found\n",
        "x = 2\n",
        "print(\"Value to which nearest element is to be found: \", x)\n",
        "  \n",
        "# calculate the difference array\n",
        "difference_array = np.absolute(arr-x)\n",
        "  \n",
        "# find the index of minimum element from the array\n",
        "index = difference_array.argmin()\n",
        "print(\"Nearest element to the given values is : \", arr[index])\n",
        "print(\"Index of nearest value is : \", index)"
      ]
    },
    {
      "cell_type": "markdown",
      "metadata": {
        "id": "COk-dAvpXS_L"
      },
      "source": [
        "#### 62. Considering two arrays with shape (1,3) and (3,1), how to compute their sum using an iterator? (★★☆) \n",
        "(**hint**: np.nditer)"
      ]
    },
    {
      "cell_type": "code",
      "execution_count": 45,
      "metadata": {
        "id": "4OsmeLtsXS_N",
        "colab": {
          "base_uri": "https://localhost:8080/"
        },
        "outputId": "e42d7bb2-c382-4d39-e4cb-54f58cc1b353"
      },
      "outputs": [
        {
          "output_type": "stream",
          "name": "stdout",
          "text": [
            "[[0 1 2]\n",
            " [1 2 3]\n",
            " [2 3 4]]\n"
          ]
        }
      ],
      "source": [
        "A = np.arange(3).reshape(3,1)\n",
        "B = np.arange(3).reshape(1,3)\n",
        "it = np.nditer([A,B,None])\n",
        "for x,y,z in it: z[...] = x + y\n",
        "print(it.operands[2])"
      ]
    },
    {
      "cell_type": "markdown",
      "metadata": {
        "id": "D6MrXwf6XS_N"
      },
      "source": [
        "#### 63. Create an array class that has a name attribute (★★☆) \n",
        "(**hint**: class method)"
      ]
    },
    {
      "cell_type": "code",
      "execution_count": null,
      "metadata": {
        "id": "pW-V_wD-XS_a"
      },
      "outputs": [],
      "source": []
    },
    {
      "cell_type": "markdown",
      "metadata": {
        "id": "yTgCNuH-XS_l"
      },
      "source": [
        "#### 64. Consider a given vector, how to add 1 to each element indexed by a second vector (be careful with repeated indices)? (★★★) \n",
        "(**hint**: np.bincount | np.add.at)"
      ]
    },
    {
      "cell_type": "code",
      "execution_count": 46,
      "metadata": {
        "id": "cNq4GMDUXS_v",
        "colab": {
          "base_uri": "https://localhost:8080/"
        },
        "outputId": "b8435609-1be4-427a-e12b-b74cfb50056c"
      },
      "outputs": [
        {
          "output_type": "stream",
          "name": "stdout",
          "text": [
            "[2. 2. 7. 4. 5. 2. 3. 2. 2. 1.]\n"
          ]
        }
      ],
      "source": [
        "Z = np.ones(10)\n",
        "I = np.random.randint(0,len(Z),20)\n",
        "Z += np.bincount(I, minlength=len(Z))\n",
        "print(Z)"
      ]
    },
    {
      "cell_type": "markdown",
      "metadata": {
        "id": "mzWoUdgzXS_1"
      },
      "source": [
        "#### 65. How to accumulate elements of a vector (X) to an array (F) based on an index list (I)? (★★★) \n",
        "(**hint**: np.bincount)"
      ]
    },
    {
      "cell_type": "code",
      "execution_count": 47,
      "metadata": {
        "id": "YwVAIaXEXS_6",
        "colab": {
          "base_uri": "https://localhost:8080/"
        },
        "outputId": "6d13c9d3-f7bb-427d-91a1-3e56d6f147f6"
      },
      "outputs": [
        {
          "output_type": "stream",
          "name": "stdout",
          "text": [
            "[0. 7. 0. 6. 5. 0. 0. 0. 0. 3.]\n"
          ]
        }
      ],
      "source": [
        "X = [1,2,3,4,5,6]\n",
        "I = [1,3,9,3,4,1]\n",
        "F = np.bincount(I,X)\n",
        "print(F)"
      ]
    },
    {
      "cell_type": "markdown",
      "metadata": {
        "id": "y_KL7-XJXS_6"
      },
      "source": [
        "#### 66. Considering a (w,h,3) image of (dtype=ubyte), compute the number of unique colors (★★★) \n",
        "(**hint**: np.unique)"
      ]
    },
    {
      "cell_type": "code",
      "execution_count": 49,
      "metadata": {
        "id": "uhGezzjKXTAD",
        "colab": {
          "base_uri": "https://localhost:8080/"
        },
        "outputId": "8b673368-3af6-4387-f1cd-8b7e6009d804"
      },
      "outputs": [
        {
          "output_type": "stream",
          "name": "stdout",
          "text": [
            "[0 1]\n"
          ]
        }
      ],
      "source": [
        "w,h = 16,16\n",
        "I = np.random.randint(0,2,(h,w,3)).astype(np.ubyte)\n",
        "F = I[...,0]*65536 + I[...,1]*256 +I[...,2]\n",
        "n = len(np.unique(F))\n",
        "print(np.unique(I))"
      ]
    },
    {
      "cell_type": "markdown",
      "metadata": {
        "id": "oiIrZyqXXTAD"
      },
      "source": [
        "#### 67. Considering a four dimensions array, how to get sum over the last two axis at once? (★★★) \n",
        "(**hint**: sum(axis=(-2,-1)))"
      ]
    },
    {
      "cell_type": "code",
      "execution_count": 50,
      "metadata": {
        "id": "MAoMsWswXTAE",
        "colab": {
          "base_uri": "https://localhost:8080/"
        },
        "outputId": "b1625a33-cf22-4a85-ec8a-135bab922760"
      },
      "outputs": [
        {
          "output_type": "stream",
          "name": "stdout",
          "text": [
            "[[68 67 49 50]\n",
            " [43 54 54 33]\n",
            " [45 56 57 55]]\n"
          ]
        }
      ],
      "source": [
        "A = np.random.randint(0,10,(3,4,3,4))\n",
        "sum = A.reshape(A.shape[:-2] + (-1,)).sum(axis=-1)\n",
        "print(sum)"
      ]
    },
    {
      "cell_type": "markdown",
      "metadata": {
        "id": "Lauj60ISXTAX"
      },
      "source": [
        "#### 68. Considering a one-dimensional vector D, how to compute means of subsets of D using a vector S of same size describing subset  indices? (★★★) \n",
        "(**hint**: np.bincount)"
      ]
    },
    {
      "cell_type": "code",
      "execution_count": 51,
      "metadata": {
        "id": "ZeWFdLSJXTAc",
        "colab": {
          "base_uri": "https://localhost:8080/"
        },
        "outputId": "1c1ca7d9-3133-4ecf-f254-49ed0d8d95d5"
      },
      "outputs": [
        {
          "output_type": "stream",
          "name": "stdout",
          "text": [
            "[0.38200889 0.53629163 0.50229172 0.47584581 0.50628543 0.53867204\n",
            " 0.44840111 0.65258111 0.50487948 0.52670991]\n"
          ]
        }
      ],
      "source": [
        "D = np.random.uniform(0,1,100)\n",
        "S = np.random.randint(0,10,100)\n",
        "D_sums = np.bincount(S, weights=D)\n",
        "D_counts = np.bincount(S)\n",
        "D_means = D_sums / D_counts\n",
        "print(D_means)"
      ]
    },
    {
      "cell_type": "markdown",
      "metadata": {
        "id": "yxMdW5gsXTAe"
      },
      "source": [
        "#### 69. How to get the diagonal of a dot product? (★★★) \n",
        "(**hint**: np.diag)"
      ]
    },
    {
      "cell_type": "code",
      "execution_count": 52,
      "metadata": {
        "id": "DG9rAmaOXTAj",
        "colab": {
          "base_uri": "https://localhost:8080/"
        },
        "outputId": "0054df16-07e3-4449-d20b-a0e658171899"
      },
      "outputs": [
        {
          "output_type": "execute_result",
          "data": {
            "text/plain": [
              "array([84, 31, 38])"
            ]
          },
          "metadata": {},
          "execution_count": 52
        }
      ],
      "source": [
        "A = np.random.randint(0,10,(3,3))\n",
        "B= np.random.randint(0,10,(3,3))\n",
        "#Slow version\n",
        "\n",
        "np.diag(np.dot(A, B))\n",
        "\n",
        "# Fast version\n",
        "np.sum(A * B.T, axis=1)\n",
        "\n",
        "# Faster version\n",
        "np.einsum(\"ij,ji->i\", A, B)"
      ]
    },
    {
      "cell_type": "markdown",
      "metadata": {
        "id": "uq1RhdyCXTAp"
      },
      "source": [
        "#### 70. Consider the vector \\[1, 2, 3, 4, 5\\], how to build a new vector with 3 consecutive zeros interleaved between each value? (★★★) \n",
        "(**hint**: array\\[::4\\])"
      ]
    },
    {
      "cell_type": "code",
      "execution_count": 53,
      "metadata": {
        "id": "s3Pz0yzUXTAr",
        "colab": {
          "base_uri": "https://localhost:8080/"
        },
        "outputId": "8709d38c-dadc-491b-ef1b-c26fe6742169"
      },
      "outputs": [
        {
          "output_type": "stream",
          "name": "stdout",
          "text": [
            "[1. 0. 0. 0. 2. 0. 0. 0. 3. 0. 0. 0. 4. 0. 0. 0. 5.]\n"
          ]
        }
      ],
      "source": [
        "Z = np.array([1,2,3,4,5])\n",
        "nz = 3\n",
        "Z0 = np.zeros(len(Z) + (len(Z)-1)*(nz))\n",
        "Z0[::nz+1] = Z\n",
        "print(Z0)"
      ]
    },
    {
      "cell_type": "markdown",
      "metadata": {
        "id": "A3710Xo5XTAr"
      },
      "source": [
        "#### 71. Consider an array of dimension (5,5,3), how to mulitply it by an array with dimensions (5,5)? (★★★) \n",
        "(**hint**: array\\[:, :, None\\])"
      ]
    },
    {
      "cell_type": "code",
      "execution_count": 54,
      "metadata": {
        "collapsed": true,
        "id": "K-h_W2fwXTAs",
        "colab": {
          "base_uri": "https://localhost:8080/"
        },
        "outputId": "86167191-5ef8-4ed8-ea3d-efb574fcc8c3"
      },
      "outputs": [
        {
          "output_type": "stream",
          "name": "stdout",
          "text": [
            "[[[2. 2. 2.]\n",
            "  [2. 2. 2.]\n",
            "  [2. 2. 2.]\n",
            "  [2. 2. 2.]\n",
            "  [2. 2. 2.]]\n",
            "\n",
            " [[2. 2. 2.]\n",
            "  [2. 2. 2.]\n",
            "  [2. 2. 2.]\n",
            "  [2. 2. 2.]\n",
            "  [2. 2. 2.]]\n",
            "\n",
            " [[2. 2. 2.]\n",
            "  [2. 2. 2.]\n",
            "  [2. 2. 2.]\n",
            "  [2. 2. 2.]\n",
            "  [2. 2. 2.]]\n",
            "\n",
            " [[2. 2. 2.]\n",
            "  [2. 2. 2.]\n",
            "  [2. 2. 2.]\n",
            "  [2. 2. 2.]\n",
            "  [2. 2. 2.]]\n",
            "\n",
            " [[2. 2. 2.]\n",
            "  [2. 2. 2.]\n",
            "  [2. 2. 2.]\n",
            "  [2. 2. 2.]\n",
            "  [2. 2. 2.]]]\n"
          ]
        }
      ],
      "source": [
        "A = np.ones((5,5,3))\n",
        "B = 2*np.ones((5,5))\n",
        "print(A * B[:,:,None])"
      ]
    },
    {
      "cell_type": "markdown",
      "metadata": {
        "id": "Yw-myXbHXTAs"
      },
      "source": [
        "#### 72. How to swap two rows of an array? (★★★) \n",
        "(**hint**: array\\[\\[\\]\\] = array\\[\\[\\]\\])"
      ]
    },
    {
      "cell_type": "code",
      "execution_count": 55,
      "metadata": {
        "id": "VMYKNZGXXTA1",
        "colab": {
          "base_uri": "https://localhost:8080/"
        },
        "outputId": "be786f32-5f92-4b2a-8eee-26f824f82841"
      },
      "outputs": [
        {
          "output_type": "stream",
          "name": "stdout",
          "text": [
            "[[ 5  6  7  8  9]\n",
            " [ 0  1  2  3  4]\n",
            " [10 11 12 13 14]\n",
            " [15 16 17 18 19]\n",
            " [20 21 22 23 24]]\n"
          ]
        }
      ],
      "source": [
        "A = np.arange(25).reshape(5,5)\n",
        "A[[0,1]] = A[[1,0]]\n",
        "print(A)"
      ]
    },
    {
      "cell_type": "markdown",
      "metadata": {
        "id": "9OTChp7vXTA_"
      },
      "source": [
        "#### 73. Consider a set of 10 triplets describing 10 triangles (with shared vertices), find the set of unique line segments composing all the  triangles (★★★) \n",
        "(**hint**: repeat, np.roll, np.sort, view, np.unique)"
      ]
    },
    {
      "cell_type": "code",
      "execution_count": 56,
      "metadata": {
        "id": "FkLVVMRCXTBD",
        "colab": {
          "base_uri": "https://localhost:8080/"
        },
        "outputId": "94ce2e76-ab2f-4814-bfc7-c727718503ad"
      },
      "outputs": [
        {
          "output_type": "stream",
          "name": "stdout",
          "text": [
            "[( 2, 36) ( 2, 75) ( 3, 50) ( 3, 81) ( 4, 31) ( 4, 94) ( 8, 25) ( 8, 96)\n",
            " (11, 24) (11, 58) (13, 16) (13, 22) (14, 43) (14, 98) (16, 22) (18, 45)\n",
            " (18, 66) (24, 58) (25, 96) (31, 94) (36, 75) (37, 62) (37, 83) (43, 98)\n",
            " (45, 66) (50, 81) (56, 78) (56, 85) (62, 83) (78, 85)]\n"
          ]
        }
      ],
      "source": [
        "faces = np.random.randint(0,100,(10,3))\n",
        "F = np.roll(faces.repeat(2,axis=1),-1,axis=1)\n",
        "F = F.reshape(len(F)*3,2)\n",
        "F = np.sort(F,axis=1)\n",
        "G = F.view( dtype=[('p0',F.dtype),('p1',F.dtype)] )\n",
        "G = np.unique(G)\n",
        "print(G)"
      ]
    },
    {
      "cell_type": "markdown",
      "metadata": {
        "id": "SSEO5EYOXTBH"
      },
      "source": [
        "#### 74. Given an array C that is a bincount, how to produce an array A such that np.bincount(A) == C? (★★★) \n",
        "(**hint**: np.repeat)"
      ]
    },
    {
      "cell_type": "code",
      "execution_count": 57,
      "metadata": {
        "id": "jxsP8M5WXTBM",
        "colab": {
          "base_uri": "https://localhost:8080/"
        },
        "outputId": "aad45e0a-0b8c-4537-dae9-23b18eae394d"
      },
      "outputs": [
        {
          "output_type": "stream",
          "name": "stdout",
          "text": [
            "[1 1 2 3 4 4 6]\n"
          ]
        }
      ],
      "source": [
        "C = np.bincount([1,1,2,3,4,4,6])\n",
        "A = np.repeat(np.arange(len(C)), C)\n",
        "print(A)"
      ]
    },
    {
      "cell_type": "markdown",
      "metadata": {
        "id": "RkxqnPuZXTBN"
      },
      "source": [
        "#### 75. How to compute averages using a sliding window over an array? (★★★) \n",
        "(**hint**: np.cumsum)"
      ]
    },
    {
      "cell_type": "code",
      "execution_count": 58,
      "metadata": {
        "id": "dxi5vorAXTBO",
        "colab": {
          "base_uri": "https://localhost:8080/"
        },
        "outputId": "77051521-d572-4e95-b8a4-9d2646b2962a"
      },
      "outputs": [
        {
          "output_type": "stream",
          "name": "stdout",
          "text": [
            "[ 1.  2.  3.  4.  5.  6.  7.  8.  9. 10. 11. 12. 13. 14. 15. 16. 17. 18.]\n"
          ]
        }
      ],
      "source": [
        "def moving_average(a, n=3) :\n",
        "    ret = np.cumsum(a, dtype=float)\n",
        "    ret[n:] = ret[n:] - ret[:-n]\n",
        "    return ret[n - 1:] / n\n",
        "Z = np.arange(20)\n",
        "print(moving_average(Z, n=3))"
      ]
    },
    {
      "cell_type": "markdown",
      "metadata": {
        "id": "G7_YjZ38XTBP"
      },
      "source": [
        "#### 76. Consider a one-dimensional array Z, build a two-dimensional array whose first row is (Z\\[0\\],Z\\[1\\],Z\\[2\\]) and each subsequent row is  shifted by 1 (last row should be (Z\\[-3\\],Z\\[-2\\],Z\\[-1\\]) (★★★) \n",
        "(**hint**: from numpy.lib import stride_tricks)"
      ]
    },
    {
      "cell_type": "code",
      "execution_count": 59,
      "metadata": {
        "id": "kdhNXzKuXTBQ",
        "colab": {
          "base_uri": "https://localhost:8080/"
        },
        "outputId": "96f9d92e-076a-4b38-905c-10043836fca2"
      },
      "outputs": [
        {
          "output_type": "stream",
          "name": "stdout",
          "text": [
            "[[0 1 2]\n",
            " [1 2 3]\n",
            " [2 3 4]\n",
            " [3 4 5]\n",
            " [4 5 6]\n",
            " [5 6 7]\n",
            " [6 7 8]\n",
            " [7 8 9]]\n"
          ]
        }
      ],
      "source": [
        "def rolling(a, window):\n",
        "    shape = (a.size - window + 1, window)\n",
        "    strides = (a.itemsize, a.itemsize)\n",
        "    return np.lib.stride_tricks.as_strided(a, shape=shape, strides=strides)\n",
        "Z = rolling(np.arange(10), 3)\n",
        "print(Z)"
      ]
    },
    {
      "cell_type": "markdown",
      "metadata": {
        "id": "BQ8BmM7DXTBQ"
      },
      "source": [
        "#### 77. How to negate a boolean, or to change the sign of a float inplace? (★★★) \n",
        "(**hint**: np.logical_not, np.negative)"
      ]
    },
    {
      "cell_type": "code",
      "execution_count": 60,
      "metadata": {
        "id": "TiNYw17wXTBR",
        "colab": {
          "base_uri": "https://localhost:8080/"
        },
        "outputId": "68cfad03-e450-4d7f-f514-1d1b35a954e2"
      },
      "outputs": [
        {
          "output_type": "stream",
          "name": "stdout",
          "text": [
            "original: \n",
            "[0 0 1 0 0 1 0 0 0 1 0 0 0 1 1 1 1 0 0 1 0 1 1 1 1 0 1 0 0 1 1 0 1 1 0 0 0\n",
            " 0 1 1 0 1 0 1 0 1 1 1 1 0 0 1 0 0 1 0 1 0 1 1 0 0 1 0 1 1 0 1 1 0 1 0 1 1\n",
            " 0 1 1 0 0 1 1 1 1 1 0 0 1 0 1 0 0 1 0 0 0 1 1 0 1 1]\n",
            "Negating a boolean: \n",
            "[1 1 0 1 1 0 1 1 1 0 1 1 1 0 0 0 0 1 1 0 1 0 0 0 0 1 0 1 1 0 0 1 0 0 1 1 1\n",
            " 1 0 0 1 0 1 0 1 0 0 0 0 1 1 0 1 1 0 1 0 1 0 0 1 1 0 1 0 0 1 0 0 1 0 1 0 0\n",
            " 1 0 0 1 1 0 0 0 0 0 1 1 0 1 0 1 1 0 1 1 1 0 0 1 0 0]\n",
            "original: \n",
            "[ 0.89263481 -0.15902392  0.20846063 -0.31886832 -0.85897611  0.32105908\n",
            " -0.93862608 -0.13804366 -0.55194047 -0.43816888]\n",
            "Change the sign of float inplace: \n",
            "[-0.89263481  0.15902392 -0.20846063  0.31886832  0.85897611 -0.32105908\n",
            "  0.93862608  0.13804366  0.55194047  0.43816888]\n"
          ]
        }
      ],
      "source": [
        "Z = np.random.randint(0,2,100)\n",
        "print ('original: ')\n",
        "print (Z)\n",
        "print('Negating a boolean: ')\n",
        "print(np.logical_not(Z, out=Z))\n",
        "\n",
        "\n",
        "Z = np.random.uniform(-1.0,1.0,10)\n",
        "print ('original: ')\n",
        "print (Z)\n",
        "print ('Change the sign of float inplace: ')\n",
        "print(np.negative(Z, out=Z))"
      ]
    },
    {
      "cell_type": "markdown",
      "metadata": {
        "id": "iEfRjIX9XTBR"
      },
      "source": [
        "#### 78. Consider 2 sets of points P0,P1 describing lines (2d) and a point p, how to compute distance from p to each line i  (P0\\[i\\],P1\\[i\\])? (★★★)"
      ]
    },
    {
      "cell_type": "code",
      "execution_count": 65,
      "metadata": {
        "id": "CP0nqwCRXTBR",
        "colab": {
          "base_uri": "https://localhost:8080/"
        },
        "outputId": "e37d581b-d181-4a64-be18-72efee7497a9"
      },
      "outputs": [
        {
          "output_type": "stream",
          "name": "stdout",
          "text": [
            "[ 2.53948823  9.938171    1.61586865  4.56944823 13.82353849  8.01492552\n",
            " 13.76367729  9.36486981  6.42093723  4.64892285]\n"
          ]
        }
      ],
      "source": [
        "def distance(P0, P1, p):\n",
        "    T = P1 - P0\n",
        "    L = (T**2).sum(axis=1)\n",
        "    U = -((P0[:,0]-p[...,0])*T[:,0] + (P0[:,1]-p[...,1])*T[:,1]) / L\n",
        "    U = U.reshape(len(U),1)\n",
        "    D = P0 + U*T - p\n",
        "    return np.sqrt((D**2).sum(axis=1))\n",
        "\n",
        "P0 = np.random.uniform(-10,10,(10,2))\n",
        "P1 = np.random.uniform(-10,10,(10,2))\n",
        "p  = np.random.uniform(-10,10,( 1,2))\n",
        "print(distance(P0, P1, p))"
      ]
    },
    {
      "cell_type": "markdown",
      "metadata": {
        "id": "6MRSQRY9XTBS"
      },
      "source": [
        "#### 79. Consider 2 sets of points P0,P1 describing lines (2d) and a set of points P, how to compute distance from each point j (P\\[j\\]) to each line i (P0\\[i\\],P1\\[i\\])? (★★★)"
      ]
    },
    {
      "cell_type": "code",
      "execution_count": 66,
      "metadata": {
        "id": "eio0L1hjXTBS",
        "colab": {
          "base_uri": "https://localhost:8080/"
        },
        "outputId": "d370e803-2c2d-4f0d-fd63-121c86d5778c"
      },
      "outputs": [
        {
          "output_type": "stream",
          "name": "stdout",
          "text": [
            "[[ 5.97413971 15.8573495   1.15735667  4.5847129   1.45251758]\n",
            " [ 2.43473463  2.72479152 13.06666138 15.7902112   6.44263641]\n",
            " [ 5.59047072 12.31502297  5.69073725 11.49319073  4.80090477]\n",
            " [ 7.86473734  4.04255189  1.61416961  1.72899003  8.07829583]\n",
            " [ 3.11731675  8.58128528  0.35956981  1.6529842   6.77781375]]\n"
          ]
        }
      ],
      "source": [
        "\n",
        "P0 = np.random.uniform(-10, 10, (5,2))\n",
        "P1 = np.random.uniform(-10,10,(5,2))\n",
        "p = np.random.uniform(-10, 10, (5,2))\n",
        "print (np.array([distance(P0,P1,p_i) for p_i in p]))"
      ]
    },
    {
      "cell_type": "markdown",
      "metadata": {
        "id": "TeGo20bIXTBS"
      },
      "source": [
        "#### 80. Consider an arbitrary array, write a function that extract a subpart with a fixed shape and centered on a given element (pad with a `fill` value when necessary) (★★★) \n",
        "(**hint**: minimum, maximum)"
      ]
    },
    {
      "cell_type": "code",
      "execution_count": 67,
      "metadata": {
        "id": "nbGKtLAXXTBS",
        "colab": {
          "base_uri": "https://localhost:8080/"
        },
        "outputId": "4b06c9bf-5e19-48bf-82d0-a9486bdb1a26"
      },
      "outputs": [
        {
          "output_type": "stream",
          "name": "stdout",
          "text": [
            "[[3 0 2 4 3 2 2 7 8 6]\n",
            " [9 2 1 3 8 7 4 9 4 4]\n",
            " [2 1 3 7 4 8 8 1 6 1]\n",
            " [7 1 0 5 6 0 6 0 1 6]\n",
            " [0 7 3 5 3 4 5 6 1 4]\n",
            " [4 8 9 3 8 6 1 9 4 3]\n",
            " [1 5 4 4 6 9 7 7 2 3]\n",
            " [2 5 7 0 8 3 0 1 9 8]\n",
            " [9 4 4 2 8 4 9 0 5 5]\n",
            " [0 2 1 4 8 8 6 3 1 3]]\n",
            "[[0 0 0 0 0]\n",
            " [0 3 0 2 4]\n",
            " [0 9 2 1 3]\n",
            " [0 2 1 3 7]\n",
            " [0 7 1 0 5]]\n"
          ]
        },
        {
          "output_type": "stream",
          "name": "stderr",
          "text": [
            "/usr/local/lib/python3.7/dist-packages/ipykernel_launcher.py:23: FutureWarning: Using a non-tuple sequence for multidimensional indexing is deprecated; use `arr[tuple(seq)]` instead of `arr[seq]`. In the future this will be interpreted as an array index, `arr[np.array(seq)]`, which will result either in an error or a different result.\n"
          ]
        }
      ],
      "source": [
        "Z = np.random.randint(0,10,(10,10))\n",
        "shape = (5,5)\n",
        "fill  = 0\n",
        "position = (1,1)\n",
        "\n",
        "R = np.ones(shape, dtype=Z.dtype)*fill\n",
        "P  = np.array(list(position)).astype(int)\n",
        "Rs = np.array(list(R.shape)).astype(int)\n",
        "Zs = np.array(list(Z.shape)).astype(int)\n",
        "\n",
        "R_start = np.zeros((len(shape),)).astype(int)\n",
        "R_stop  = np.array(list(shape)).astype(int)\n",
        "Z_start = (P-Rs//2)\n",
        "Z_stop  = (P+Rs//2)+Rs%2\n",
        "\n",
        "R_start = (R_start - np.minimum(Z_start,0)).tolist()\n",
        "Z_start = (np.maximum(Z_start,0)).tolist()\n",
        "R_stop = np.maximum(R_start, (R_stop - np.maximum(Z_stop-Zs,0))).tolist()\n",
        "Z_stop = (np.minimum(Z_stop,Zs)).tolist()\n",
        "\n",
        "r = [slice(start,stop) for start,stop in zip(R_start,R_stop)]\n",
        "z = [slice(start,stop) for start,stop in zip(Z_start,Z_stop)]\n",
        "R[r] = Z[z]\n",
        "print(Z)\n",
        "print(R)"
      ]
    },
    {
      "cell_type": "markdown",
      "metadata": {
        "id": "rDYHsjRDXTBT"
      },
      "source": [
        "#### 81. Consider an array Z = \\[1,2,3,4,5,6,7,8,9,10,11,12,13,14\\], how to generate an array R = \\[\\[1,2,3,4\\], \\[2,3,4,5\\], \\[3,4,5,6\\], ..., \\[11,12,13,14\\]\\]? (★★★) \n",
        "(**hint**: stride\\_tricks.as\\_strided)"
      ]
    },
    {
      "cell_type": "code",
      "execution_count": 68,
      "metadata": {
        "id": "PJZibU8OXTBT",
        "colab": {
          "base_uri": "https://localhost:8080/"
        },
        "outputId": "456a6a1f-d940-4068-abda-7ae4288ff7ad"
      },
      "outputs": [
        {
          "output_type": "stream",
          "name": "stdout",
          "text": [
            "original: \n",
            "[ 1  2  3  4  5  6  7  8  9 10 11 12 13 14]\n",
            "after strides: \n",
            "[[ 1  2  3  4]\n",
            " [ 2  3  4  5]\n",
            " [ 3  4  5  6]\n",
            " [ 4  5  6  7]\n",
            " [ 5  6  7  8]\n",
            " [ 6  7  8  9]\n",
            " [ 7  8  9 10]\n",
            " [ 8  9 10 11]\n",
            " [ 9 10 11 12]\n",
            " [10 11 12 13]\n",
            " [11 12 13 14]]\n"
          ]
        }
      ],
      "source": [
        "Z = np.arange(1,15,dtype=int)\n",
        "\n",
        "def rolling(a, window):\n",
        "    shape = (a.size - window + 1, window)\n",
        "    strides = (a.itemsize, a.itemsize)\n",
        "    return np.lib.stride_tricks.as_strided(a, shape=shape, strides=strides)\n",
        "R = rolling(Z, 4)\n",
        "print ('original: ')\n",
        "print (Z)\n",
        "print ('after strides: ')\n",
        "print(R)"
      ]
    },
    {
      "cell_type": "markdown",
      "metadata": {
        "id": "NtElGq9wXTBU"
      },
      "source": [
        "#### 82. Compute a matrix rank (★★★) \n",
        "(**hint**: np.linalg.svd) (suggestion: np.linalg.svd)"
      ]
    },
    {
      "cell_type": "code",
      "execution_count": 69,
      "metadata": {
        "id": "il5cT6KtXTBU",
        "colab": {
          "base_uri": "https://localhost:8080/"
        },
        "outputId": "c31342f3-ad25-4b7a-bfaa-7f64b66a767c"
      },
      "outputs": [
        {
          "output_type": "stream",
          "name": "stdout",
          "text": [
            "10\n"
          ]
        }
      ],
      "source": [
        "Z = np.random.uniform(0,1,(10,10))\n",
        "U, S, V = np.linalg.svd(Z) # Singular Value Decomposition\n",
        "rank = np.sum(S > 1e-10)\n",
        "print (rank)"
      ]
    },
    {
      "cell_type": "markdown",
      "metadata": {
        "id": "eWpD9FkgXTBV"
      },
      "source": [
        "#### 83. How to find the most frequent value in an array? \n",
        "(**hint**: np.bincount, argmax)"
      ]
    },
    {
      "cell_type": "code",
      "execution_count": 70,
      "metadata": {
        "id": "6qsx-JHxXTBV",
        "colab": {
          "base_uri": "https://localhost:8080/"
        },
        "outputId": "7cac2af9-a9c8-4b58-aefb-9d785d344ade"
      },
      "outputs": [
        {
          "output_type": "stream",
          "name": "stdout",
          "text": [
            "[4 2 6 7 4 5 8 7 8 8 1 3 7 5 8 2 7 6 8 0 7 5 6 9 3 9 2 2 7 8 6 4 0 9 1 9 7\n",
            " 1 7 2 8 7 6 5 1 0 0 2 3 3]\n",
            "rank: 7\n"
          ]
        }
      ],
      "source": [
        "Z = np.random.randint(0,10,50)\n",
        "print (Z)\n",
        "print('rank:', np.bincount(Z).argmax())"
      ]
    },
    {
      "cell_type": "markdown",
      "metadata": {
        "id": "GhcP0DcPXTBW"
      },
      "source": [
        "#### 84. Extract all the contiguous 3x3 blocks from a random 10x10 matrix (★★★) \n",
        "(**hint**: stride\\_tricks.as\\_strided)"
      ]
    },
    {
      "cell_type": "code",
      "execution_count": 71,
      "metadata": {
        "id": "kgDH-WsbXTBX",
        "colab": {
          "base_uri": "https://localhost:8080/"
        },
        "outputId": "7f70814c-9b6d-48a2-a209-b34abebe43d5"
      },
      "outputs": [
        {
          "output_type": "stream",
          "name": "stdout",
          "text": [
            "[[[[2 3 4]\n",
            "   [4 1 2]\n",
            "   [1 2 0]]\n",
            "\n",
            "  [[3 4 1]\n",
            "   [1 2 0]\n",
            "   [2 0 0]]\n",
            "\n",
            "  [[4 1 1]\n",
            "   [2 0 0]\n",
            "   [0 0 1]]\n",
            "\n",
            "  [[1 1 3]\n",
            "   [0 0 2]\n",
            "   [0 1 1]]]\n",
            "\n",
            "\n",
            " [[[4 1 2]\n",
            "   [1 2 0]\n",
            "   [3 1 4]]\n",
            "\n",
            "  [[1 2 0]\n",
            "   [2 0 0]\n",
            "   [1 4 2]]\n",
            "\n",
            "  [[2 0 0]\n",
            "   [0 0 1]\n",
            "   [4 2 4]]\n",
            "\n",
            "  [[0 0 2]\n",
            "   [0 1 1]\n",
            "   [2 4 3]]]\n",
            "\n",
            "\n",
            " [[[1 2 0]\n",
            "   [3 1 4]\n",
            "   [4 4 3]]\n",
            "\n",
            "  [[2 0 0]\n",
            "   [1 4 2]\n",
            "   [4 3 2]]\n",
            "\n",
            "  [[0 0 1]\n",
            "   [4 2 4]\n",
            "   [3 2 0]]\n",
            "\n",
            "  [[0 1 1]\n",
            "   [2 4 3]\n",
            "   [2 0 1]]]\n",
            "\n",
            "\n",
            " [[[3 1 4]\n",
            "   [4 4 3]\n",
            "   [2 1 0]]\n",
            "\n",
            "  [[1 4 2]\n",
            "   [4 3 2]\n",
            "   [1 0 4]]\n",
            "\n",
            "  [[4 2 4]\n",
            "   [3 2 0]\n",
            "   [0 4 1]]\n",
            "\n",
            "  [[2 4 3]\n",
            "   [2 0 1]\n",
            "   [4 1 2]]]]\n"
          ]
        }
      ],
      "source": [
        "Z = np.random.randint(0,5,(6,6))\n",
        "n = 3\n",
        "i = 1 + (Z.shape[0]-3)\n",
        "j = 1 + (Z.shape[1]-3)\n",
        "C = np.lib.stride_tricks.as_strided(Z, shape=(i, j, n, n), strides=Z.strides + Z.strides)\n",
        "print(C)"
      ]
    },
    {
      "cell_type": "markdown",
      "metadata": {
        "id": "2HbxsORcXTBX"
      },
      "source": [
        "#### 85. Create a 2D array subclass such that Z\\[i,j\\] == Z\\[j,i\\] (★★★) \n",
        "(**hint**: class method)"
      ]
    },
    {
      "cell_type": "code",
      "execution_count": 74,
      "metadata": {
        "id": "iC5jfQPEXTBY",
        "colab": {
          "base_uri": "https://localhost:8080/"
        },
        "outputId": "a17a2ff7-f3dc-4c24-d03a-3ddc1a147248"
      },
      "outputs": [
        {
          "output_type": "stream",
          "name": "stdout",
          "text": [
            "[[ 0 14 12  5  2]\n",
            " [14  8  6  7  8]\n",
            " [12  6  8 42 16]\n",
            " [ 5  7 42  5  9]\n",
            " [ 2  8 16  9  2]]\n"
          ]
        }
      ],
      "source": [
        "class Symetric(np.ndarray):\n",
        "    def __setitem__(self, index, value):\n",
        "        i,j = index\n",
        "        super(Symetric, self).__setitem__((i,j), value)\n",
        "        super(Symetric, self).__setitem__((j,i), value)\n",
        "\n",
        "def symetric(Z):\n",
        "    return np.asarray(Z + Z.T - np.diag(Z.diagonal())).view(Symetric)\n",
        "\n",
        "S = symetric(np.random.randint(0,10,(5,5)))\n",
        "S[2,3] = 42\n",
        "print(S)"
      ]
    },
    {
      "cell_type": "markdown",
      "metadata": {
        "id": "yiRq5AO0XTBY"
      },
      "source": [
        "#### 86. Consider a set of p matrices wich shape (n,n) and a set of p vectors with shape (n,1). How to compute the sum of of the p matrix products at once? (result has shape (n,1)) (★★★) \n",
        "(**hint**: np.tensordot)"
      ]
    },
    {
      "cell_type": "code",
      "execution_count": 75,
      "metadata": {
        "id": "TlpWgrqnXTBZ",
        "colab": {
          "base_uri": "https://localhost:8080/"
        },
        "outputId": "182fc804-4958-426b-da34-dc54cd1c162d"
      },
      "outputs": [
        {
          "output_type": "stream",
          "name": "stdout",
          "text": [
            "[[200.]\n",
            " [200.]\n",
            " [200.]\n",
            " [200.]\n",
            " [200.]\n",
            " [200.]\n",
            " [200.]\n",
            " [200.]\n",
            " [200.]\n",
            " [200.]\n",
            " [200.]\n",
            " [200.]\n",
            " [200.]\n",
            " [200.]\n",
            " [200.]\n",
            " [200.]\n",
            " [200.]\n",
            " [200.]\n",
            " [200.]\n",
            " [200.]]\n"
          ]
        }
      ],
      "source": [
        "p, n = 10, 20\n",
        "M = np.ones((p,n,n))\n",
        "V = np.ones((p,n,1))\n",
        "S = np.tensordot(M, V, axes=[[0, 2], [0, 1]])\n",
        "print(S)\n"
      ]
    },
    {
      "cell_type": "markdown",
      "metadata": {
        "id": "Z0t99PG8XTBa"
      },
      "source": [
        "#### 87. Consider a 16x16 array, how to get the block-sum (block size is 4x4)? (★★★) \n",
        "(**hint**: np.add.reduceat)"
      ]
    },
    {
      "cell_type": "code",
      "execution_count": 76,
      "metadata": {
        "id": "zXa8E-NzXTBd",
        "colab": {
          "base_uri": "https://localhost:8080/"
        },
        "outputId": "376ce68e-d92a-4438-99fa-b5279cf016e0"
      },
      "outputs": [
        {
          "output_type": "stream",
          "name": "stdout",
          "text": [
            "input array\n",
            "[[1. 1. 1. 1. 1. 1. 1. 1. 1. 1. 1. 1. 1. 1. 1. 1.]\n",
            " [1. 1. 1. 1. 1. 1. 1. 1. 1. 1. 1. 1. 1. 1. 1. 1.]\n",
            " [1. 1. 1. 1. 1. 1. 1. 1. 1. 1. 1. 1. 1. 1. 1. 1.]\n",
            " [1. 1. 1. 1. 1. 1. 1. 1. 1. 1. 1. 1. 1. 1. 1. 1.]\n",
            " [1. 1. 1. 1. 1. 1. 1. 1. 1. 1. 1. 1. 1. 1. 1. 1.]\n",
            " [1. 1. 1. 1. 1. 1. 1. 1. 1. 1. 1. 1. 1. 1. 1. 1.]\n",
            " [1. 1. 1. 1. 1. 1. 1. 1. 1. 1. 1. 1. 1. 1. 1. 1.]\n",
            " [1. 1. 1. 1. 1. 1. 1. 1. 1. 1. 1. 1. 1. 1. 1. 1.]\n",
            " [1. 1. 1. 1. 1. 1. 1. 1. 1. 1. 1. 1. 1. 1. 1. 1.]\n",
            " [1. 1. 1. 1. 1. 1. 1. 1. 1. 1. 1. 1. 1. 1. 1. 1.]\n",
            " [1. 1. 1. 1. 1. 1. 1. 1. 1. 1. 1. 1. 1. 1. 1. 1.]\n",
            " [1. 1. 1. 1. 1. 1. 1. 1. 1. 1. 1. 1. 1. 1. 1. 1.]\n",
            " [1. 1. 1. 1. 1. 1. 1. 1. 1. 1. 1. 1. 1. 1. 1. 1.]\n",
            " [1. 1. 1. 1. 1. 1. 1. 1. 1. 1. 1. 1. 1. 1. 1. 1.]\n",
            " [1. 1. 1. 1. 1. 1. 1. 1. 1. 1. 1. 1. 1. 1. 1. 1.]\n",
            " [1. 1. 1. 1. 1. 1. 1. 1. 1. 1. 1. 1. 1. 1. 1. 1.]]\n",
            "block sum\n",
            "[[16. 16. 16. 16.]\n",
            " [16. 16. 16. 16.]\n",
            " [16. 16. 16. 16.]\n",
            " [16. 16. 16. 16.]]\n"
          ]
        }
      ],
      "source": [
        "Z = np.ones((16,16))\n",
        "k = 4\n",
        "S = np.add.reduceat(np.add.reduceat(Z, np.arange(0, Z.shape[0], k), axis=0),\n",
        "                                       np.arange(0, Z.shape[1], k), axis=1)\n",
        "print ('input array')\n",
        "print (Z)\n",
        "print ('block sum')\n",
        "print (S)"
      ]
    },
    {
      "cell_type": "markdown",
      "metadata": {
        "id": "6M41Y0iwXTBe"
      },
      "source": [
        "#### 88. How to implement the Game of Life using numpy arrays? (★★★)"
      ]
    },
    {
      "cell_type": "code",
      "execution_count": 77,
      "metadata": {
        "id": "plb7YSJBXTBf"
      },
      "outputs": [],
      "source": [
        "def iterate(Z):\n",
        "    # Count neighbours\n",
        "    N = (Z[0:-2,0:-2] + Z[0:-2,1:-1] + Z[0:-2,2:] +\n",
        "         Z[1:-1,0:-2]                + Z[1:-1,2:] +\n",
        "         Z[2:  ,0:-2] + Z[2:  ,1:-1] + Z[2:  ,2:])\n",
        "\n",
        "    # Apply rules\n",
        "    birth = (N==3) & (Z[1:-1,1:-1]==0)\n",
        "    survive = ((N==2) | (N==3)) & (Z[1:-1,1:-1]==1)\n",
        "    Z[...] = 0\n",
        "    Z[1:-1,1:-1][birth | survive] = 1\n",
        "    return Z\n",
        "\n",
        "Z = np.random.randint(0,2,(50,50))\n",
        "for i in range(100): Z = iterate(Z)\n"
      ]
    },
    {
      "cell_type": "markdown",
      "metadata": {
        "id": "TcDEWPMIXTBg"
      },
      "source": [
        "#### 89. How to get the n largest values of an array (★★★) \n",
        "(**hint**: np.argsort | np.argpartition)"
      ]
    },
    {
      "cell_type": "code",
      "execution_count": 78,
      "metadata": {
        "id": "R-o0lpc7XTBg",
        "colab": {
          "base_uri": "https://localhost:8080/"
        },
        "outputId": "13c014f7-0e78-462a-db67-1b06a8046f30"
      },
      "outputs": [
        {
          "output_type": "stream",
          "name": "stdout",
          "text": [
            "[9995 9996 9997 9998 9999]\n",
            "[9999 9998 9997 9996 9995]\n"
          ]
        }
      ],
      "source": [
        "Z = np.arange(10000)\n",
        "np.random.shuffle(Z)\n",
        "n = 5\n",
        "\n",
        "# Slow\n",
        "print (Z[np.argsort(Z)[-n:]])\n",
        "\n",
        "# Fast\n",
        "print (Z[np.argpartition(-Z,n)[:n]])"
      ]
    },
    {
      "cell_type": "markdown",
      "metadata": {
        "id": "fnnoMkcIXTBh"
      },
      "source": [
        "#### 90. Given an arbitrary number of vectors, build the cartesian product (every combinations of every item) (★★★) \n",
        "(**hint**: np.indices)"
      ]
    },
    {
      "cell_type": "code",
      "execution_count": 79,
      "metadata": {
        "scrolled": true,
        "id": "3Hzv2MvWXTBi",
        "colab": {
          "base_uri": "https://localhost:8080/"
        },
        "outputId": "57c65aaf-116b-49bc-def2-86a75c25ef13"
      },
      "outputs": [
        {
          "output_type": "stream",
          "name": "stdout",
          "text": [
            "[[1 4 6]\n",
            " [1 4 7]\n",
            " [1 5 6]\n",
            " [1 5 7]\n",
            " [2 4 6]\n",
            " [2 4 7]\n",
            " [2 5 6]\n",
            " [2 5 7]\n",
            " [3 4 6]\n",
            " [3 4 7]\n",
            " [3 5 6]\n",
            " [3 5 7]]\n"
          ]
        }
      ],
      "source": [
        "def cartesian(arrays):\n",
        "    arrays = [np.asarray(a) for a in arrays]\n",
        "    shape = (len(x) for x in arrays)\n",
        "\n",
        "    ix = np.indices(shape, dtype=int)\n",
        "    ix = ix.reshape(len(arrays), -1).T\n",
        "\n",
        "    for n, arr in enumerate(arrays):\n",
        "        ix[:, n] = arrays[n][ix[:, n]]\n",
        "\n",
        "    return ix\n",
        "\n",
        "print (cartesian(([1, 2, 3], [4, 5], [6, 7])))"
      ]
    },
    {
      "cell_type": "markdown",
      "metadata": {
        "id": "lmWBRDYkXTBj"
      },
      "source": [
        "#### 91. How to create a record array from a regular array? (★★★) \n",
        "(**hint**: np.core.records.fromarrays)"
      ]
    },
    {
      "cell_type": "code",
      "execution_count": 80,
      "metadata": {
        "id": "-a-dGXAiXTBj"
      },
      "outputs": [],
      "source": [
        "Z = np.array([(\"Hello\", 2.5, 3),\n",
        "              (\"World\", 3.6, 2)])\n",
        "R = np.core.records.fromarrays(Z.T,\n",
        "                               names='col1, col2, col3',\n",
        "                               formats = 'S8, f8, i8')"
      ]
    },
    {
      "cell_type": "markdown",
      "metadata": {
        "id": "GpWz2dipXTBk"
      },
      "source": [
        "#### 92. Consider a large vector Z, compute Z to the power of 3 using 3 different methods (★★★) \n",
        "(**hint**: np.power, \\*, np.einsum)"
      ]
    },
    {
      "cell_type": "code",
      "execution_count": 83,
      "metadata": {
        "id": "6GyPq-C3XTBk",
        "colab": {
          "base_uri": "https://localhost:8080/"
        },
        "outputId": "3bbe364b-425d-450d-e4d1-8f790d7a52e5"
      },
      "outputs": [
        {
          "output_type": "stream",
          "name": "stdout",
          "text": [
            "3.75 s ± 22.5 ms per loop (mean ± std. dev. of 7 runs, 1 loop each)\n",
            "144 ms ± 1.76 ms per loop (mean ± std. dev. of 7 runs, 10 loops each)\n",
            "120 ms ± 555 µs per loop (mean ± std. dev. of 7 runs, 10 loops each)\n"
          ]
        }
      ],
      "source": [
        "x = np.random.rand(int(5e7))\n",
        "\n",
        "%timeit np.power(x,3)\n",
        "%timeit x*x*x\n",
        "%timeit np.einsum('i,i,i->i',x,x,x)\n"
      ]
    },
    {
      "cell_type": "markdown",
      "metadata": {
        "id": "rngLT8wJXTBl"
      },
      "source": [
        "#### 93. Consider two arrays A and B of shape (8,3) and (2,2). How to find rows of A that contain elements of each row of B regardless of the order of the elements in B? (★★★) \n",
        "(**hint**: np.where)"
      ]
    },
    {
      "cell_type": "code",
      "execution_count": 84,
      "metadata": {
        "id": "3PTBSXWEXTBl",
        "colab": {
          "base_uri": "https://localhost:8080/"
        },
        "outputId": "199f4036-97a3-4cb1-d981-da8ed596e52e"
      },
      "outputs": [
        {
          "output_type": "stream",
          "name": "stdout",
          "text": [
            "[0 1 2 3 4 6 7]\n"
          ]
        }
      ],
      "source": [
        "A = np.random.randint(0,5,(8,3))\n",
        "B = np.random.randint(0,5,(2,2))\n",
        "\n",
        "C = (A[..., np.newaxis, np.newaxis] == B)\n",
        "rows = (C.sum(axis=(1,2,3)) >= B.shape[1]).nonzero()[0]\n",
        "print(rows)"
      ]
    },
    {
      "cell_type": "markdown",
      "metadata": {
        "id": "9WvqexyZXTBm"
      },
      "source": [
        "#### 94. Considering a 10x3 matrix, extract rows with unequal values (e.g. \\[2,2,3\\]) (★★★)"
      ]
    },
    {
      "cell_type": "code",
      "execution_count": 85,
      "metadata": {
        "id": "4qrk98NjXTBn",
        "colab": {
          "base_uri": "https://localhost:8080/"
        },
        "outputId": "364a776d-0125-4940-9f02-898e3ac51afa"
      },
      "outputs": [
        {
          "output_type": "stream",
          "name": "stdout",
          "text": [
            "[[0 3 0]\n",
            " [0 2 1]\n",
            " [3 4 2]\n",
            " [0 2 0]\n",
            " [1 4 4]\n",
            " [1 4 3]\n",
            " [3 2 0]\n",
            " [3 3 4]\n",
            " [3 0 3]\n",
            " [0 2 0]]\n",
            "[[0 3 0]\n",
            " [0 2 1]\n",
            " [3 4 2]\n",
            " [0 2 0]\n",
            " [1 4 4]\n",
            " [1 4 3]\n",
            " [3 2 0]\n",
            " [3 3 4]\n",
            " [3 0 3]\n",
            " [0 2 0]]\n"
          ]
        }
      ],
      "source": [
        "Z = np.random.randint(0,5,(10,3))\n",
        "E = np.logical_and.reduce(Z[:,1:] == Z[:,:-1], axis=1)\n",
        "U = Z[~E]\n",
        "print(Z)\n",
        "print(U)"
      ]
    },
    {
      "cell_type": "markdown",
      "metadata": {
        "id": "BazcYZhUXTBo"
      },
      "source": [
        "#### 95. Convert a vector of ints into a matrix binary representation (★★★) \n",
        "(**hint**: np.unpackbits)"
      ]
    },
    {
      "cell_type": "code",
      "execution_count": 86,
      "metadata": {
        "id": "BSSQTPyZXTBo",
        "colab": {
          "base_uri": "https://localhost:8080/"
        },
        "outputId": "f522c45d-ee50-4208-cd9e-90d3710c10ad"
      },
      "outputs": [
        {
          "output_type": "stream",
          "name": "stdout",
          "text": [
            "[[0 0 0 0 0 0 0 0]\n",
            " [0 0 0 0 0 0 0 1]\n",
            " [0 0 0 0 0 0 1 0]\n",
            " [0 0 0 0 0 0 1 1]\n",
            " [0 0 0 0 1 1 1 1]\n",
            " [0 0 0 1 0 0 0 0]\n",
            " [0 0 1 0 0 0 0 0]\n",
            " [0 1 0 0 0 0 0 0]\n",
            " [1 0 0 0 0 0 0 0]]\n"
          ]
        }
      ],
      "source": [
        "I = np.array([0, 1, 2, 3, 15, 16, 32, 64, 128], dtype=np.uint8)\n",
        "print(np.unpackbits(I[:, np.newaxis], axis=1))\n"
      ]
    },
    {
      "cell_type": "markdown",
      "metadata": {
        "id": "Y3wJ5m7zXTBo"
      },
      "source": [
        "#### 96. Given a two dimensional array, how to extract unique rows? (★★★) \n",
        "(**hint**: np.ascontiguousarray)"
      ]
    },
    {
      "cell_type": "code",
      "execution_count": 87,
      "metadata": {
        "id": "2sFaRyobXTBp",
        "colab": {
          "base_uri": "https://localhost:8080/"
        },
        "outputId": "5382e047-020e-4fd3-c7a3-8994436c4a5b"
      },
      "outputs": [
        {
          "output_type": "stream",
          "name": "stdout",
          "text": [
            "[[0 0 1]\n",
            " [0 1 0]\n",
            " [1 0 1]\n",
            " [1 1 0]]\n"
          ]
        }
      ],
      "source": [
        "Z = np.random.randint(0,2,(6,3))\n",
        "T = np.ascontiguousarray(Z).view(np.dtype((np.void, Z.dtype.itemsize * Z.shape[1])))\n",
        "_, idx = np.unique(T, return_index=True)\n",
        "uZ = Z[idx]\n",
        "print(uZ)"
      ]
    },
    {
      "cell_type": "markdown",
      "metadata": {
        "id": "vSoqKO7tXTBp"
      },
      "source": [
        "#### 97. Considering 2 vectors A & B, write the einsum equivalent of inner, outer, sum, and mul function (★★★) \n",
        "(**hint**: np.einsum)"
      ]
    },
    {
      "cell_type": "code",
      "execution_count": 89,
      "metadata": {
        "id": "2NQ_4I_hXTBq",
        "colab": {
          "base_uri": "https://localhost:8080/"
        },
        "outputId": "fabc6b78-e198-4586-afe3-283bcf9231c5"
      },
      "outputs": [
        {
          "output_type": "execute_result",
          "data": {
            "text/plain": [
              "array([[1.96062889e-02, 5.81053050e-01, 2.83526478e-01, 6.13483474e-01,\n",
              "        3.59328666e-01, 3.49026897e-03, 6.75169274e-01, 2.37193135e-01,\n",
              "        2.32780193e-01, 6.51167724e-01],\n",
              "       [7.71176361e-03, 2.28546248e-01, 1.11519788e-01, 2.41302143e-01,\n",
              "        1.41335147e-01, 1.37283141e-03, 2.65565088e-01, 9.32954422e-02,\n",
              "        9.15596945e-02, 2.56124532e-01],\n",
              "       [6.64349345e-03, 1.96886935e-01, 9.60715367e-02, 2.07875823e-01,\n",
              "        1.21756731e-01, 1.18266028e-03, 2.28777750e-01, 8.03717140e-02,\n",
              "        7.88764103e-02, 2.20644944e-01],\n",
              "       [1.88001453e-02, 5.57162136e-01, 2.71868839e-01, 5.88259132e-01,\n",
              "        3.44554300e-01, 3.34676105e-03, 6.47408623e-01, 2.27440565e-01,\n",
              "        2.23209067e-01, 6.24393934e-01],\n",
              "       [1.17956047e-02, 3.49575186e-01, 1.70576200e-01, 3.69086092e-01,\n",
              "        2.16180579e-01, 2.09982793e-03, 4.06197720e-01, 1.42700971e-01,\n",
              "        1.40046041e-01, 3.91757823e-01],\n",
              "       [1.19326409e-02, 3.53636400e-01, 1.72557881e-01, 3.73373976e-01,\n",
              "        2.18692073e-01, 2.12422283e-03, 4.10916751e-01, 1.44358810e-01,\n",
              "        1.41673035e-01, 3.96309097e-01],\n",
              "       [1.29170511e-02, 3.82810435e-01, 1.86793434e-01, 4.04176306e-01,\n",
              "        2.36733570e-01, 2.29946540e-03, 4.44816258e-01, 1.56268016e-01,\n",
              "        1.53360673e-01, 4.29003512e-01],\n",
              "       [4.35271105e-03, 1.28997183e-01, 6.29445400e-02, 1.36196927e-01,\n",
              "        7.97730699e-02, 7.74860169e-04, 1.49891536e-01, 5.26582663e-02,\n",
              "        5.16785672e-02, 1.44563051e-01],\n",
              "       [1.65355864e-02, 4.90049544e-01, 2.39121060e-01, 5.17400772e-01,\n",
              "        3.03051242e-01, 2.94362919e-03, 5.69425450e-01, 2.00044364e-01,\n",
              "        1.96322569e-01, 5.49182981e-01],\n",
              "       [2.25885923e-03, 6.69436759e-02, 3.26653559e-02, 7.06800160e-02,\n",
              "        4.13985982e-02, 4.02117216e-04, 7.77868958e-02, 2.73272473e-02,\n",
              "        2.68188279e-02, 7.50216543e-02]])"
            ]
          },
          "metadata": {},
          "execution_count": 89
        }
      ],
      "source": [
        "A = np.random.uniform(0,1,10)\n",
        "B = np.random.uniform(0,1,10)\n",
        "\n",
        "np.einsum('i->', A)       # np.sum(A)\n",
        "np.einsum('i,i->i', A, B) # A * B\n",
        "np.einsum('i,i', A, B)    # np.inner(A, B)\n",
        "np.einsum('i,j->ij', A, B)"
      ]
    },
    {
      "cell_type": "markdown",
      "metadata": {
        "id": "eJ1liHH-XTBr"
      },
      "source": [
        "#### 98. Considering a path described by two vectors (X,Y), how to sample it using equidistant samples (★★★)? \n",
        "(**hint**: np.cumsum, np.interp)"
      ]
    },
    {
      "cell_type": "code",
      "execution_count": 90,
      "metadata": {
        "collapsed": true,
        "id": "R2f6F4iOXTEh"
      },
      "outputs": [],
      "source": [
        "phi = np.arange(0, 10*np.pi, 0.1)\n",
        "a = 1\n",
        "x = a*phi*np.cos(phi)\n",
        "y = a*phi*np.sin(phi)\n",
        "\n",
        "dr = (np.diff(x)**2 + np.diff(y)**2)**.5 # segment lengths\n",
        "r = np.zeros_like(x)\n",
        "r[1:] = np.cumsum(dr)                # integrate path\n",
        "r_int = np.linspace(0, r.max(), 200) # regular spaced path\n",
        "x_int = np.interp(r_int, r, x)       # integrate path\n",
        "y_int = np.interp(r_int, r, y)"
      ]
    },
    {
      "cell_type": "markdown",
      "metadata": {
        "id": "FEvg20wGXTEi"
      },
      "source": [
        "#### 99. Given an integer n and a 2D array X, select from X the rows which can be interpreted as draws from a multinomial distribution with n degrees, i.e., the rows which only contain integers and which sum to n. (★★★) \n",
        "(**hint**: np.logical\\_and.reduce, np.mod)"
      ]
    },
    {
      "cell_type": "code",
      "execution_count": 91,
      "metadata": {
        "id": "hcX246y2XTEj",
        "colab": {
          "base_uri": "https://localhost:8080/"
        },
        "outputId": "40853ef1-8117-486c-ca6c-54a7fc56d489"
      },
      "outputs": [
        {
          "output_type": "stream",
          "name": "stdout",
          "text": [
            "[[2. 0. 1. 1.]]\n"
          ]
        }
      ],
      "source": [
        "X = np.asarray([[1.0, 0.0, 3.0, 8.0],\n",
        "                [2.0, 0.0, 1.0, 1.0],\n",
        "                [1.5, 2.5, 1.0, 0.0]])\n",
        "n = 4\n",
        "M = np.logical_and.reduce(np.mod(X, 1) == 0, axis=-1)\n",
        "M &= (X.sum(axis=-1) == n)\n",
        "print(X[M])"
      ]
    },
    {
      "cell_type": "markdown",
      "metadata": {
        "id": "7mllcHavXTEj"
      },
      "source": [
        "#### 100. Compute bootstrapped 95% confidence intervals for the mean of a 1D array X (i.e., resample the elements of an array with replacement N times, compute the mean of each sample, and then compute percentiles over the means). (★★★) \n",
        "(**hint**: np.percentile)"
      ]
    },
    {
      "cell_type": "code",
      "execution_count": 92,
      "metadata": {
        "id": "BuqfxFX9XTEk",
        "colab": {
          "base_uri": "https://localhost:8080/"
        },
        "outputId": "d05dd0ff-6c14-4b6b-fc2a-8f49ac1e7d0c"
      },
      "outputs": [
        {
          "output_type": "stream",
          "name": "stdout",
          "text": [
            "[-0.24310414  0.14277471]\n"
          ]
        }
      ],
      "source": [
        "X = np.random.randn(100) # random 1D array\n",
        "N = 1000 # number of bootstrap samples\n",
        "idx = np.random.randint(0, X.size, (N, X.size))\n",
        "means = X[idx].mean(axis=1)\n",
        "confint = np.percentile(means, [2.5, 97.5])\n",
        "print(confint)"
      ]
    },
    {
      "cell_type": "code",
      "source": [],
      "metadata": {
        "id": "0GPQWObg4G5W"
      },
      "execution_count": null,
      "outputs": []
    }
  ],
  "metadata": {
    "kernelspec": {
      "display_name": "Python 3",
      "language": "python",
      "name": "python3"
    },
    "language_info": {
      "codemirror_mode": {
        "name": "ipython",
        "version": 3
      },
      "file_extension": ".py",
      "mimetype": "text/x-python",
      "name": "python",
      "nbconvert_exporter": "python",
      "pygments_lexer": "ipython3",
      "version": "3.8.3"
    },
    "colab": {
      "provenance": [],
      "collapsed_sections": [
        "Yw-myXbHXTAs",
        "9OTChp7vXTA_",
        "SSEO5EYOXTBH",
        "RkxqnPuZXTBN",
        "G7_YjZ38XTBP",
        "BQ8BmM7DXTBQ",
        "iEfRjIX9XTBR",
        "6MRSQRY9XTBS",
        "TeGo20bIXTBS",
        "rDYHsjRDXTBT",
        "NtElGq9wXTBU",
        "eWpD9FkgXTBV",
        "GhcP0DcPXTBW",
        "2HbxsORcXTBX",
        "yiRq5AO0XTBY",
        "Z0t99PG8XTBa",
        "6M41Y0iwXTBe",
        "TcDEWPMIXTBg",
        "fnnoMkcIXTBh",
        "lmWBRDYkXTBj",
        "GpWz2dipXTBk",
        "rngLT8wJXTBl",
        "9WvqexyZXTBm",
        "BazcYZhUXTBo"
      ],
      "include_colab_link": true
    }
  },
  "nbformat": 4,
  "nbformat_minor": 0
}